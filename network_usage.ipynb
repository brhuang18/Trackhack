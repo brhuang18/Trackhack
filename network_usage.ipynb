{
 "cells": [
  {
   "cell_type": "code",
   "execution_count": 2,
   "metadata": {
    "button": false,
    "new_sheet": false,
    "run_control": {
     "read_only": false
    },
    "scrolled": true
   },
   "outputs": [
    {
     "name": "stdout",
     "output_type": "stream",
     "text": [
      "Requirement already satisfied: pandas==1.0.3 in /opt/conda/lib/python3.7/site-packages (1.0.3)\n",
      "Requirement already satisfied: numpy>=1.13.3 in /opt/conda/lib/python3.7/site-packages (from pandas==1.0.3) (1.19.2)\n",
      "Requirement already satisfied: python-dateutil>=2.6.1 in /opt/conda/lib/python3.7/site-packages (from pandas==1.0.3) (2.8.1)\n",
      "Requirement already satisfied: pytz>=2017.2 in /opt/conda/lib/python3.7/site-packages (from pandas==1.0.3) (2020.1)\n",
      "Requirement already satisfied: six>=1.5 in /opt/conda/lib/python3.7/site-packages (from python-dateutil>=2.6.1->pandas==1.0.3) (1.14.0)\n",
      "\u001b[33mWARNING: You are using pip version 21.0.1; however, version 21.1 is available.\n",
      "You should consider upgrading via the '/opt/conda/bin/python3.7 -m pip install --upgrade pip' command.\u001b[0m\n"
     ]
    }
   ],
   "source": [
    "# installing 1.0.3 because this version of pandas supports write to s3\n",
    "!pip install pandas==1.0.3"
   ]
  },
  {
   "cell_type": "markdown",
   "metadata": {
    "button": false,
    "heading_collapsed": true,
    "hidden": true,
    "new_sheet": false,
    "run_control": {
     "read_only": false
    }
   },
   "source": [
    "## Upgrades"
   ]
  },
  {
   "cell_type": "code",
   "execution_count": 3,
   "metadata": {
    "ExecuteTime": {
     "end_time": "2021-04-02T20:42:51.466922Z",
     "start_time": "2021-04-02T20:42:51.464109Z"
    },
    "button": false,
    "hidden": true,
    "new_sheet": false,
    "run_control": {
     "read_only": false
    }
   },
   "outputs": [],
   "source": [
    "# This path will be active after the launch of the hackathon\n",
    "teamname = '9417-brhuang-unsw'\n",
    "data_folder='s3://tf-trachack-data/212/'\n",
    "# change root_folder to your team's root folder\n",
    "# s3://tf-trachack-notebooks/<this should be replaced by team name as provided in EMAIL>/jupyter/jovyan/\n",
    "root_folder='s3://tf-trachack-notebooks/'+'9417-brhuang-unsw'+'/jupyter/jovyan/'"
   ]
  },
  {
   "cell_type": "code",
   "execution_count": 4,
   "metadata": {
    "ExecuteTime": {
     "end_time": "2021-04-02T20:42:54.135047Z",
     "start_time": "2021-04-02T20:42:51.470558Z"
    },
    "button": false,
    "hidden": true,
    "new_sheet": false,
    "run_control": {
     "read_only": false
    }
   },
   "outputs": [
    {
     "data": {
      "text/html": [
       "<div>\n",
       "<style scoped>\n",
       "    .dataframe tbody tr th:only-of-type {\n",
       "        vertical-align: middle;\n",
       "    }\n",
       "\n",
       "    .dataframe tbody tr th {\n",
       "        vertical-align: top;\n",
       "    }\n",
       "\n",
       "    .dataframe thead th {\n",
       "        text-align: right;\n",
       "    }\n",
       "</style>\n",
       "<table border=\"1\" class=\"dataframe\">\n",
       "  <thead>\n",
       "    <tr style=\"text-align: right;\">\n",
       "      <th></th>\n",
       "      <th>line_id</th>\n",
       "      <th>date_observed</th>\n",
       "      <th>upgrade</th>\n",
       "    </tr>\n",
       "  </thead>\n",
       "  <tbody>\n",
       "    <tr>\n",
       "      <th>0</th>\n",
       "      <td>f0b99d3b-32f7-4464-8fa8-87f27c9810a8</td>\n",
       "      <td>2021-03-14</td>\n",
       "      <td>yes</td>\n",
       "    </tr>\n",
       "    <tr>\n",
       "      <th>1</th>\n",
       "      <td>a2ec0baf-1720-4b1b-bfa3-db00ac8fcb00</td>\n",
       "      <td>2021-03-10</td>\n",
       "      <td>yes</td>\n",
       "    </tr>\n",
       "  </tbody>\n",
       "</table>\n",
       "</div>"
      ],
      "text/plain": [
       "                                line_id date_observed upgrade\n",
       "0  f0b99d3b-32f7-4464-8fa8-87f27c9810a8    2021-03-14     yes\n",
       "1  a2ec0baf-1720-4b1b-bfa3-db00ac8fcb00    2021-03-10     yes"
      ]
     },
     "execution_count": 4,
     "metadata": {},
     "output_type": "execute_result"
    }
   ],
   "source": [
    "import pandas as pd\n",
    "upgrades=pd.read_csv(data_folder+\"data/dev/upgrades.csv\")\n",
    "upgrades.head(2)"
   ]
  },
  {
   "cell_type": "code",
   "execution_count": 4,
   "metadata": {
    "ExecuteTime": {
     "end_time": "2021-04-02T20:42:54.142819Z",
     "start_time": "2021-04-02T20:42:54.137867Z"
    },
    "button": false,
    "hidden": true,
    "new_sheet": false,
    "run_control": {
     "read_only": false
    }
   },
   "outputs": [
    {
     "data": {
      "text/plain": [
       "55868"
      ]
     },
     "execution_count": 4,
     "metadata": {},
     "output_type": "execute_result"
    }
   ],
   "source": [
    "len(upgrades)"
   ]
  },
  {
   "cell_type": "code",
   "execution_count": 5,
   "metadata": {},
   "outputs": [
    {
     "data": {
      "text/plain": [
       "55868"
      ]
     },
     "execution_count": 5,
     "metadata": {},
     "output_type": "execute_result"
    }
   ],
   "source": [
    "upgrades['line_id'].nunique()"
   ]
  },
  {
   "cell_type": "markdown",
   "metadata": {
    "button": false,
    "hidden": true,
    "new_sheet": false,
    "run_control": {
     "read_only": false
    }
   },
   "source": [
    "The goal of the challenge is to predict upgrade. These examples have labels from historical data."
   ]
  },
  {
   "cell_type": "code",
   "execution_count": 6,
   "metadata": {
    "ExecuteTime": {
     "end_time": "2021-04-02T20:42:54.154556Z",
     "start_time": "2021-04-02T20:42:54.146072Z"
    },
    "button": false,
    "hidden": true,
    "new_sheet": false,
    "run_control": {
     "read_only": false
    }
   },
   "outputs": [
    {
     "data": {
      "text/plain": [
       "no     40694\n",
       "yes    15174\n",
       "Name: upgrade, dtype: int64"
      ]
     },
     "execution_count": 6,
     "metadata": {},
     "output_type": "execute_result"
    }
   ],
   "source": [
    "upgrades['upgrade'].value_counts()"
   ]
  },
  {
   "cell_type": "markdown",
   "metadata": {
    "button": false,
    "heading_collapsed": true,
    "hidden": true,
    "new_sheet": false,
    "run_control": {
     "read_only": false
    }
   },
   "source": [
    "## Network Usage Domestic"
   ]
  },
  {
   "cell_type": "code",
   "execution_count": 5,
   "metadata": {
    "ExecuteTime": {
     "end_time": "2021-04-02T20:43:09.878722Z",
     "start_time": "2021-04-02T20:42:57.305628Z"
    },
    "button": false,
    "hidden": true,
    "new_sheet": false,
    "run_control": {
     "read_only": false
    }
   },
   "outputs": [
    {
     "data": {
      "text/html": [
       "<div>\n",
       "<style scoped>\n",
       "    .dataframe tbody tr th:only-of-type {\n",
       "        vertical-align: middle;\n",
       "    }\n",
       "\n",
       "    .dataframe tbody tr th {\n",
       "        vertical-align: top;\n",
       "    }\n",
       "\n",
       "    .dataframe thead th {\n",
       "        text-align: right;\n",
       "    }\n",
       "</style>\n",
       "<table border=\"1\" class=\"dataframe\">\n",
       "  <thead>\n",
       "    <tr style=\"text-align: right;\">\n",
       "      <th></th>\n",
       "      <th>line_id</th>\n",
       "      <th>date</th>\n",
       "      <th>hotspot_kb</th>\n",
       "      <th>kb_5g</th>\n",
       "      <th>mms_in</th>\n",
       "      <th>mms_out</th>\n",
       "      <th>sms_in</th>\n",
       "      <th>sms_out</th>\n",
       "      <th>total_kb</th>\n",
       "      <th>voice_count_in</th>\n",
       "      <th>voice_count_total</th>\n",
       "      <th>voice_min_in</th>\n",
       "      <th>voice_min_out</th>\n",
       "    </tr>\n",
       "  </thead>\n",
       "  <tbody>\n",
       "    <tr>\n",
       "      <th>0</th>\n",
       "      <td>24daa57d-c261-444c-afd4-c107a53d638e</td>\n",
       "      <td>2021-02-04</td>\n",
       "      <td>0.000000</td>\n",
       "      <td>0.0</td>\n",
       "      <td>0</td>\n",
       "      <td>0</td>\n",
       "      <td>10</td>\n",
       "      <td>7</td>\n",
       "      <td>7.533189e+05</td>\n",
       "      <td>5</td>\n",
       "      <td>8</td>\n",
       "      <td>7</td>\n",
       "      <td>4</td>\n",
       "    </tr>\n",
       "    <tr>\n",
       "      <th>1</th>\n",
       "      <td>8ba9b32c-3df3-4145-81ac-f334763a6f43</td>\n",
       "      <td>2021-02-13</td>\n",
       "      <td>166455.194336</td>\n",
       "      <td>0.0</td>\n",
       "      <td>0</td>\n",
       "      <td>0</td>\n",
       "      <td>6</td>\n",
       "      <td>9</td>\n",
       "      <td>2.750695e+06</td>\n",
       "      <td>0</td>\n",
       "      <td>2</td>\n",
       "      <td>0</td>\n",
       "      <td>3</td>\n",
       "    </tr>\n",
       "  </tbody>\n",
       "</table>\n",
       "</div>"
      ],
      "text/plain": [
       "                                line_id        date     hotspot_kb  kb_5g  \\\n",
       "0  24daa57d-c261-444c-afd4-c107a53d638e  2021-02-04       0.000000    0.0   \n",
       "1  8ba9b32c-3df3-4145-81ac-f334763a6f43  2021-02-13  166455.194336    0.0   \n",
       "\n",
       "   mms_in  mms_out  sms_in  sms_out      total_kb  voice_count_in  \\\n",
       "0       0        0      10        7  7.533189e+05               5   \n",
       "1       0        0       6        9  2.750695e+06               0   \n",
       "\n",
       "   voice_count_total  voice_min_in  voice_min_out  \n",
       "0                  8             7              4  \n",
       "1                  2             0              3  "
      ]
     },
     "execution_count": 5,
     "metadata": {},
     "output_type": "execute_result"
    }
   ],
   "source": [
    "network_usage_domestic=pd.read_csv(data_folder+\"data/dev/network_usage_domestic.csv\")\n",
    "network_usage_domestic.head(2)"
   ]
  },
  {
   "cell_type": "code",
   "execution_count": 11,
   "metadata": {
    "ExecuteTime": {
     "end_time": "2021-04-02T20:43:09.885757Z",
     "start_time": "2021-04-02T20:43:09.880467Z"
    },
    "button": false,
    "hidden": true,
    "new_sheet": false,
    "run_control": {
     "read_only": false
    }
   },
   "outputs": [
    {
     "data": {
      "text/plain": [
       "6381966"
      ]
     },
     "execution_count": 11,
     "metadata": {},
     "output_type": "execute_result"
    }
   ],
   "source": [
    "len(network_usage_domestic)"
   ]
  },
  {
   "cell_type": "code",
   "execution_count": 137,
   "metadata": {},
   "outputs": [
    {
     "data": {
      "text/plain": [
       "55118"
      ]
     },
     "execution_count": 137,
     "metadata": {},
     "output_type": "execute_result"
    }
   ],
   "source": [
    "##55868 750 people never used the network\n",
    "network_usage_domestic['line_id'].nunique()"
   ]
  },
  {
   "cell_type": "code",
   "execution_count": 67,
   "metadata": {},
   "outputs": [],
   "source": [
    "#Take care of Nulls\n",
    "#Drop unnecessary columns\n",
    "#Feature Engineer\n",
    "#Scale numerical if necessary\n",
    "#mms = multimedia message\n",
    "#plot date vs frequency\n",
    "\n",
    "#create var\n",
    "#count_call_out\n",
    "#total voice"
   ]
  },
  {
   "cell_type": "code",
   "execution_count": 5,
   "metadata": {},
   "outputs": [
    {
     "data": {
      "text/html": [
       "<div>\n",
       "<style scoped>\n",
       "    .dataframe tbody tr th:only-of-type {\n",
       "        vertical-align: middle;\n",
       "    }\n",
       "\n",
       "    .dataframe tbody tr th {\n",
       "        vertical-align: top;\n",
       "    }\n",
       "\n",
       "    .dataframe thead th {\n",
       "        text-align: right;\n",
       "    }\n",
       "</style>\n",
       "<table border=\"1\" class=\"dataframe\">\n",
       "  <thead>\n",
       "    <tr style=\"text-align: right;\">\n",
       "      <th></th>\n",
       "      <th>line_id</th>\n",
       "      <th>date</th>\n",
       "      <th>hotspot_kb</th>\n",
       "      <th>kb_5g</th>\n",
       "      <th>mms_in</th>\n",
       "      <th>mms_out</th>\n",
       "      <th>sms_in</th>\n",
       "      <th>sms_out</th>\n",
       "      <th>total_kb</th>\n",
       "      <th>voice_count_in</th>\n",
       "      <th>voice_count_total</th>\n",
       "      <th>voice_min_in</th>\n",
       "      <th>voice_min_out</th>\n",
       "    </tr>\n",
       "  </thead>\n",
       "  <tbody>\n",
       "  </tbody>\n",
       "</table>\n",
       "</div>"
      ],
      "text/plain": [
       "Empty DataFrame\n",
       "Columns: [line_id, date, hotspot_kb, kb_5g, mms_in, mms_out, sms_in, sms_out, total_kb, voice_count_in, voice_count_total, voice_min_in, voice_min_out]\n",
       "Index: []"
      ]
     },
     "execution_count": 5,
     "metadata": {},
     "output_type": "execute_result"
    }
   ],
   "source": [
    "#no nan\n",
    "network_usage_domestic[network_usage_domestic.isnull().any(axis=1)]"
   ]
  },
  {
   "cell_type": "code",
   "execution_count": 69,
   "metadata": {},
   "outputs": [
    {
     "data": {
      "text/plain": [
       "count    6.381966e+06\n",
       "mean     1.548585e+04\n",
       "std      2.580832e+05\n",
       "min      0.000000e+00\n",
       "25%      0.000000e+00\n",
       "50%      0.000000e+00\n",
       "75%      0.000000e+00\n",
       "max      7.107637e+07\n",
       "Name: hotspot_kb, dtype: float64"
      ]
     },
     "execution_count": 69,
     "metadata": {},
     "output_type": "execute_result"
    }
   ],
   "source": [
    "network_usage_domestic['hotspot_kb'].describe()"
   ]
  },
  {
   "cell_type": "code",
   "execution_count": 70,
   "metadata": {},
   "outputs": [
    {
     "data": {
      "text/plain": [
       "count    6.381966e+06\n",
       "mean     8.359111e+01\n",
       "std      1.751076e+04\n",
       "min      0.000000e+00\n",
       "25%      0.000000e+00\n",
       "50%      0.000000e+00\n",
       "75%      0.000000e+00\n",
       "max      1.134862e+07\n",
       "Name: kb_5g, dtype: float64"
      ]
     },
     "execution_count": 70,
     "metadata": {},
     "output_type": "execute_result"
    }
   ],
   "source": [
    "network_usage_domestic['kb_5g'].describe()"
   ]
  },
  {
   "cell_type": "code",
   "execution_count": 71,
   "metadata": {
    "scrolled": true
   },
   "outputs": [
    {
     "data": {
      "text/plain": [
       "count        6381966\n",
       "unique           184\n",
       "top       2021-02-27\n",
       "freq           47842\n",
       "Name: date, dtype: object"
      ]
     },
     "execution_count": 71,
     "metadata": {},
     "output_type": "execute_result"
    }
   ],
   "source": [
    "network_usage_domestic['date'].max()\n",
    "network_usage_domestic['date'].min()\n",
    "network_usage_domestic['date'].describe()"
   ]
  },
  {
   "cell_type": "code",
   "execution_count": 72,
   "metadata": {},
   "outputs": [
    {
     "data": {
      "text/plain": [
       "count    6.381966e+06\n",
       "mean     9.337289e-01\n",
       "std      5.759182e+00\n",
       "min      0.000000e+00\n",
       "25%      0.000000e+00\n",
       "50%      0.000000e+00\n",
       "75%      0.000000e+00\n",
       "max      9.450000e+02\n",
       "Name: mms_in, dtype: float64"
      ]
     },
     "execution_count": 72,
     "metadata": {},
     "output_type": "execute_result"
    }
   ],
   "source": [
    "network_usage_domestic['mms_in'].describe()"
   ]
  },
  {
   "cell_type": "code",
   "execution_count": 73,
   "metadata": {},
   "outputs": [
    {
     "data": {
      "text/plain": [
       "count    6.381966e+06\n",
       "mean     8.848563e-01\n",
       "std      1.086619e+01\n",
       "min      0.000000e+00\n",
       "25%      0.000000e+00\n",
       "50%      0.000000e+00\n",
       "75%      0.000000e+00\n",
       "max      2.296000e+03\n",
       "Name: mms_out, dtype: float64"
      ]
     },
     "execution_count": 73,
     "metadata": {},
     "output_type": "execute_result"
    }
   ],
   "source": [
    "network_usage_domestic['mms_out'].describe()"
   ]
  },
  {
   "cell_type": "code",
   "execution_count": 74,
   "metadata": {},
   "outputs": [
    {
     "data": {
      "text/plain": [
       "count    6.381966e+06\n",
       "mean     8.445365e+00\n",
       "std      1.988291e+01\n",
       "min      0.000000e+00\n",
       "25%      0.000000e+00\n",
       "50%      2.000000e+00\n",
       "75%      8.000000e+00\n",
       "max      7.220000e+03\n",
       "Name: sms_in, dtype: float64"
      ]
     },
     "execution_count": 74,
     "metadata": {},
     "output_type": "execute_result"
    }
   ],
   "source": [
    "network_usage_domestic['sms_in'].describe()"
   ]
  },
  {
   "cell_type": "code",
   "execution_count": 75,
   "metadata": {},
   "outputs": [
    {
     "data": {
      "text/plain": [
       "count    6.381966e+06\n",
       "mean     7.114079e+00\n",
       "std      1.953407e+01\n",
       "min      0.000000e+00\n",
       "25%      0.000000e+00\n",
       "50%      1.000000e+00\n",
       "75%      6.000000e+00\n",
       "max      1.946000e+03\n",
       "Name: sms_out, dtype: float64"
      ]
     },
     "execution_count": 75,
     "metadata": {},
     "output_type": "execute_result"
    }
   ],
   "source": [
    "network_usage_domestic['sms_out'].describe()"
   ]
  },
  {
   "cell_type": "code",
   "execution_count": 76,
   "metadata": {},
   "outputs": [
    {
     "data": {
      "text/plain": [
       "count    6.381966e+06\n",
       "mean     4.338175e+05\n",
       "std      9.930464e+05\n",
       "min      0.000000e+00\n",
       "25%      3.123142e+03\n",
       "50%      8.081936e+04\n",
       "75%      4.410322e+05\n",
       "max      1.453400e+08\n",
       "Name: total_kb, dtype: float64"
      ]
     },
     "execution_count": 76,
     "metadata": {},
     "output_type": "execute_result"
    }
   ],
   "source": [
    "network_usage_domestic['total_kb'].describe()"
   ]
  },
  {
   "cell_type": "code",
   "execution_count": 77,
   "metadata": {},
   "outputs": [
    {
     "data": {
      "text/plain": [
       "count    6.381966e+06\n",
       "mean     2.112159e+00\n",
       "std      3.604793e+00\n",
       "min      0.000000e+00\n",
       "25%      0.000000e+00\n",
       "50%      1.000000e+00\n",
       "75%      3.000000e+00\n",
       "max      2.310000e+02\n",
       "Name: voice_count_in, dtype: float64"
      ]
     },
     "execution_count": 77,
     "metadata": {},
     "output_type": "execute_result"
    }
   ],
   "source": [
    "network_usage_domestic['voice_count_in'].describe()"
   ]
  },
  {
   "cell_type": "code",
   "execution_count": 78,
   "metadata": {},
   "outputs": [
    {
     "data": {
      "text/plain": [
       "count    6.381966e+06\n",
       "mean     5.859742e+00\n",
       "std      9.461043e+00\n",
       "min      0.000000e+00\n",
       "25%      0.000000e+00\n",
       "50%      3.000000e+00\n",
       "75%      7.000000e+00\n",
       "max      1.260000e+03\n",
       "Name: voice_count_total, dtype: float64"
      ]
     },
     "execution_count": 78,
     "metadata": {},
     "output_type": "execute_result"
    }
   ],
   "source": [
    "network_usage_domestic['voice_count_total'].describe()"
   ]
  },
  {
   "cell_type": "code",
   "execution_count": 79,
   "metadata": {},
   "outputs": [
    {
     "data": {
      "text/plain": [
       "count    6.381966e+06\n",
       "mean     1.161260e+01\n",
       "std      3.669051e+01\n",
       "min      0.000000e+00\n",
       "25%      0.000000e+00\n",
       "50%      1.000000e+00\n",
       "75%      9.000000e+00\n",
       "max      2.583000e+03\n",
       "Name: voice_min_in, dtype: float64"
      ]
     },
     "execution_count": 79,
     "metadata": {},
     "output_type": "execute_result"
    }
   ],
   "source": [
    "network_usage_domestic['voice_min_in'].describe()"
   ]
  },
  {
   "cell_type": "code",
   "execution_count": 80,
   "metadata": {},
   "outputs": [
    {
     "data": {
      "text/plain": [
       "count    6.381966e+06\n",
       "mean     1.457503e+01\n",
       "std      4.198206e+01\n",
       "min      0.000000e+00\n",
       "25%      0.000000e+00\n",
       "50%      2.000000e+00\n",
       "75%      1.300000e+01\n",
       "max      9.183000e+03\n",
       "Name: voice_min_out, dtype: float64"
      ]
     },
     "execution_count": 80,
     "metadata": {},
     "output_type": "execute_result"
    }
   ],
   "source": [
    "network_usage_domestic['voice_min_out'].describe()"
   ]
  },
  {
   "cell_type": "code",
   "execution_count": 81,
   "metadata": {},
   "outputs": [
    {
     "data": {
      "text/html": [
       "<div>\n",
       "<style scoped>\n",
       "    .dataframe tbody tr th:only-of-type {\n",
       "        vertical-align: middle;\n",
       "    }\n",
       "\n",
       "    .dataframe tbody tr th {\n",
       "        vertical-align: top;\n",
       "    }\n",
       "\n",
       "    .dataframe thead th {\n",
       "        text-align: right;\n",
       "    }\n",
       "</style>\n",
       "<table border=\"1\" class=\"dataframe\">\n",
       "  <thead>\n",
       "    <tr style=\"text-align: right;\">\n",
       "      <th></th>\n",
       "      <th>line_id</th>\n",
       "      <th>date</th>\n",
       "      <th>hotspot_kb</th>\n",
       "      <th>kb_5g</th>\n",
       "      <th>mms_in</th>\n",
       "      <th>mms_out</th>\n",
       "      <th>sms_in</th>\n",
       "      <th>sms_out</th>\n",
       "      <th>total_kb</th>\n",
       "      <th>voice_count_in</th>\n",
       "      <th>voice_count_total</th>\n",
       "      <th>voice_min_in</th>\n",
       "      <th>voice_min_out</th>\n",
       "    </tr>\n",
       "  </thead>\n",
       "  <tbody>\n",
       "    <tr>\n",
       "      <th>6315451</th>\n",
       "      <td>000027f8-7b65-407a-a90e-619e16f7cd60</td>\n",
       "      <td>2020-12-04</td>\n",
       "      <td>0.0</td>\n",
       "      <td>0.0</td>\n",
       "      <td>0</td>\n",
       "      <td>0</td>\n",
       "      <td>3</td>\n",
       "      <td>2</td>\n",
       "      <td>1.571288e+04</td>\n",
       "      <td>4</td>\n",
       "      <td>23</td>\n",
       "      <td>14</td>\n",
       "      <td>37</td>\n",
       "    </tr>\n",
       "    <tr>\n",
       "      <th>1545045</th>\n",
       "      <td>000027f8-7b65-407a-a90e-619e16f7cd60</td>\n",
       "      <td>2021-02-16</td>\n",
       "      <td>0.0</td>\n",
       "      <td>0.0</td>\n",
       "      <td>1</td>\n",
       "      <td>2</td>\n",
       "      <td>5</td>\n",
       "      <td>3</td>\n",
       "      <td>1.648305e+03</td>\n",
       "      <td>7</td>\n",
       "      <td>52</td>\n",
       "      <td>94</td>\n",
       "      <td>109</td>\n",
       "    </tr>\n",
       "    <tr>\n",
       "      <th>4076181</th>\n",
       "      <td>000027f8-7b65-407a-a90e-619e16f7cd60</td>\n",
       "      <td>2021-02-18</td>\n",
       "      <td>0.0</td>\n",
       "      <td>0.0</td>\n",
       "      <td>0</td>\n",
       "      <td>0</td>\n",
       "      <td>2</td>\n",
       "      <td>2</td>\n",
       "      <td>5.358496e+01</td>\n",
       "      <td>3</td>\n",
       "      <td>13</td>\n",
       "      <td>3</td>\n",
       "      <td>23</td>\n",
       "    </tr>\n",
       "    <tr>\n",
       "      <th>4076973</th>\n",
       "      <td>000027f8-7b65-407a-a90e-619e16f7cd60</td>\n",
       "      <td>2021-01-22</td>\n",
       "      <td>0.0</td>\n",
       "      <td>0.0</td>\n",
       "      <td>0</td>\n",
       "      <td>0</td>\n",
       "      <td>0</td>\n",
       "      <td>2</td>\n",
       "      <td>8.754013e+05</td>\n",
       "      <td>1</td>\n",
       "      <td>11</td>\n",
       "      <td>1</td>\n",
       "      <td>14</td>\n",
       "    </tr>\n",
       "    <tr>\n",
       "      <th>5590416</th>\n",
       "      <td>000027f8-7b65-407a-a90e-619e16f7cd60</td>\n",
       "      <td>2021-02-20</td>\n",
       "      <td>0.0</td>\n",
       "      <td>0.0</td>\n",
       "      <td>13</td>\n",
       "      <td>1</td>\n",
       "      <td>4</td>\n",
       "      <td>2</td>\n",
       "      <td>1.588432e+06</td>\n",
       "      <td>1</td>\n",
       "      <td>10</td>\n",
       "      <td>1</td>\n",
       "      <td>58</td>\n",
       "    </tr>\n",
       "    <tr>\n",
       "      <th>...</th>\n",
       "      <td>...</td>\n",
       "      <td>...</td>\n",
       "      <td>...</td>\n",
       "      <td>...</td>\n",
       "      <td>...</td>\n",
       "      <td>...</td>\n",
       "      <td>...</td>\n",
       "      <td>...</td>\n",
       "      <td>...</td>\n",
       "      <td>...</td>\n",
       "      <td>...</td>\n",
       "      <td>...</td>\n",
       "      <td>...</td>\n",
       "    </tr>\n",
       "    <tr>\n",
       "      <th>6111583</th>\n",
       "      <td>ffffad0a-7a92-43dd-b296-e9f4218630d8</td>\n",
       "      <td>2021-03-07</td>\n",
       "      <td>0.0</td>\n",
       "      <td>0.0</td>\n",
       "      <td>0</td>\n",
       "      <td>0</td>\n",
       "      <td>4</td>\n",
       "      <td>0</td>\n",
       "      <td>5.360000e+02</td>\n",
       "      <td>0</td>\n",
       "      <td>0</td>\n",
       "      <td>0</td>\n",
       "      <td>0</td>\n",
       "    </tr>\n",
       "    <tr>\n",
       "      <th>4812916</th>\n",
       "      <td>ffffad0a-7a92-43dd-b296-e9f4218630d8</td>\n",
       "      <td>2020-09-16</td>\n",
       "      <td>0.0</td>\n",
       "      <td>0.0</td>\n",
       "      <td>0</td>\n",
       "      <td>0</td>\n",
       "      <td>1</td>\n",
       "      <td>0</td>\n",
       "      <td>6.010000e+02</td>\n",
       "      <td>1</td>\n",
       "      <td>8</td>\n",
       "      <td>3</td>\n",
       "      <td>12</td>\n",
       "    </tr>\n",
       "    <tr>\n",
       "      <th>6111582</th>\n",
       "      <td>ffffad0a-7a92-43dd-b296-e9f4218630d8</td>\n",
       "      <td>2021-02-05</td>\n",
       "      <td>0.0</td>\n",
       "      <td>0.0</td>\n",
       "      <td>0</td>\n",
       "      <td>0</td>\n",
       "      <td>3</td>\n",
       "      <td>1</td>\n",
       "      <td>2.490400e+04</td>\n",
       "      <td>0</td>\n",
       "      <td>3</td>\n",
       "      <td>0</td>\n",
       "      <td>9</td>\n",
       "    </tr>\n",
       "    <tr>\n",
       "      <th>799728</th>\n",
       "      <td>ffffad0a-7a92-43dd-b296-e9f4218630d8</td>\n",
       "      <td>2020-10-30</td>\n",
       "      <td>0.0</td>\n",
       "      <td>0.0</td>\n",
       "      <td>0</td>\n",
       "      <td>0</td>\n",
       "      <td>10</td>\n",
       "      <td>3</td>\n",
       "      <td>4.373000e+03</td>\n",
       "      <td>0</td>\n",
       "      <td>0</td>\n",
       "      <td>0</td>\n",
       "      <td>0</td>\n",
       "    </tr>\n",
       "    <tr>\n",
       "      <th>1791286</th>\n",
       "      <td>ffffad0a-7a92-43dd-b296-e9f4218630d8</td>\n",
       "      <td>2020-12-10</td>\n",
       "      <td>0.0</td>\n",
       "      <td>0.0</td>\n",
       "      <td>0</td>\n",
       "      <td>0</td>\n",
       "      <td>2</td>\n",
       "      <td>1</td>\n",
       "      <td>3.200000e+01</td>\n",
       "      <td>1</td>\n",
       "      <td>2</td>\n",
       "      <td>3</td>\n",
       "      <td>1</td>\n",
       "    </tr>\n",
       "  </tbody>\n",
       "</table>\n",
       "<p>6381966 rows × 13 columns</p>\n",
       "</div>"
      ],
      "text/plain": [
       "                                      line_id        date  hotspot_kb  kb_5g  \\\n",
       "6315451  000027f8-7b65-407a-a90e-619e16f7cd60  2020-12-04         0.0    0.0   \n",
       "1545045  000027f8-7b65-407a-a90e-619e16f7cd60  2021-02-16         0.0    0.0   \n",
       "4076181  000027f8-7b65-407a-a90e-619e16f7cd60  2021-02-18         0.0    0.0   \n",
       "4076973  000027f8-7b65-407a-a90e-619e16f7cd60  2021-01-22         0.0    0.0   \n",
       "5590416  000027f8-7b65-407a-a90e-619e16f7cd60  2021-02-20         0.0    0.0   \n",
       "...                                       ...         ...         ...    ...   \n",
       "6111583  ffffad0a-7a92-43dd-b296-e9f4218630d8  2021-03-07         0.0    0.0   \n",
       "4812916  ffffad0a-7a92-43dd-b296-e9f4218630d8  2020-09-16         0.0    0.0   \n",
       "6111582  ffffad0a-7a92-43dd-b296-e9f4218630d8  2021-02-05         0.0    0.0   \n",
       "799728   ffffad0a-7a92-43dd-b296-e9f4218630d8  2020-10-30         0.0    0.0   \n",
       "1791286  ffffad0a-7a92-43dd-b296-e9f4218630d8  2020-12-10         0.0    0.0   \n",
       "\n",
       "         mms_in  mms_out  sms_in  sms_out      total_kb  voice_count_in  \\\n",
       "6315451       0        0       3        2  1.571288e+04               4   \n",
       "1545045       1        2       5        3  1.648305e+03               7   \n",
       "4076181       0        0       2        2  5.358496e+01               3   \n",
       "4076973       0        0       0        2  8.754013e+05               1   \n",
       "5590416      13        1       4        2  1.588432e+06               1   \n",
       "...         ...      ...     ...      ...           ...             ...   \n",
       "6111583       0        0       4        0  5.360000e+02               0   \n",
       "4812916       0        0       1        0  6.010000e+02               1   \n",
       "6111582       0        0       3        1  2.490400e+04               0   \n",
       "799728        0        0      10        3  4.373000e+03               0   \n",
       "1791286       0        0       2        1  3.200000e+01               1   \n",
       "\n",
       "         voice_count_total  voice_min_in  voice_min_out  \n",
       "6315451                 23            14             37  \n",
       "1545045                 52            94            109  \n",
       "4076181                 13             3             23  \n",
       "4076973                 11             1             14  \n",
       "5590416                 10             1             58  \n",
       "...                    ...           ...            ...  \n",
       "6111583                  0             0              0  \n",
       "4812916                  8             3             12  \n",
       "6111582                  3             0              9  \n",
       "799728                   0             0              0  \n",
       "1791286                  2             3              1  \n",
       "\n",
       "[6381966 rows x 13 columns]"
      ]
     },
     "execution_count": 81,
     "metadata": {},
     "output_type": "execute_result"
    }
   ],
   "source": [
    "network_usage_domestic.sort_values(by=['line_id'])"
   ]
  },
  {
   "cell_type": "code",
   "execution_count": null,
   "metadata": {},
   "outputs": [],
   "source": []
  },
  {
   "cell_type": "code",
   "execution_count": null,
   "metadata": {
    "scrolled": true
   },
   "outputs": [],
   "source": []
  },
  {
   "cell_type": "code",
   "execution_count": null,
   "metadata": {},
   "outputs": [],
   "source": []
  },
  {
   "cell_type": "code",
   "execution_count": 6,
   "metadata": {},
   "outputs": [],
   "source": [
    "last_date = network_usage_domestic[['line_id','date']].groupby(['line_id']).max()\n",
    "first_date = network_usage_domestic[['line_id','date']].groupby(['line_id']).min()\n",
    "##last_date and date_observed differ by a few days"
   ]
  },
  {
   "cell_type": "code",
   "execution_count": 7,
   "metadata": {},
   "outputs": [],
   "source": [
    "network_mean = network_usage_domestic.groupby(['line_id']).mean()"
   ]
  },
  {
   "cell_type": "code",
   "execution_count": 8,
   "metadata": {},
   "outputs": [],
   "source": [
    "network_mean['voice_min_total'] = network_mean.apply(lambda row: row.voice_min_in + row.voice_min_out, axis=1)\n",
    "network_mean['mms_total'] = network_mean.apply(lambda row: row.mms_in + row.mms_out, axis=1)\n",
    "network_mean['sms_total'] = network_mean.apply(lambda row: row.sms_in + row.sms_out, axis=1)\n",
    "network_mean['voice_count_out'] = network_mean.apply(lambda row: row.voice_count_total - row.voice_count_in, axis=1)"
   ]
  },
  {
   "cell_type": "code",
   "execution_count": 9,
   "metadata": {},
   "outputs": [],
   "source": [
    "import seaborn as sns\n",
    "from sklearn.preprocessing import OneHotEncoder, LabelEncoder"
   ]
  },
  {
   "cell_type": "code",
   "execution_count": 10,
   "metadata": {},
   "outputs": [],
   "source": [
    "network_mean = network_mean.merge(upgrades, left_on='line_id', right_on='line_id')\n",
    "network_mean = network_mean.merge(first_date, left_on='line_id', right_on='line_id')\n",
    "network_mean = network_mean.merge(last_date, left_on='line_id', right_on='line_id')"
   ]
  },
  {
   "cell_type": "code",
   "execution_count": null,
   "metadata": {},
   "outputs": [],
   "source": []
  },
  {
   "cell_type": "code",
   "execution_count": 11,
   "metadata": {},
   "outputs": [
    {
     "data": {
      "text/html": [
       "<div>\n",
       "<style scoped>\n",
       "    .dataframe tbody tr th:only-of-type {\n",
       "        vertical-align: middle;\n",
       "    }\n",
       "\n",
       "    .dataframe tbody tr th {\n",
       "        vertical-align: top;\n",
       "    }\n",
       "\n",
       "    .dataframe thead th {\n",
       "        text-align: right;\n",
       "    }\n",
       "</style>\n",
       "<table border=\"1\" class=\"dataframe\">\n",
       "  <thead>\n",
       "    <tr style=\"text-align: right;\">\n",
       "      <th></th>\n",
       "      <th>line_id</th>\n",
       "      <th>hotspot_kb</th>\n",
       "      <th>kb_5g</th>\n",
       "      <th>mms_in</th>\n",
       "      <th>mms_out</th>\n",
       "      <th>sms_in</th>\n",
       "      <th>sms_out</th>\n",
       "      <th>total_kb</th>\n",
       "      <th>voice_count_in</th>\n",
       "      <th>voice_count_total</th>\n",
       "      <th>voice_min_in</th>\n",
       "      <th>voice_min_out</th>\n",
       "      <th>voice_min_total</th>\n",
       "      <th>mms_total</th>\n",
       "      <th>sms_total</th>\n",
       "      <th>voice_count_out</th>\n",
       "      <th>date_observed</th>\n",
       "      <th>upgrade</th>\n",
       "      <th>date_x</th>\n",
       "      <th>date_y</th>\n",
       "    </tr>\n",
       "  </thead>\n",
       "  <tbody>\n",
       "    <tr>\n",
       "      <th>0</th>\n",
       "      <td>000027f8-7b65-407a-a90e-619e16f7cd60</td>\n",
       "      <td>0.0</td>\n",
       "      <td>0.0</td>\n",
       "      <td>0.479592</td>\n",
       "      <td>0.204082</td>\n",
       "      <td>4.040816</td>\n",
       "      <td>3.214286</td>\n",
       "      <td>296366.681212</td>\n",
       "      <td>3.204082</td>\n",
       "      <td>20.214286</td>\n",
       "      <td>20.193878</td>\n",
       "      <td>46.663265</td>\n",
       "      <td>66.857143</td>\n",
       "      <td>0.683673</td>\n",
       "      <td>7.255102</td>\n",
       "      <td>17.010204</td>\n",
       "      <td>2021-03-11</td>\n",
       "      <td>0</td>\n",
       "      <td>2020-12-01</td>\n",
       "      <td>2021-03-08</td>\n",
       "    </tr>\n",
       "    <tr>\n",
       "      <th>1</th>\n",
       "      <td>0000871b-a418-424b-b6f6-79cfc4db0a12</td>\n",
       "      <td>0.0</td>\n",
       "      <td>0.0</td>\n",
       "      <td>0.069444</td>\n",
       "      <td>0.000000</td>\n",
       "      <td>1.777778</td>\n",
       "      <td>1.263889</td>\n",
       "      <td>50172.835829</td>\n",
       "      <td>0.513889</td>\n",
       "      <td>1.222222</td>\n",
       "      <td>1.055556</td>\n",
       "      <td>2.944444</td>\n",
       "      <td>4.000000</td>\n",
       "      <td>0.069444</td>\n",
       "      <td>3.041667</td>\n",
       "      <td>0.708333</td>\n",
       "      <td>2021-03-11</td>\n",
       "      <td>0</td>\n",
       "      <td>2020-09-12</td>\n",
       "      <td>2021-03-10</td>\n",
       "    </tr>\n",
       "    <tr>\n",
       "      <th>2</th>\n",
       "      <td>00022391-6d4e-41bb-a0ca-2af25cec301d</td>\n",
       "      <td>0.0</td>\n",
       "      <td>0.0</td>\n",
       "      <td>0.201835</td>\n",
       "      <td>0.293578</td>\n",
       "      <td>2.788991</td>\n",
       "      <td>3.431193</td>\n",
       "      <td>100985.151654</td>\n",
       "      <td>0.440367</td>\n",
       "      <td>3.036697</td>\n",
       "      <td>0.889908</td>\n",
       "      <td>3.972477</td>\n",
       "      <td>4.862385</td>\n",
       "      <td>0.495413</td>\n",
       "      <td>6.220183</td>\n",
       "      <td>2.596330</td>\n",
       "      <td>2021-03-14</td>\n",
       "      <td>0</td>\n",
       "      <td>2020-09-15</td>\n",
       "      <td>2021-03-11</td>\n",
       "    </tr>\n",
       "    <tr>\n",
       "      <th>3</th>\n",
       "      <td>00040e10-1cd1-434c-bf4f-3fd3cc6ecdf8</td>\n",
       "      <td>0.0</td>\n",
       "      <td>0.0</td>\n",
       "      <td>0.564103</td>\n",
       "      <td>0.282051</td>\n",
       "      <td>15.923077</td>\n",
       "      <td>10.487179</td>\n",
       "      <td>124198.959961</td>\n",
       "      <td>1.448718</td>\n",
       "      <td>2.897436</td>\n",
       "      <td>3.089744</td>\n",
       "      <td>2.910256</td>\n",
       "      <td>6.000000</td>\n",
       "      <td>0.846154</td>\n",
       "      <td>26.410256</td>\n",
       "      <td>1.448718</td>\n",
       "      <td>2021-03-11</td>\n",
       "      <td>0</td>\n",
       "      <td>2020-12-23</td>\n",
       "      <td>2021-03-10</td>\n",
       "    </tr>\n",
       "    <tr>\n",
       "      <th>4</th>\n",
       "      <td>00044afe-35a4-4313-92ec-36618c83fb23</td>\n",
       "      <td>0.0</td>\n",
       "      <td>0.0</td>\n",
       "      <td>0.353293</td>\n",
       "      <td>0.041916</td>\n",
       "      <td>3.425150</td>\n",
       "      <td>2.329341</td>\n",
       "      <td>149104.967440</td>\n",
       "      <td>1.580838</td>\n",
       "      <td>3.131737</td>\n",
       "      <td>2.922156</td>\n",
       "      <td>3.754491</td>\n",
       "      <td>6.676647</td>\n",
       "      <td>0.395210</td>\n",
       "      <td>5.754491</td>\n",
       "      <td>1.550898</td>\n",
       "      <td>2021-03-11</td>\n",
       "      <td>0</td>\n",
       "      <td>2020-09-12</td>\n",
       "      <td>2021-03-10</td>\n",
       "    </tr>\n",
       "    <tr>\n",
       "      <th>...</th>\n",
       "      <td>...</td>\n",
       "      <td>...</td>\n",
       "      <td>...</td>\n",
       "      <td>...</td>\n",
       "      <td>...</td>\n",
       "      <td>...</td>\n",
       "      <td>...</td>\n",
       "      <td>...</td>\n",
       "      <td>...</td>\n",
       "      <td>...</td>\n",
       "      <td>...</td>\n",
       "      <td>...</td>\n",
       "      <td>...</td>\n",
       "      <td>...</td>\n",
       "      <td>...</td>\n",
       "      <td>...</td>\n",
       "      <td>...</td>\n",
       "      <td>...</td>\n",
       "      <td>...</td>\n",
       "      <td>...</td>\n",
       "    </tr>\n",
       "    <tr>\n",
       "      <th>55113</th>\n",
       "      <td>fffc0209-3cec-4a77-be13-2fff03ede88a</td>\n",
       "      <td>0.0</td>\n",
       "      <td>0.0</td>\n",
       "      <td>0.000000</td>\n",
       "      <td>0.043478</td>\n",
       "      <td>0.173913</td>\n",
       "      <td>0.000000</td>\n",
       "      <td>83672.802027</td>\n",
       "      <td>0.057971</td>\n",
       "      <td>0.115942</td>\n",
       "      <td>0.086957</td>\n",
       "      <td>0.115942</td>\n",
       "      <td>0.202899</td>\n",
       "      <td>0.043478</td>\n",
       "      <td>0.173913</td>\n",
       "      <td>0.057971</td>\n",
       "      <td>2021-03-14</td>\n",
       "      <td>0</td>\n",
       "      <td>2020-12-28</td>\n",
       "      <td>2021-03-13</td>\n",
       "    </tr>\n",
       "    <tr>\n",
       "      <th>55114</th>\n",
       "      <td>fffc2f64-85b9-4115-b782-52dbe497fdf6</td>\n",
       "      <td>0.0</td>\n",
       "      <td>0.0</td>\n",
       "      <td>0.166667</td>\n",
       "      <td>0.287879</td>\n",
       "      <td>0.969697</td>\n",
       "      <td>0.560606</td>\n",
       "      <td>211500.136112</td>\n",
       "      <td>0.257576</td>\n",
       "      <td>1.757576</td>\n",
       "      <td>0.590909</td>\n",
       "      <td>3.833333</td>\n",
       "      <td>4.424242</td>\n",
       "      <td>0.454545</td>\n",
       "      <td>1.530303</td>\n",
       "      <td>1.500000</td>\n",
       "      <td>2021-03-11</td>\n",
       "      <td>0</td>\n",
       "      <td>2020-12-24</td>\n",
       "      <td>2021-03-10</td>\n",
       "    </tr>\n",
       "    <tr>\n",
       "      <th>55115</th>\n",
       "      <td>fffee791-298d-4a18-975b-ac3f64938790</td>\n",
       "      <td>0.0</td>\n",
       "      <td>0.0</td>\n",
       "      <td>0.150000</td>\n",
       "      <td>0.250000</td>\n",
       "      <td>12.805556</td>\n",
       "      <td>14.377778</td>\n",
       "      <td>865735.257395</td>\n",
       "      <td>1.627778</td>\n",
       "      <td>3.822222</td>\n",
       "      <td>3.172222</td>\n",
       "      <td>3.677778</td>\n",
       "      <td>6.850000</td>\n",
       "      <td>0.400000</td>\n",
       "      <td>27.183333</td>\n",
       "      <td>2.194444</td>\n",
       "      <td>2021-03-13</td>\n",
       "      <td>1</td>\n",
       "      <td>2020-09-14</td>\n",
       "      <td>2021-03-12</td>\n",
       "    </tr>\n",
       "    <tr>\n",
       "      <th>55116</th>\n",
       "      <td>fffefbba-00b7-42b7-9125-4b86497e0b4f</td>\n",
       "      <td>0.0</td>\n",
       "      <td>0.0</td>\n",
       "      <td>0.039106</td>\n",
       "      <td>0.167598</td>\n",
       "      <td>2.932961</td>\n",
       "      <td>2.379888</td>\n",
       "      <td>239726.525140</td>\n",
       "      <td>0.307263</td>\n",
       "      <td>0.977654</td>\n",
       "      <td>1.279330</td>\n",
       "      <td>1.860335</td>\n",
       "      <td>3.139665</td>\n",
       "      <td>0.206704</td>\n",
       "      <td>5.312849</td>\n",
       "      <td>0.670391</td>\n",
       "      <td>2021-03-14</td>\n",
       "      <td>1</td>\n",
       "      <td>2020-09-15</td>\n",
       "      <td>2021-03-13</td>\n",
       "    </tr>\n",
       "    <tr>\n",
       "      <th>55117</th>\n",
       "      <td>ffffad0a-7a92-43dd-b296-e9f4218630d8</td>\n",
       "      <td>0.0</td>\n",
       "      <td>0.0</td>\n",
       "      <td>0.127778</td>\n",
       "      <td>0.127778</td>\n",
       "      <td>5.461111</td>\n",
       "      <td>3.694444</td>\n",
       "      <td>10965.894444</td>\n",
       "      <td>0.811111</td>\n",
       "      <td>2.394444</td>\n",
       "      <td>3.833333</td>\n",
       "      <td>5.216667</td>\n",
       "      <td>9.050000</td>\n",
       "      <td>0.255556</td>\n",
       "      <td>9.155556</td>\n",
       "      <td>1.583333</td>\n",
       "      <td>2021-03-11</td>\n",
       "      <td>1</td>\n",
       "      <td>2020-09-12</td>\n",
       "      <td>2021-03-10</td>\n",
       "    </tr>\n",
       "  </tbody>\n",
       "</table>\n",
       "<p>55118 rows × 20 columns</p>\n",
       "</div>"
      ],
      "text/plain": [
       "                                    line_id  hotspot_kb  kb_5g    mms_in  \\\n",
       "0      000027f8-7b65-407a-a90e-619e16f7cd60         0.0    0.0  0.479592   \n",
       "1      0000871b-a418-424b-b6f6-79cfc4db0a12         0.0    0.0  0.069444   \n",
       "2      00022391-6d4e-41bb-a0ca-2af25cec301d         0.0    0.0  0.201835   \n",
       "3      00040e10-1cd1-434c-bf4f-3fd3cc6ecdf8         0.0    0.0  0.564103   \n",
       "4      00044afe-35a4-4313-92ec-36618c83fb23         0.0    0.0  0.353293   \n",
       "...                                     ...         ...    ...       ...   \n",
       "55113  fffc0209-3cec-4a77-be13-2fff03ede88a         0.0    0.0  0.000000   \n",
       "55114  fffc2f64-85b9-4115-b782-52dbe497fdf6         0.0    0.0  0.166667   \n",
       "55115  fffee791-298d-4a18-975b-ac3f64938790         0.0    0.0  0.150000   \n",
       "55116  fffefbba-00b7-42b7-9125-4b86497e0b4f         0.0    0.0  0.039106   \n",
       "55117  ffffad0a-7a92-43dd-b296-e9f4218630d8         0.0    0.0  0.127778   \n",
       "\n",
       "        mms_out     sms_in    sms_out       total_kb  voice_count_in  \\\n",
       "0      0.204082   4.040816   3.214286  296366.681212        3.204082   \n",
       "1      0.000000   1.777778   1.263889   50172.835829        0.513889   \n",
       "2      0.293578   2.788991   3.431193  100985.151654        0.440367   \n",
       "3      0.282051  15.923077  10.487179  124198.959961        1.448718   \n",
       "4      0.041916   3.425150   2.329341  149104.967440        1.580838   \n",
       "...         ...        ...        ...            ...             ...   \n",
       "55113  0.043478   0.173913   0.000000   83672.802027        0.057971   \n",
       "55114  0.287879   0.969697   0.560606  211500.136112        0.257576   \n",
       "55115  0.250000  12.805556  14.377778  865735.257395        1.627778   \n",
       "55116  0.167598   2.932961   2.379888  239726.525140        0.307263   \n",
       "55117  0.127778   5.461111   3.694444   10965.894444        0.811111   \n",
       "\n",
       "       voice_count_total  voice_min_in  voice_min_out  voice_min_total  \\\n",
       "0              20.214286     20.193878      46.663265        66.857143   \n",
       "1               1.222222      1.055556       2.944444         4.000000   \n",
       "2               3.036697      0.889908       3.972477         4.862385   \n",
       "3               2.897436      3.089744       2.910256         6.000000   \n",
       "4               3.131737      2.922156       3.754491         6.676647   \n",
       "...                  ...           ...            ...              ...   \n",
       "55113           0.115942      0.086957       0.115942         0.202899   \n",
       "55114           1.757576      0.590909       3.833333         4.424242   \n",
       "55115           3.822222      3.172222       3.677778         6.850000   \n",
       "55116           0.977654      1.279330       1.860335         3.139665   \n",
       "55117           2.394444      3.833333       5.216667         9.050000   \n",
       "\n",
       "       mms_total  sms_total  voice_count_out date_observed  upgrade  \\\n",
       "0       0.683673   7.255102        17.010204    2021-03-11        0   \n",
       "1       0.069444   3.041667         0.708333    2021-03-11        0   \n",
       "2       0.495413   6.220183         2.596330    2021-03-14        0   \n",
       "3       0.846154  26.410256         1.448718    2021-03-11        0   \n",
       "4       0.395210   5.754491         1.550898    2021-03-11        0   \n",
       "...          ...        ...              ...           ...      ...   \n",
       "55113   0.043478   0.173913         0.057971    2021-03-14        0   \n",
       "55114   0.454545   1.530303         1.500000    2021-03-11        0   \n",
       "55115   0.400000  27.183333         2.194444    2021-03-13        1   \n",
       "55116   0.206704   5.312849         0.670391    2021-03-14        1   \n",
       "55117   0.255556   9.155556         1.583333    2021-03-11        1   \n",
       "\n",
       "           date_x      date_y  \n",
       "0      2020-12-01  2021-03-08  \n",
       "1      2020-09-12  2021-03-10  \n",
       "2      2020-09-15  2021-03-11  \n",
       "3      2020-12-23  2021-03-10  \n",
       "4      2020-09-12  2021-03-10  \n",
       "...           ...         ...  \n",
       "55113  2020-12-28  2021-03-13  \n",
       "55114  2020-12-24  2021-03-10  \n",
       "55115  2020-09-14  2021-03-12  \n",
       "55116  2020-09-15  2021-03-13  \n",
       "55117  2020-09-12  2021-03-10  \n",
       "\n",
       "[55118 rows x 20 columns]"
      ]
     },
     "execution_count": 11,
     "metadata": {},
     "output_type": "execute_result"
    }
   ],
   "source": [
    "encoder = LabelEncoder()\n",
    "network_mean['upgrade'] = encoder.fit_transform(network_mean['upgrade'])\n",
    "network_mean"
   ]
  },
  {
   "cell_type": "code",
   "execution_count": 14,
   "metadata": {},
   "outputs": [],
   "source": [
    "from datetime import datetime\n",
    "now = datetime.now()\n",
    "\n",
    "network_mean['length_of_connection'] = now - pd.to_datetime(network_mean['date_x'], format='%Y-%m-%d')\n",
    "network_mean['length_of_connection'] = network_mean['length_of_connection'].apply(lambda x: x.days)\n",
    "\n",
    "\n",
    "\n"
   ]
  },
  {
   "cell_type": "code",
   "execution_count": 18,
   "metadata": {},
   "outputs": [
    {
     "data": {
      "text/html": [
       "<div>\n",
       "<style scoped>\n",
       "    .dataframe tbody tr th:only-of-type {\n",
       "        vertical-align: middle;\n",
       "    }\n",
       "\n",
       "    .dataframe tbody tr th {\n",
       "        vertical-align: top;\n",
       "    }\n",
       "\n",
       "    .dataframe thead th {\n",
       "        text-align: right;\n",
       "    }\n",
       "</style>\n",
       "<table border=\"1\" class=\"dataframe\">\n",
       "  <thead>\n",
       "    <tr style=\"text-align: right;\">\n",
       "      <th></th>\n",
       "      <th>line_id</th>\n",
       "      <th>hotspot_kb</th>\n",
       "      <th>kb_5g</th>\n",
       "      <th>mms_in</th>\n",
       "      <th>mms_out</th>\n",
       "      <th>sms_in</th>\n",
       "      <th>sms_out</th>\n",
       "      <th>total_kb</th>\n",
       "      <th>voice_count_in</th>\n",
       "      <th>voice_count_total</th>\n",
       "      <th>...</th>\n",
       "      <th>voice_min_out</th>\n",
       "      <th>voice_min_total</th>\n",
       "      <th>mms_total</th>\n",
       "      <th>sms_total</th>\n",
       "      <th>voice_count_out</th>\n",
       "      <th>date_observed</th>\n",
       "      <th>upgrade</th>\n",
       "      <th>date_x</th>\n",
       "      <th>date_y</th>\n",
       "      <th>length_of_connection</th>\n",
       "    </tr>\n",
       "  </thead>\n",
       "  <tbody>\n",
       "    <tr>\n",
       "      <th>0</th>\n",
       "      <td>000027f8-7b65-407a-a90e-619e16f7cd60</td>\n",
       "      <td>0.0</td>\n",
       "      <td>0.0</td>\n",
       "      <td>0.479592</td>\n",
       "      <td>0.204082</td>\n",
       "      <td>4.040816</td>\n",
       "      <td>3.214286</td>\n",
       "      <td>296366.681212</td>\n",
       "      <td>3.204082</td>\n",
       "      <td>20.214286</td>\n",
       "      <td>...</td>\n",
       "      <td>46.663265</td>\n",
       "      <td>66.857143</td>\n",
       "      <td>0.683673</td>\n",
       "      <td>7.255102</td>\n",
       "      <td>17.010204</td>\n",
       "      <td>2021-03-11</td>\n",
       "      <td>no</td>\n",
       "      <td>2020-12-01</td>\n",
       "      <td>2021-03-08</td>\n",
       "      <td>146</td>\n",
       "    </tr>\n",
       "    <tr>\n",
       "      <th>1</th>\n",
       "      <td>0000871b-a418-424b-b6f6-79cfc4db0a12</td>\n",
       "      <td>0.0</td>\n",
       "      <td>0.0</td>\n",
       "      <td>0.069444</td>\n",
       "      <td>0.000000</td>\n",
       "      <td>1.777778</td>\n",
       "      <td>1.263889</td>\n",
       "      <td>50172.835829</td>\n",
       "      <td>0.513889</td>\n",
       "      <td>1.222222</td>\n",
       "      <td>...</td>\n",
       "      <td>2.944444</td>\n",
       "      <td>4.000000</td>\n",
       "      <td>0.069444</td>\n",
       "      <td>3.041667</td>\n",
       "      <td>0.708333</td>\n",
       "      <td>2021-03-11</td>\n",
       "      <td>no</td>\n",
       "      <td>2020-09-12</td>\n",
       "      <td>2021-03-10</td>\n",
       "      <td>226</td>\n",
       "    </tr>\n",
       "    <tr>\n",
       "      <th>2</th>\n",
       "      <td>00022391-6d4e-41bb-a0ca-2af25cec301d</td>\n",
       "      <td>0.0</td>\n",
       "      <td>0.0</td>\n",
       "      <td>0.201835</td>\n",
       "      <td>0.293578</td>\n",
       "      <td>2.788991</td>\n",
       "      <td>3.431193</td>\n",
       "      <td>100985.151654</td>\n",
       "      <td>0.440367</td>\n",
       "      <td>3.036697</td>\n",
       "      <td>...</td>\n",
       "      <td>3.972477</td>\n",
       "      <td>4.862385</td>\n",
       "      <td>0.495413</td>\n",
       "      <td>6.220183</td>\n",
       "      <td>2.596330</td>\n",
       "      <td>2021-03-14</td>\n",
       "      <td>no</td>\n",
       "      <td>2020-09-15</td>\n",
       "      <td>2021-03-11</td>\n",
       "      <td>223</td>\n",
       "    </tr>\n",
       "    <tr>\n",
       "      <th>3</th>\n",
       "      <td>00040e10-1cd1-434c-bf4f-3fd3cc6ecdf8</td>\n",
       "      <td>0.0</td>\n",
       "      <td>0.0</td>\n",
       "      <td>0.564103</td>\n",
       "      <td>0.282051</td>\n",
       "      <td>15.923077</td>\n",
       "      <td>10.487179</td>\n",
       "      <td>124198.959961</td>\n",
       "      <td>1.448718</td>\n",
       "      <td>2.897436</td>\n",
       "      <td>...</td>\n",
       "      <td>2.910256</td>\n",
       "      <td>6.000000</td>\n",
       "      <td>0.846154</td>\n",
       "      <td>26.410256</td>\n",
       "      <td>1.448718</td>\n",
       "      <td>2021-03-11</td>\n",
       "      <td>no</td>\n",
       "      <td>2020-12-23</td>\n",
       "      <td>2021-03-10</td>\n",
       "      <td>124</td>\n",
       "    </tr>\n",
       "    <tr>\n",
       "      <th>4</th>\n",
       "      <td>00044afe-35a4-4313-92ec-36618c83fb23</td>\n",
       "      <td>0.0</td>\n",
       "      <td>0.0</td>\n",
       "      <td>0.353293</td>\n",
       "      <td>0.041916</td>\n",
       "      <td>3.425150</td>\n",
       "      <td>2.329341</td>\n",
       "      <td>149104.967440</td>\n",
       "      <td>1.580838</td>\n",
       "      <td>3.131737</td>\n",
       "      <td>...</td>\n",
       "      <td>3.754491</td>\n",
       "      <td>6.676647</td>\n",
       "      <td>0.395210</td>\n",
       "      <td>5.754491</td>\n",
       "      <td>1.550898</td>\n",
       "      <td>2021-03-11</td>\n",
       "      <td>no</td>\n",
       "      <td>2020-09-12</td>\n",
       "      <td>2021-03-10</td>\n",
       "      <td>226</td>\n",
       "    </tr>\n",
       "    <tr>\n",
       "      <th>...</th>\n",
       "      <td>...</td>\n",
       "      <td>...</td>\n",
       "      <td>...</td>\n",
       "      <td>...</td>\n",
       "      <td>...</td>\n",
       "      <td>...</td>\n",
       "      <td>...</td>\n",
       "      <td>...</td>\n",
       "      <td>...</td>\n",
       "      <td>...</td>\n",
       "      <td>...</td>\n",
       "      <td>...</td>\n",
       "      <td>...</td>\n",
       "      <td>...</td>\n",
       "      <td>...</td>\n",
       "      <td>...</td>\n",
       "      <td>...</td>\n",
       "      <td>...</td>\n",
       "      <td>...</td>\n",
       "      <td>...</td>\n",
       "      <td>...</td>\n",
       "    </tr>\n",
       "    <tr>\n",
       "      <th>55113</th>\n",
       "      <td>fffc0209-3cec-4a77-be13-2fff03ede88a</td>\n",
       "      <td>0.0</td>\n",
       "      <td>0.0</td>\n",
       "      <td>0.000000</td>\n",
       "      <td>0.043478</td>\n",
       "      <td>0.173913</td>\n",
       "      <td>0.000000</td>\n",
       "      <td>83672.802027</td>\n",
       "      <td>0.057971</td>\n",
       "      <td>0.115942</td>\n",
       "      <td>...</td>\n",
       "      <td>0.115942</td>\n",
       "      <td>0.202899</td>\n",
       "      <td>0.043478</td>\n",
       "      <td>0.173913</td>\n",
       "      <td>0.057971</td>\n",
       "      <td>2021-03-14</td>\n",
       "      <td>no</td>\n",
       "      <td>2020-12-28</td>\n",
       "      <td>2021-03-13</td>\n",
       "      <td>119</td>\n",
       "    </tr>\n",
       "    <tr>\n",
       "      <th>55114</th>\n",
       "      <td>fffc2f64-85b9-4115-b782-52dbe497fdf6</td>\n",
       "      <td>0.0</td>\n",
       "      <td>0.0</td>\n",
       "      <td>0.166667</td>\n",
       "      <td>0.287879</td>\n",
       "      <td>0.969697</td>\n",
       "      <td>0.560606</td>\n",
       "      <td>211500.136112</td>\n",
       "      <td>0.257576</td>\n",
       "      <td>1.757576</td>\n",
       "      <td>...</td>\n",
       "      <td>3.833333</td>\n",
       "      <td>4.424242</td>\n",
       "      <td>0.454545</td>\n",
       "      <td>1.530303</td>\n",
       "      <td>1.500000</td>\n",
       "      <td>2021-03-11</td>\n",
       "      <td>no</td>\n",
       "      <td>2020-12-24</td>\n",
       "      <td>2021-03-10</td>\n",
       "      <td>123</td>\n",
       "    </tr>\n",
       "    <tr>\n",
       "      <th>55115</th>\n",
       "      <td>fffee791-298d-4a18-975b-ac3f64938790</td>\n",
       "      <td>0.0</td>\n",
       "      <td>0.0</td>\n",
       "      <td>0.150000</td>\n",
       "      <td>0.250000</td>\n",
       "      <td>12.805556</td>\n",
       "      <td>14.377778</td>\n",
       "      <td>865735.257395</td>\n",
       "      <td>1.627778</td>\n",
       "      <td>3.822222</td>\n",
       "      <td>...</td>\n",
       "      <td>3.677778</td>\n",
       "      <td>6.850000</td>\n",
       "      <td>0.400000</td>\n",
       "      <td>27.183333</td>\n",
       "      <td>2.194444</td>\n",
       "      <td>2021-03-13</td>\n",
       "      <td>yes</td>\n",
       "      <td>2020-09-14</td>\n",
       "      <td>2021-03-12</td>\n",
       "      <td>224</td>\n",
       "    </tr>\n",
       "    <tr>\n",
       "      <th>55116</th>\n",
       "      <td>fffefbba-00b7-42b7-9125-4b86497e0b4f</td>\n",
       "      <td>0.0</td>\n",
       "      <td>0.0</td>\n",
       "      <td>0.039106</td>\n",
       "      <td>0.167598</td>\n",
       "      <td>2.932961</td>\n",
       "      <td>2.379888</td>\n",
       "      <td>239726.525140</td>\n",
       "      <td>0.307263</td>\n",
       "      <td>0.977654</td>\n",
       "      <td>...</td>\n",
       "      <td>1.860335</td>\n",
       "      <td>3.139665</td>\n",
       "      <td>0.206704</td>\n",
       "      <td>5.312849</td>\n",
       "      <td>0.670391</td>\n",
       "      <td>2021-03-14</td>\n",
       "      <td>yes</td>\n",
       "      <td>2020-09-15</td>\n",
       "      <td>2021-03-13</td>\n",
       "      <td>223</td>\n",
       "    </tr>\n",
       "    <tr>\n",
       "      <th>55117</th>\n",
       "      <td>ffffad0a-7a92-43dd-b296-e9f4218630d8</td>\n",
       "      <td>0.0</td>\n",
       "      <td>0.0</td>\n",
       "      <td>0.127778</td>\n",
       "      <td>0.127778</td>\n",
       "      <td>5.461111</td>\n",
       "      <td>3.694444</td>\n",
       "      <td>10965.894444</td>\n",
       "      <td>0.811111</td>\n",
       "      <td>2.394444</td>\n",
       "      <td>...</td>\n",
       "      <td>5.216667</td>\n",
       "      <td>9.050000</td>\n",
       "      <td>0.255556</td>\n",
       "      <td>9.155556</td>\n",
       "      <td>1.583333</td>\n",
       "      <td>2021-03-11</td>\n",
       "      <td>yes</td>\n",
       "      <td>2020-09-12</td>\n",
       "      <td>2021-03-10</td>\n",
       "      <td>226</td>\n",
       "    </tr>\n",
       "  </tbody>\n",
       "</table>\n",
       "<p>55118 rows × 21 columns</p>\n",
       "</div>"
      ],
      "text/plain": [
       "                                    line_id  hotspot_kb  kb_5g    mms_in  \\\n",
       "0      000027f8-7b65-407a-a90e-619e16f7cd60         0.0    0.0  0.479592   \n",
       "1      0000871b-a418-424b-b6f6-79cfc4db0a12         0.0    0.0  0.069444   \n",
       "2      00022391-6d4e-41bb-a0ca-2af25cec301d         0.0    0.0  0.201835   \n",
       "3      00040e10-1cd1-434c-bf4f-3fd3cc6ecdf8         0.0    0.0  0.564103   \n",
       "4      00044afe-35a4-4313-92ec-36618c83fb23         0.0    0.0  0.353293   \n",
       "...                                     ...         ...    ...       ...   \n",
       "55113  fffc0209-3cec-4a77-be13-2fff03ede88a         0.0    0.0  0.000000   \n",
       "55114  fffc2f64-85b9-4115-b782-52dbe497fdf6         0.0    0.0  0.166667   \n",
       "55115  fffee791-298d-4a18-975b-ac3f64938790         0.0    0.0  0.150000   \n",
       "55116  fffefbba-00b7-42b7-9125-4b86497e0b4f         0.0    0.0  0.039106   \n",
       "55117  ffffad0a-7a92-43dd-b296-e9f4218630d8         0.0    0.0  0.127778   \n",
       "\n",
       "        mms_out     sms_in    sms_out       total_kb  voice_count_in  \\\n",
       "0      0.204082   4.040816   3.214286  296366.681212        3.204082   \n",
       "1      0.000000   1.777778   1.263889   50172.835829        0.513889   \n",
       "2      0.293578   2.788991   3.431193  100985.151654        0.440367   \n",
       "3      0.282051  15.923077  10.487179  124198.959961        1.448718   \n",
       "4      0.041916   3.425150   2.329341  149104.967440        1.580838   \n",
       "...         ...        ...        ...            ...             ...   \n",
       "55113  0.043478   0.173913   0.000000   83672.802027        0.057971   \n",
       "55114  0.287879   0.969697   0.560606  211500.136112        0.257576   \n",
       "55115  0.250000  12.805556  14.377778  865735.257395        1.627778   \n",
       "55116  0.167598   2.932961   2.379888  239726.525140        0.307263   \n",
       "55117  0.127778   5.461111   3.694444   10965.894444        0.811111   \n",
       "\n",
       "       voice_count_total  ...  voice_min_out  voice_min_total  mms_total  \\\n",
       "0              20.214286  ...      46.663265        66.857143   0.683673   \n",
       "1               1.222222  ...       2.944444         4.000000   0.069444   \n",
       "2               3.036697  ...       3.972477         4.862385   0.495413   \n",
       "3               2.897436  ...       2.910256         6.000000   0.846154   \n",
       "4               3.131737  ...       3.754491         6.676647   0.395210   \n",
       "...                  ...  ...            ...              ...        ...   \n",
       "55113           0.115942  ...       0.115942         0.202899   0.043478   \n",
       "55114           1.757576  ...       3.833333         4.424242   0.454545   \n",
       "55115           3.822222  ...       3.677778         6.850000   0.400000   \n",
       "55116           0.977654  ...       1.860335         3.139665   0.206704   \n",
       "55117           2.394444  ...       5.216667         9.050000   0.255556   \n",
       "\n",
       "       sms_total  voice_count_out  date_observed upgrade      date_x  \\\n",
       "0       7.255102        17.010204     2021-03-11      no  2020-12-01   \n",
       "1       3.041667         0.708333     2021-03-11      no  2020-09-12   \n",
       "2       6.220183         2.596330     2021-03-14      no  2020-09-15   \n",
       "3      26.410256         1.448718     2021-03-11      no  2020-12-23   \n",
       "4       5.754491         1.550898     2021-03-11      no  2020-09-12   \n",
       "...          ...              ...            ...     ...         ...   \n",
       "55113   0.173913         0.057971     2021-03-14      no  2020-12-28   \n",
       "55114   1.530303         1.500000     2021-03-11      no  2020-12-24   \n",
       "55115  27.183333         2.194444     2021-03-13     yes  2020-09-14   \n",
       "55116   5.312849         0.670391     2021-03-14     yes  2020-09-15   \n",
       "55117   9.155556         1.583333     2021-03-11     yes  2020-09-12   \n",
       "\n",
       "           date_y length_of_connection  \n",
       "0      2021-03-08                  146  \n",
       "1      2021-03-10                  226  \n",
       "2      2021-03-11                  223  \n",
       "3      2021-03-10                  124  \n",
       "4      2021-03-10                  226  \n",
       "...           ...                  ...  \n",
       "55113  2021-03-13                  119  \n",
       "55114  2021-03-10                  123  \n",
       "55115  2021-03-12                  224  \n",
       "55116  2021-03-13                  223  \n",
       "55117  2021-03-10                  226  \n",
       "\n",
       "[55118 rows x 21 columns]"
      ]
     },
     "execution_count": 18,
     "metadata": {},
     "output_type": "execute_result"
    }
   ],
   "source": [
    "network_mean"
   ]
  },
  {
   "cell_type": "code",
   "execution_count": 135,
   "metadata": {},
   "outputs": [
    {
     "data": {
      "text/plain": [
       "<AxesSubplot:>"
      ]
     },
     "execution_count": 135,
     "metadata": {},
     "output_type": "execute_result"
    },
    {
     "data": {
      "image/png": "[encoded data removed]",
      "text/plain": [
       "<Figure size 432x288 with 2 Axes>"
      ]
     },
     "metadata": {
      "needs_background": "light"
     },
     "output_type": "display_data"
    }
   ],
   "source": [
    "mean = network_mean.corr()\n",
    "sns.heatmap(mean)"
   ]
  },
  {
   "cell_type": "code",
   "execution_count": 87,
   "metadata": {},
   "outputs": [
    {
     "data": {
      "text/plain": [
       "<AxesSubplot:>"
      ]
     },
     "execution_count": 87,
     "metadata": {},
     "output_type": "execute_result"
    },
    {
     "data": {
      "image/png": "[encoded data removed]",
      "text/plain": [
       "<Figure size 432x288 with 2 Axes>"
      ]
     },
     "metadata": {
      "needs_background": "light"
     },
     "output_type": "display_data"
    }
   ],
   "source": [
    "##less correlation in original data set as most values are 0, so will focus on the mean of the data\n",
    "original = network_usage_domestic.corr()\n",
    "sns.heatmap(original)"
   ]
  },
  {
   "cell_type": "code",
   "execution_count": 88,
   "metadata": {},
   "outputs": [
    {
     "data": {
      "text/plain": [
       "<AxesSubplot:>"
      ]
     },
     "execution_count": 88,
     "metadata": {},
     "output_type": "execute_result"
    },
    {
     "data": {
      "image/png": "[encoded data removed]",
      "text/plain": [
       "<Figure size 432x288 with 2 Axes>"
      ]
     },
     "metadata": {
      "needs_background": "light"
     },
     "output_type": "display_data"
    }
   ],
   "source": [
    "subset = network_mean[['sms_in', 'sms_out', 'sms_total']]\n",
    "s = subset.corr()\n",
    "sns.heatmap(s)"
   ]
  },
  {
   "cell_type": "code",
   "execution_count": 89,
   "metadata": {},
   "outputs": [
    {
     "data": {
      "text/plain": [
       "<AxesSubplot:>"
      ]
     },
     "execution_count": 89,
     "metadata": {},
     "output_type": "execute_result"
    },
    {
     "data": {
      "image/png": "[encoded data removed]",
      "text/plain": [
       "<Figure size 432x288 with 2 Axes>"
      ]
     },
     "metadata": {
      "needs_background": "light"
     },
     "output_type": "display_data"
    }
   ],
   "source": [
    "subset = network_mean[['voice_count_in', 'voice_count_out', 'voice_count_total']]\n",
    "s = subset.corr()\n",
    "sns.heatmap(s)"
   ]
  },
  {
   "cell_type": "code",
   "execution_count": 90,
   "metadata": {},
   "outputs": [
    {
     "data": {
      "text/plain": [
       "<AxesSubplot:>"
      ]
     },
     "execution_count": 90,
     "metadata": {},
     "output_type": "execute_result"
    },
    {
     "data": {
      "image/png": "[encoded data removed]",
      "text/plain": [
       "<Figure size 432x288 with 2 Axes>"
      ]
     },
     "metadata": {
      "needs_background": "light"
     },
     "output_type": "display_data"
    }
   ],
   "source": [
    "subset = network_mean[['sms_in', 'sms_out', 'sms_total']]\n",
    "s = subset.corr()\n",
    "sns.heatmap(s)"
   ]
  },
  {
   "cell_type": "code",
   "execution_count": 91,
   "metadata": {},
   "outputs": [
    {
     "data": {
      "text/plain": [
       "<AxesSubplot:>"
      ]
     },
     "execution_count": 91,
     "metadata": {},
     "output_type": "execute_result"
    },
    {
     "data": {
      "image/png": "[encoded data removed]",
      "text/plain": [
       "<Figure size 432x288 with 2 Axes>"
      ]
     },
     "metadata": {
      "needs_background": "light"
     },
     "output_type": "display_data"
    }
   ],
   "source": [
    "subset = network_mean[['voice_min_in', 'voice_min_out', 'voice_min_total']]\n",
    "s = subset.corr()\n",
    "sns.heatmap(s)"
   ]
  },
  {
   "cell_type": "code",
   "execution_count": 92,
   "metadata": {},
   "outputs": [
    {
     "data": {
      "text/plain": [
       "<AxesSubplot:>"
      ]
     },
     "execution_count": 92,
     "metadata": {},
     "output_type": "execute_result"
    },
    {
     "data": {
      "image/png": "[encoded data removed]",
      "text/plain": [
       "<Figure size 432x288 with 2 Axes>"
      ]
     },
     "metadata": {
      "needs_background": "light"
     },
     "output_type": "display_data"
    }
   ],
   "source": [
    "subset = network_mean[['voice_min_in', 'voice_min_out', 'voice_min_total','voice_count_in', 'voice_count_out', 'voice_count_total']]\n",
    "s = subset.corr()\n",
    "sns.heatmap(s)"
   ]
  },
  {
   "cell_type": "code",
   "execution_count": null,
   "metadata": {},
   "outputs": [],
   "source": [
    "subset = network_mean[['voice_min_in','voice_count_in']]\n",
    "s = subset.corr()\n",
    "sns.heatmap(s)"
   ]
  },
  {
   "cell_type": "code",
   "execution_count": 145,
   "metadata": {},
   "outputs": [
    {
     "data": {
      "text/plain": [
       "<AxesSubplot:>"
      ]
     },
     "execution_count": 145,
     "metadata": {},
     "output_type": "execute_result"
    },
    {
     "data": {
      "image/png": "[encoded data removed]",
      "text/plain": [
       "<Figure size 432x288 with 2 Axes>"
      ]
     },
     "metadata": {
      "needs_background": "light"
     },
     "output_type": "display_data"
    }
   ],
   "source": [
    "##hotspot_kb not that correlated with total_kb\n",
    "subset = network_mean[['hotspot_kb',\n",
    " 'kb_5g','total_kb','mms_total']]\n",
    "s = subset.corr()\n",
    "sns.heatmap(s)"
   ]
  },
  {
   "cell_type": "code",
   "execution_count": 93,
   "metadata": {},
   "outputs": [
    {
     "data": {
      "text/plain": [
       "['line_id',\n",
       " 'hotspot_kb',\n",
       " 'kb_5g',\n",
       " 'mms_in',\n",
       " 'mms_out',\n",
       " 'sms_in',\n",
       " 'sms_out',\n",
       " 'total_kb',\n",
       " 'voice_count_in',\n",
       " 'voice_count_total',\n",
       " 'voice_min_in',\n",
       " 'voice_min_out',\n",
       " 'voice_min_total',\n",
       " 'mms_total',\n",
       " 'sms_total',\n",
       " 'voice_count_out',\n",
       " 'date_observed',\n",
       " 'upgrade',\n",
       " 'date_x',\n",
       " 'date_y',\n",
       " 'length_of_connection']"
      ]
     },
     "execution_count": 93,
     "metadata": {},
     "output_type": "execute_result"
    }
   ],
   "source": [
    "list(network_mean)"
   ]
  },
  {
   "cell_type": "code",
   "execution_count": 15,
   "metadata": {},
   "outputs": [],
   "source": [
    "final_network = network_mean[['line_id',\n",
    " 'hotspot_kb',\n",
    " 'total_kb',\n",
    " 'voice_count_total',\n",
    " 'voice_min_total',\n",
    " 'mms_total',\n",
    " 'sms_total',\n",
    " 'length_of_connection',                             \n",
    " 'upgrade']]"
   ]
  },
  {
   "cell_type": "code",
   "execution_count": 98,
   "metadata": {},
   "outputs": [
    {
     "data": {
      "text/plain": [
       "<AxesSubplot:>"
      ]
     },
     "execution_count": 98,
     "metadata": {},
     "output_type": "execute_result"
    },
    {
     "data": {
      "image/png": "[encoded data removed]",
      "text/plain": [
       "<Figure size 432x288 with 2 Axes>"
      ]
     },
     "metadata": {
      "needs_background": "light"
     },
     "output_type": "display_data"
    }
   ],
   "source": [
    "s = final_network.corr()\n",
    "sns.heatmap(s)"
   ]
  },
  {
   "cell_type": "code",
   "execution_count": 20,
   "metadata": {},
   "outputs": [
    {
     "name": "stderr",
     "output_type": "stream",
     "text": [
      "/opt/conda/lib/python3.7/site-packages/pandas/core/frame.py:4133: SettingWithCopyWarning: \n",
      "A value is trying to be set on a copy of a slice from a DataFrame\n",
      "\n",
      "See the caveats in the documentation: https://pandas.pydata.org/pandas-docs/stable/user_guide/indexing.html#returning-a-view-versus-a-copy\n",
      "  errors=errors,\n"
     ]
    }
   ],
   "source": [
    "final_network.rename(columns={\"date_x\": \"first_date\"}, inplace='TRUE')\n",
    "\n"
   ]
  },
  {
   "cell_type": "code",
   "execution_count": 16,
   "metadata": {},
   "outputs": [
    {
     "data": {
      "text/html": [
       "<div>\n",
       "<style scoped>\n",
       "    .dataframe tbody tr th:only-of-type {\n",
       "        vertical-align: middle;\n",
       "    }\n",
       "\n",
       "    .dataframe tbody tr th {\n",
       "        vertical-align: top;\n",
       "    }\n",
       "\n",
       "    .dataframe thead th {\n",
       "        text-align: right;\n",
       "    }\n",
       "</style>\n",
       "<table border=\"1\" class=\"dataframe\">\n",
       "  <thead>\n",
       "    <tr style=\"text-align: right;\">\n",
       "      <th></th>\n",
       "      <th>line_id</th>\n",
       "      <th>hotspot_kb</th>\n",
       "      <th>total_kb</th>\n",
       "      <th>voice_count_total</th>\n",
       "      <th>voice_min_total</th>\n",
       "      <th>mms_total</th>\n",
       "      <th>sms_total</th>\n",
       "      <th>length_of_connection</th>\n",
       "      <th>upgrade</th>\n",
       "    </tr>\n",
       "  </thead>\n",
       "  <tbody>\n",
       "    <tr>\n",
       "      <th>0</th>\n",
       "      <td>000027f8-7b65-407a-a90e-619e16f7cd60</td>\n",
       "      <td>0.0</td>\n",
       "      <td>296366.681212</td>\n",
       "      <td>20.214286</td>\n",
       "      <td>66.857143</td>\n",
       "      <td>0.683673</td>\n",
       "      <td>7.255102</td>\n",
       "      <td>147</td>\n",
       "      <td>0</td>\n",
       "    </tr>\n",
       "    <tr>\n",
       "      <th>1</th>\n",
       "      <td>0000871b-a418-424b-b6f6-79cfc4db0a12</td>\n",
       "      <td>0.0</td>\n",
       "      <td>50172.835829</td>\n",
       "      <td>1.222222</td>\n",
       "      <td>4.000000</td>\n",
       "      <td>0.069444</td>\n",
       "      <td>3.041667</td>\n",
       "      <td>227</td>\n",
       "      <td>0</td>\n",
       "    </tr>\n",
       "    <tr>\n",
       "      <th>2</th>\n",
       "      <td>00022391-6d4e-41bb-a0ca-2af25cec301d</td>\n",
       "      <td>0.0</td>\n",
       "      <td>100985.151654</td>\n",
       "      <td>3.036697</td>\n",
       "      <td>4.862385</td>\n",
       "      <td>0.495413</td>\n",
       "      <td>6.220183</td>\n",
       "      <td>224</td>\n",
       "      <td>0</td>\n",
       "    </tr>\n",
       "    <tr>\n",
       "      <th>3</th>\n",
       "      <td>00040e10-1cd1-434c-bf4f-3fd3cc6ecdf8</td>\n",
       "      <td>0.0</td>\n",
       "      <td>124198.959961</td>\n",
       "      <td>2.897436</td>\n",
       "      <td>6.000000</td>\n",
       "      <td>0.846154</td>\n",
       "      <td>26.410256</td>\n",
       "      <td>125</td>\n",
       "      <td>0</td>\n",
       "    </tr>\n",
       "    <tr>\n",
       "      <th>4</th>\n",
       "      <td>00044afe-35a4-4313-92ec-36618c83fb23</td>\n",
       "      <td>0.0</td>\n",
       "      <td>149104.967440</td>\n",
       "      <td>3.131737</td>\n",
       "      <td>6.676647</td>\n",
       "      <td>0.395210</td>\n",
       "      <td>5.754491</td>\n",
       "      <td>227</td>\n",
       "      <td>0</td>\n",
       "    </tr>\n",
       "    <tr>\n",
       "      <th>...</th>\n",
       "      <td>...</td>\n",
       "      <td>...</td>\n",
       "      <td>...</td>\n",
       "      <td>...</td>\n",
       "      <td>...</td>\n",
       "      <td>...</td>\n",
       "      <td>...</td>\n",
       "      <td>...</td>\n",
       "      <td>...</td>\n",
       "    </tr>\n",
       "    <tr>\n",
       "      <th>55113</th>\n",
       "      <td>fffc0209-3cec-4a77-be13-2fff03ede88a</td>\n",
       "      <td>0.0</td>\n",
       "      <td>83672.802027</td>\n",
       "      <td>0.115942</td>\n",
       "      <td>0.202899</td>\n",
       "      <td>0.043478</td>\n",
       "      <td>0.173913</td>\n",
       "      <td>120</td>\n",
       "      <td>0</td>\n",
       "    </tr>\n",
       "    <tr>\n",
       "      <th>55114</th>\n",
       "      <td>fffc2f64-85b9-4115-b782-52dbe497fdf6</td>\n",
       "      <td>0.0</td>\n",
       "      <td>211500.136112</td>\n",
       "      <td>1.757576</td>\n",
       "      <td>4.424242</td>\n",
       "      <td>0.454545</td>\n",
       "      <td>1.530303</td>\n",
       "      <td>124</td>\n",
       "      <td>0</td>\n",
       "    </tr>\n",
       "    <tr>\n",
       "      <th>55115</th>\n",
       "      <td>fffee791-298d-4a18-975b-ac3f64938790</td>\n",
       "      <td>0.0</td>\n",
       "      <td>865735.257395</td>\n",
       "      <td>3.822222</td>\n",
       "      <td>6.850000</td>\n",
       "      <td>0.400000</td>\n",
       "      <td>27.183333</td>\n",
       "      <td>225</td>\n",
       "      <td>1</td>\n",
       "    </tr>\n",
       "    <tr>\n",
       "      <th>55116</th>\n",
       "      <td>fffefbba-00b7-42b7-9125-4b86497e0b4f</td>\n",
       "      <td>0.0</td>\n",
       "      <td>239726.525140</td>\n",
       "      <td>0.977654</td>\n",
       "      <td>3.139665</td>\n",
       "      <td>0.206704</td>\n",
       "      <td>5.312849</td>\n",
       "      <td>224</td>\n",
       "      <td>1</td>\n",
       "    </tr>\n",
       "    <tr>\n",
       "      <th>55117</th>\n",
       "      <td>ffffad0a-7a92-43dd-b296-e9f4218630d8</td>\n",
       "      <td>0.0</td>\n",
       "      <td>10965.894444</td>\n",
       "      <td>2.394444</td>\n",
       "      <td>9.050000</td>\n",
       "      <td>0.255556</td>\n",
       "      <td>9.155556</td>\n",
       "      <td>227</td>\n",
       "      <td>1</td>\n",
       "    </tr>\n",
       "  </tbody>\n",
       "</table>\n",
       "<p>55118 rows × 9 columns</p>\n",
       "</div>"
      ],
      "text/plain": [
       "                                    line_id  hotspot_kb       total_kb  \\\n",
       "0      000027f8-7b65-407a-a90e-619e16f7cd60         0.0  296366.681212   \n",
       "1      0000871b-a418-424b-b6f6-79cfc4db0a12         0.0   50172.835829   \n",
       "2      00022391-6d4e-41bb-a0ca-2af25cec301d         0.0  100985.151654   \n",
       "3      00040e10-1cd1-434c-bf4f-3fd3cc6ecdf8         0.0  124198.959961   \n",
       "4      00044afe-35a4-4313-92ec-36618c83fb23         0.0  149104.967440   \n",
       "...                                     ...         ...            ...   \n",
       "55113  fffc0209-3cec-4a77-be13-2fff03ede88a         0.0   83672.802027   \n",
       "55114  fffc2f64-85b9-4115-b782-52dbe497fdf6         0.0  211500.136112   \n",
       "55115  fffee791-298d-4a18-975b-ac3f64938790         0.0  865735.257395   \n",
       "55116  fffefbba-00b7-42b7-9125-4b86497e0b4f         0.0  239726.525140   \n",
       "55117  ffffad0a-7a92-43dd-b296-e9f4218630d8         0.0   10965.894444   \n",
       "\n",
       "       voice_count_total  voice_min_total  mms_total  sms_total  \\\n",
       "0              20.214286        66.857143   0.683673   7.255102   \n",
       "1               1.222222         4.000000   0.069444   3.041667   \n",
       "2               3.036697         4.862385   0.495413   6.220183   \n",
       "3               2.897436         6.000000   0.846154  26.410256   \n",
       "4               3.131737         6.676647   0.395210   5.754491   \n",
       "...                  ...              ...        ...        ...   \n",
       "55113           0.115942         0.202899   0.043478   0.173913   \n",
       "55114           1.757576         4.424242   0.454545   1.530303   \n",
       "55115           3.822222         6.850000   0.400000  27.183333   \n",
       "55116           0.977654         3.139665   0.206704   5.312849   \n",
       "55117           2.394444         9.050000   0.255556   9.155556   \n",
       "\n",
       "       length_of_connection  upgrade  \n",
       "0                       147        0  \n",
       "1                       227        0  \n",
       "2                       224        0  \n",
       "3                       125        0  \n",
       "4                       227        0  \n",
       "...                     ...      ...  \n",
       "55113                   120        0  \n",
       "55114                   124        0  \n",
       "55115                   225        1  \n",
       "55116                   224        1  \n",
       "55117                   227        1  \n",
       "\n",
       "[55118 rows x 9 columns]"
      ]
     },
     "execution_count": 16,
     "metadata": {},
     "output_type": "execute_result"
    }
   ],
   "source": [
    "final_network"
   ]
  },
  {
   "cell_type": "code",
   "execution_count": 17,
   "metadata": {},
   "outputs": [
    {
     "data": {
      "text/plain": [
       "750"
      ]
     },
     "execution_count": 17,
     "metadata": {},
     "output_type": "execute_result"
    }
   ],
   "source": [
    "total = upgrades['line_id']\n",
    "total = set(total)\n",
    "net = final_network['line_id']\n",
    "net = set(net)\n",
    "left_out = total.difference(net)\n",
    "len(left_out)\n",
    "\n",
    "\n"
   ]
  },
  {
   "cell_type": "code",
   "execution_count": 18,
   "metadata": {},
   "outputs": [
    {
     "name": "stderr",
     "output_type": "stream",
     "text": [
      "/opt/conda/lib/python3.7/site-packages/ipykernel_launcher.py:1: SettingWithCopyWarning: \n",
      "A value is trying to be set on a copy of a slice from a DataFrame.\n",
      "Try using .loc[row_indexer,col_indexer] = value instead\n",
      "\n",
      "See the caveats in the documentation: https://pandas.pydata.org/pandas-docs/stable/user_guide/indexing.html#returning-a-view-versus-a-copy\n",
      "  \"\"\"Entry point for launching an IPython kernel.\n"
     ]
    }
   ],
   "source": [
    "final_network['used_network'] = 1"
   ]
  },
  {
   "cell_type": "code",
   "execution_count": 19,
   "metadata": {},
   "outputs": [],
   "source": [
    "not_connect = final_network"
   ]
  },
  {
   "cell_type": "code",
   "execution_count": 20,
   "metadata": {},
   "outputs": [],
   "source": [
    "not_connect = not_connect[0:0]"
   ]
  },
  {
   "cell_type": "code",
   "execution_count": 21,
   "metadata": {},
   "outputs": [],
   "source": [
    "left_out = list(left_out)\n",
    "#type(left_out)"
   ]
  },
  {
   "cell_type": "code",
   "execution_count": 22,
   "metadata": {},
   "outputs": [
    {
     "name": "stderr",
     "output_type": "stream",
     "text": [
      "/opt/conda/lib/python3.7/site-packages/ipykernel_launcher.py:1: SettingWithCopyWarning: \n",
      "A value is trying to be set on a copy of a slice from a DataFrame.\n",
      "Try using .loc[row_indexer,col_indexer] = value instead\n",
      "\n",
      "See the caveats in the documentation: https://pandas.pydata.org/pandas-docs/stable/user_guide/indexing.html#returning-a-view-versus-a-copy\n",
      "  \"\"\"Entry point for launching an IPython kernel.\n"
     ]
    }
   ],
   "source": [
    "not_connect['line_id'] = left_out"
   ]
  },
  {
   "cell_type": "code",
   "execution_count": 23,
   "metadata": {},
   "outputs": [],
   "source": [
    "not_connect = not_connect.fillna(0)"
   ]
  },
  {
   "cell_type": "code",
   "execution_count": 24,
   "metadata": {},
   "outputs": [
    {
     "data": {
      "text/html": [
       "<div>\n",
       "<style scoped>\n",
       "    .dataframe tbody tr th:only-of-type {\n",
       "        vertical-align: middle;\n",
       "    }\n",
       "\n",
       "    .dataframe tbody tr th {\n",
       "        vertical-align: top;\n",
       "    }\n",
       "\n",
       "    .dataframe thead th {\n",
       "        text-align: right;\n",
       "    }\n",
       "</style>\n",
       "<table border=\"1\" class=\"dataframe\">\n",
       "  <thead>\n",
       "    <tr style=\"text-align: right;\">\n",
       "      <th></th>\n",
       "      <th>line_id</th>\n",
       "      <th>hotspot_kb</th>\n",
       "      <th>total_kb</th>\n",
       "      <th>voice_count_total</th>\n",
       "      <th>voice_min_total</th>\n",
       "      <th>mms_total</th>\n",
       "      <th>sms_total</th>\n",
       "      <th>length_of_connection</th>\n",
       "      <th>upgrade</th>\n",
       "      <th>used_network</th>\n",
       "    </tr>\n",
       "  </thead>\n",
       "  <tbody>\n",
       "    <tr>\n",
       "      <th>0</th>\n",
       "      <td>d68ae44f-764f-40c1-9f1f-3c32af0c8d2b</td>\n",
       "      <td>0.0</td>\n",
       "      <td>0.0</td>\n",
       "      <td>0.0</td>\n",
       "      <td>0.0</td>\n",
       "      <td>0.0</td>\n",
       "      <td>0.0</td>\n",
       "      <td>0.0</td>\n",
       "      <td>0.0</td>\n",
       "      <td>0.0</td>\n",
       "    </tr>\n",
       "    <tr>\n",
       "      <th>1</th>\n",
       "      <td>9c02132c-40bd-4295-a47c-77c75da4fe22</td>\n",
       "      <td>0.0</td>\n",
       "      <td>0.0</td>\n",
       "      <td>0.0</td>\n",
       "      <td>0.0</td>\n",
       "      <td>0.0</td>\n",
       "      <td>0.0</td>\n",
       "      <td>0.0</td>\n",
       "      <td>0.0</td>\n",
       "      <td>0.0</td>\n",
       "    </tr>\n",
       "    <tr>\n",
       "      <th>2</th>\n",
       "      <td>d3b45557-19ca-4d6c-8ec0-204a847af712</td>\n",
       "      <td>0.0</td>\n",
       "      <td>0.0</td>\n",
       "      <td>0.0</td>\n",
       "      <td>0.0</td>\n",
       "      <td>0.0</td>\n",
       "      <td>0.0</td>\n",
       "      <td>0.0</td>\n",
       "      <td>0.0</td>\n",
       "      <td>0.0</td>\n",
       "    </tr>\n",
       "    <tr>\n",
       "      <th>3</th>\n",
       "      <td>755101ef-692c-4431-b34b-bb803fb3033a</td>\n",
       "      <td>0.0</td>\n",
       "      <td>0.0</td>\n",
       "      <td>0.0</td>\n",
       "      <td>0.0</td>\n",
       "      <td>0.0</td>\n",
       "      <td>0.0</td>\n",
       "      <td>0.0</td>\n",
       "      <td>0.0</td>\n",
       "      <td>0.0</td>\n",
       "    </tr>\n",
       "    <tr>\n",
       "      <th>4</th>\n",
       "      <td>01dc7fad-a6de-45d0-b710-4d6b54828aba</td>\n",
       "      <td>0.0</td>\n",
       "      <td>0.0</td>\n",
       "      <td>0.0</td>\n",
       "      <td>0.0</td>\n",
       "      <td>0.0</td>\n",
       "      <td>0.0</td>\n",
       "      <td>0.0</td>\n",
       "      <td>0.0</td>\n",
       "      <td>0.0</td>\n",
       "    </tr>\n",
       "    <tr>\n",
       "      <th>...</th>\n",
       "      <td>...</td>\n",
       "      <td>...</td>\n",
       "      <td>...</td>\n",
       "      <td>...</td>\n",
       "      <td>...</td>\n",
       "      <td>...</td>\n",
       "      <td>...</td>\n",
       "      <td>...</td>\n",
       "      <td>...</td>\n",
       "      <td>...</td>\n",
       "    </tr>\n",
       "    <tr>\n",
       "      <th>745</th>\n",
       "      <td>16e0f170-641b-43d2-910d-5134a6623358</td>\n",
       "      <td>0.0</td>\n",
       "      <td>0.0</td>\n",
       "      <td>0.0</td>\n",
       "      <td>0.0</td>\n",
       "      <td>0.0</td>\n",
       "      <td>0.0</td>\n",
       "      <td>0.0</td>\n",
       "      <td>0.0</td>\n",
       "      <td>0.0</td>\n",
       "    </tr>\n",
       "    <tr>\n",
       "      <th>746</th>\n",
       "      <td>a9d8bd8e-12b3-4fd9-b9d5-1039b1c57f48</td>\n",
       "      <td>0.0</td>\n",
       "      <td>0.0</td>\n",
       "      <td>0.0</td>\n",
       "      <td>0.0</td>\n",
       "      <td>0.0</td>\n",
       "      <td>0.0</td>\n",
       "      <td>0.0</td>\n",
       "      <td>0.0</td>\n",
       "      <td>0.0</td>\n",
       "    </tr>\n",
       "    <tr>\n",
       "      <th>747</th>\n",
       "      <td>61086361-8a0b-40e5-a1a1-ce64fde5956c</td>\n",
       "      <td>0.0</td>\n",
       "      <td>0.0</td>\n",
       "      <td>0.0</td>\n",
       "      <td>0.0</td>\n",
       "      <td>0.0</td>\n",
       "      <td>0.0</td>\n",
       "      <td>0.0</td>\n",
       "      <td>0.0</td>\n",
       "      <td>0.0</td>\n",
       "    </tr>\n",
       "    <tr>\n",
       "      <th>748</th>\n",
       "      <td>9b33efbb-3af9-426b-8c86-b4224cdeee18</td>\n",
       "      <td>0.0</td>\n",
       "      <td>0.0</td>\n",
       "      <td>0.0</td>\n",
       "      <td>0.0</td>\n",
       "      <td>0.0</td>\n",
       "      <td>0.0</td>\n",
       "      <td>0.0</td>\n",
       "      <td>0.0</td>\n",
       "      <td>0.0</td>\n",
       "    </tr>\n",
       "    <tr>\n",
       "      <th>749</th>\n",
       "      <td>43135b44-6278-4fa2-9306-27287f2a3db5</td>\n",
       "      <td>0.0</td>\n",
       "      <td>0.0</td>\n",
       "      <td>0.0</td>\n",
       "      <td>0.0</td>\n",
       "      <td>0.0</td>\n",
       "      <td>0.0</td>\n",
       "      <td>0.0</td>\n",
       "      <td>0.0</td>\n",
       "      <td>0.0</td>\n",
       "    </tr>\n",
       "  </tbody>\n",
       "</table>\n",
       "<p>750 rows × 10 columns</p>\n",
       "</div>"
      ],
      "text/plain": [
       "                                  line_id  hotspot_kb  total_kb  \\\n",
       "0    d68ae44f-764f-40c1-9f1f-3c32af0c8d2b         0.0       0.0   \n",
       "1    9c02132c-40bd-4295-a47c-77c75da4fe22         0.0       0.0   \n",
       "2    d3b45557-19ca-4d6c-8ec0-204a847af712         0.0       0.0   \n",
       "3    755101ef-692c-4431-b34b-bb803fb3033a         0.0       0.0   \n",
       "4    01dc7fad-a6de-45d0-b710-4d6b54828aba         0.0       0.0   \n",
       "..                                    ...         ...       ...   \n",
       "745  16e0f170-641b-43d2-910d-5134a6623358         0.0       0.0   \n",
       "746  a9d8bd8e-12b3-4fd9-b9d5-1039b1c57f48         0.0       0.0   \n",
       "747  61086361-8a0b-40e5-a1a1-ce64fde5956c         0.0       0.0   \n",
       "748  9b33efbb-3af9-426b-8c86-b4224cdeee18         0.0       0.0   \n",
       "749  43135b44-6278-4fa2-9306-27287f2a3db5         0.0       0.0   \n",
       "\n",
       "     voice_count_total  voice_min_total  mms_total  sms_total  \\\n",
       "0                  0.0              0.0        0.0        0.0   \n",
       "1                  0.0              0.0        0.0        0.0   \n",
       "2                  0.0              0.0        0.0        0.0   \n",
       "3                  0.0              0.0        0.0        0.0   \n",
       "4                  0.0              0.0        0.0        0.0   \n",
       "..                 ...              ...        ...        ...   \n",
       "745                0.0              0.0        0.0        0.0   \n",
       "746                0.0              0.0        0.0        0.0   \n",
       "747                0.0              0.0        0.0        0.0   \n",
       "748                0.0              0.0        0.0        0.0   \n",
       "749                0.0              0.0        0.0        0.0   \n",
       "\n",
       "     length_of_connection  upgrade  used_network  \n",
       "0                     0.0      0.0           0.0  \n",
       "1                     0.0      0.0           0.0  \n",
       "2                     0.0      0.0           0.0  \n",
       "3                     0.0      0.0           0.0  \n",
       "4                     0.0      0.0           0.0  \n",
       "..                    ...      ...           ...  \n",
       "745                   0.0      0.0           0.0  \n",
       "746                   0.0      0.0           0.0  \n",
       "747                   0.0      0.0           0.0  \n",
       "748                   0.0      0.0           0.0  \n",
       "749                   0.0      0.0           0.0  \n",
       "\n",
       "[750 rows x 10 columns]"
      ]
     },
     "execution_count": 24,
     "metadata": {},
     "output_type": "execute_result"
    }
   ],
   "source": [
    "not_connect"
   ]
  },
  {
   "cell_type": "code",
   "execution_count": 25,
   "metadata": {},
   "outputs": [],
   "source": [
    "not_connect.drop(['upgrade'], axis=1, inplace = True)"
   ]
  },
  {
   "cell_type": "code",
   "execution_count": 26,
   "metadata": {},
   "outputs": [],
   "source": [
    "not_connect = not_connect.merge(upgrades, left_on='line_id', right_on='line_id')"
   ]
  },
  {
   "cell_type": "code",
   "execution_count": 27,
   "metadata": {},
   "outputs": [],
   "source": [
    "encoder = LabelEncoder()\n",
    "not_connect['upgrade'] = encoder.fit_transform(not_connect['upgrade'])"
   ]
  },
  {
   "cell_type": "code",
   "execution_count": 28,
   "metadata": {},
   "outputs": [
    {
     "data": {
      "text/html": [
       "<div>\n",
       "<style scoped>\n",
       "    .dataframe tbody tr th:only-of-type {\n",
       "        vertical-align: middle;\n",
       "    }\n",
       "\n",
       "    .dataframe tbody tr th {\n",
       "        vertical-align: top;\n",
       "    }\n",
       "\n",
       "    .dataframe thead th {\n",
       "        text-align: right;\n",
       "    }\n",
       "</style>\n",
       "<table border=\"1\" class=\"dataframe\">\n",
       "  <thead>\n",
       "    <tr style=\"text-align: right;\">\n",
       "      <th></th>\n",
       "      <th>line_id</th>\n",
       "      <th>hotspot_kb</th>\n",
       "      <th>total_kb</th>\n",
       "      <th>voice_count_total</th>\n",
       "      <th>voice_min_total</th>\n",
       "      <th>mms_total</th>\n",
       "      <th>sms_total</th>\n",
       "      <th>length_of_connection</th>\n",
       "      <th>upgrade</th>\n",
       "      <th>used_network</th>\n",
       "      <th>date_observed</th>\n",
       "    </tr>\n",
       "  </thead>\n",
       "  <tbody>\n",
       "    <tr>\n",
       "      <th>0</th>\n",
       "      <td>000027f8-7b65-407a-a90e-619e16f7cd60</td>\n",
       "      <td>0.0</td>\n",
       "      <td>296366.681212</td>\n",
       "      <td>20.214286</td>\n",
       "      <td>66.857143</td>\n",
       "      <td>0.683673</td>\n",
       "      <td>7.255102</td>\n",
       "      <td>147.0</td>\n",
       "      <td>0</td>\n",
       "      <td>1.0</td>\n",
       "      <td>NaN</td>\n",
       "    </tr>\n",
       "    <tr>\n",
       "      <th>1</th>\n",
       "      <td>0000871b-a418-424b-b6f6-79cfc4db0a12</td>\n",
       "      <td>0.0</td>\n",
       "      <td>50172.835829</td>\n",
       "      <td>1.222222</td>\n",
       "      <td>4.000000</td>\n",
       "      <td>0.069444</td>\n",
       "      <td>3.041667</td>\n",
       "      <td>227.0</td>\n",
       "      <td>0</td>\n",
       "      <td>1.0</td>\n",
       "      <td>NaN</td>\n",
       "    </tr>\n",
       "    <tr>\n",
       "      <th>2</th>\n",
       "      <td>00022391-6d4e-41bb-a0ca-2af25cec301d</td>\n",
       "      <td>0.0</td>\n",
       "      <td>100985.151654</td>\n",
       "      <td>3.036697</td>\n",
       "      <td>4.862385</td>\n",
       "      <td>0.495413</td>\n",
       "      <td>6.220183</td>\n",
       "      <td>224.0</td>\n",
       "      <td>0</td>\n",
       "      <td>1.0</td>\n",
       "      <td>NaN</td>\n",
       "    </tr>\n",
       "    <tr>\n",
       "      <th>3</th>\n",
       "      <td>00040e10-1cd1-434c-bf4f-3fd3cc6ecdf8</td>\n",
       "      <td>0.0</td>\n",
       "      <td>124198.959961</td>\n",
       "      <td>2.897436</td>\n",
       "      <td>6.000000</td>\n",
       "      <td>0.846154</td>\n",
       "      <td>26.410256</td>\n",
       "      <td>125.0</td>\n",
       "      <td>0</td>\n",
       "      <td>1.0</td>\n",
       "      <td>NaN</td>\n",
       "    </tr>\n",
       "    <tr>\n",
       "      <th>4</th>\n",
       "      <td>00044afe-35a4-4313-92ec-36618c83fb23</td>\n",
       "      <td>0.0</td>\n",
       "      <td>149104.967440</td>\n",
       "      <td>3.131737</td>\n",
       "      <td>6.676647</td>\n",
       "      <td>0.395210</td>\n",
       "      <td>5.754491</td>\n",
       "      <td>227.0</td>\n",
       "      <td>0</td>\n",
       "      <td>1.0</td>\n",
       "      <td>NaN</td>\n",
       "    </tr>\n",
       "    <tr>\n",
       "      <th>...</th>\n",
       "      <td>...</td>\n",
       "      <td>...</td>\n",
       "      <td>...</td>\n",
       "      <td>...</td>\n",
       "      <td>...</td>\n",
       "      <td>...</td>\n",
       "      <td>...</td>\n",
       "      <td>...</td>\n",
       "      <td>...</td>\n",
       "      <td>...</td>\n",
       "      <td>...</td>\n",
       "    </tr>\n",
       "    <tr>\n",
       "      <th>745</th>\n",
       "      <td>16e0f170-641b-43d2-910d-5134a6623358</td>\n",
       "      <td>0.0</td>\n",
       "      <td>0.000000</td>\n",
       "      <td>0.000000</td>\n",
       "      <td>0.000000</td>\n",
       "      <td>0.000000</td>\n",
       "      <td>0.000000</td>\n",
       "      <td>0.0</td>\n",
       "      <td>1</td>\n",
       "      <td>0.0</td>\n",
       "      <td>2021-03-14</td>\n",
       "    </tr>\n",
       "    <tr>\n",
       "      <th>746</th>\n",
       "      <td>a9d8bd8e-12b3-4fd9-b9d5-1039b1c57f48</td>\n",
       "      <td>0.0</td>\n",
       "      <td>0.000000</td>\n",
       "      <td>0.000000</td>\n",
       "      <td>0.000000</td>\n",
       "      <td>0.000000</td>\n",
       "      <td>0.000000</td>\n",
       "      <td>0.0</td>\n",
       "      <td>1</td>\n",
       "      <td>0.0</td>\n",
       "      <td>2021-03-14</td>\n",
       "    </tr>\n",
       "    <tr>\n",
       "      <th>747</th>\n",
       "      <td>61086361-8a0b-40e5-a1a1-ce64fde5956c</td>\n",
       "      <td>0.0</td>\n",
       "      <td>0.000000</td>\n",
       "      <td>0.000000</td>\n",
       "      <td>0.000000</td>\n",
       "      <td>0.000000</td>\n",
       "      <td>0.000000</td>\n",
       "      <td>0.0</td>\n",
       "      <td>1</td>\n",
       "      <td>0.0</td>\n",
       "      <td>2021-03-14</td>\n",
       "    </tr>\n",
       "    <tr>\n",
       "      <th>748</th>\n",
       "      <td>9b33efbb-3af9-426b-8c86-b4224cdeee18</td>\n",
       "      <td>0.0</td>\n",
       "      <td>0.000000</td>\n",
       "      <td>0.000000</td>\n",
       "      <td>0.000000</td>\n",
       "      <td>0.000000</td>\n",
       "      <td>0.000000</td>\n",
       "      <td>0.0</td>\n",
       "      <td>1</td>\n",
       "      <td>0.0</td>\n",
       "      <td>2021-03-10</td>\n",
       "    </tr>\n",
       "    <tr>\n",
       "      <th>749</th>\n",
       "      <td>43135b44-6278-4fa2-9306-27287f2a3db5</td>\n",
       "      <td>0.0</td>\n",
       "      <td>0.000000</td>\n",
       "      <td>0.000000</td>\n",
       "      <td>0.000000</td>\n",
       "      <td>0.000000</td>\n",
       "      <td>0.000000</td>\n",
       "      <td>0.0</td>\n",
       "      <td>0</td>\n",
       "      <td>0.0</td>\n",
       "      <td>2021-03-11</td>\n",
       "    </tr>\n",
       "  </tbody>\n",
       "</table>\n",
       "<p>55868 rows × 11 columns</p>\n",
       "</div>"
      ],
      "text/plain": [
       "                                  line_id  hotspot_kb       total_kb  \\\n",
       "0    000027f8-7b65-407a-a90e-619e16f7cd60         0.0  296366.681212   \n",
       "1    0000871b-a418-424b-b6f6-79cfc4db0a12         0.0   50172.835829   \n",
       "2    00022391-6d4e-41bb-a0ca-2af25cec301d         0.0  100985.151654   \n",
       "3    00040e10-1cd1-434c-bf4f-3fd3cc6ecdf8         0.0  124198.959961   \n",
       "4    00044afe-35a4-4313-92ec-36618c83fb23         0.0  149104.967440   \n",
       "..                                    ...         ...            ...   \n",
       "745  16e0f170-641b-43d2-910d-5134a6623358         0.0       0.000000   \n",
       "746  a9d8bd8e-12b3-4fd9-b9d5-1039b1c57f48         0.0       0.000000   \n",
       "747  61086361-8a0b-40e5-a1a1-ce64fde5956c         0.0       0.000000   \n",
       "748  9b33efbb-3af9-426b-8c86-b4224cdeee18         0.0       0.000000   \n",
       "749  43135b44-6278-4fa2-9306-27287f2a3db5         0.0       0.000000   \n",
       "\n",
       "     voice_count_total  voice_min_total  mms_total  sms_total  \\\n",
       "0            20.214286        66.857143   0.683673   7.255102   \n",
       "1             1.222222         4.000000   0.069444   3.041667   \n",
       "2             3.036697         4.862385   0.495413   6.220183   \n",
       "3             2.897436         6.000000   0.846154  26.410256   \n",
       "4             3.131737         6.676647   0.395210   5.754491   \n",
       "..                 ...              ...        ...        ...   \n",
       "745           0.000000         0.000000   0.000000   0.000000   \n",
       "746           0.000000         0.000000   0.000000   0.000000   \n",
       "747           0.000000         0.000000   0.000000   0.000000   \n",
       "748           0.000000         0.000000   0.000000   0.000000   \n",
       "749           0.000000         0.000000   0.000000   0.000000   \n",
       "\n",
       "     length_of_connection  upgrade  used_network date_observed  \n",
       "0                   147.0        0           1.0           NaN  \n",
       "1                   227.0        0           1.0           NaN  \n",
       "2                   224.0        0           1.0           NaN  \n",
       "3                   125.0        0           1.0           NaN  \n",
       "4                   227.0        0           1.0           NaN  \n",
       "..                    ...      ...           ...           ...  \n",
       "745                   0.0        1           0.0    2021-03-14  \n",
       "746                   0.0        1           0.0    2021-03-14  \n",
       "747                   0.0        1           0.0    2021-03-14  \n",
       "748                   0.0        1           0.0    2021-03-10  \n",
       "749                   0.0        0           0.0    2021-03-11  \n",
       "\n",
       "[55868 rows x 11 columns]"
      ]
     },
     "execution_count": 28,
     "metadata": {},
     "output_type": "execute_result"
    }
   ],
   "source": [
    "pd.concat([final_network, not_connect])"
   ]
  },
  {
   "cell_type": "code",
   "execution_count": null,
   "metadata": {},
   "outputs": [],
   "source": []
  },
  {
   "cell_type": "code",
   "execution_count": 29,
   "metadata": {},
   "outputs": [],
   "source": [
    "final_network = pd.concat([final_network, not_connect])\n"
   ]
  },
  {
   "cell_type": "code",
   "execution_count": 30,
   "metadata": {},
   "outputs": [],
   "source": [
    "final_network.drop(['date_observed'], axis=1, inplace = True)\n"
   ]
  },
  {
   "cell_type": "code",
   "execution_count": 119,
   "metadata": {},
   "outputs": [],
   "source": [
    "final_network.to_csv(root_folder+\"sample-notebook/final_network.csv\", index=False)"
   ]
  },
  {
   "cell_type": "code",
   "execution_count": 31,
   "metadata": {},
   "outputs": [
    {
     "data": {
      "text/html": [
       "<div>\n",
       "<style scoped>\n",
       "    .dataframe tbody tr th:only-of-type {\n",
       "        vertical-align: middle;\n",
       "    }\n",
       "\n",
       "    .dataframe tbody tr th {\n",
       "        vertical-align: top;\n",
       "    }\n",
       "\n",
       "    .dataframe thead th {\n",
       "        text-align: right;\n",
       "    }\n",
       "</style>\n",
       "<table border=\"1\" class=\"dataframe\">\n",
       "  <thead>\n",
       "    <tr style=\"text-align: right;\">\n",
       "      <th></th>\n",
       "      <th>line_id</th>\n",
       "      <th>hotspot_kb</th>\n",
       "      <th>total_kb</th>\n",
       "      <th>voice_count_total</th>\n",
       "      <th>voice_min_total</th>\n",
       "      <th>mms_total</th>\n",
       "      <th>sms_total</th>\n",
       "      <th>length_of_connection</th>\n",
       "      <th>upgrade</th>\n",
       "      <th>used_network</th>\n",
       "    </tr>\n",
       "  </thead>\n",
       "  <tbody>\n",
       "    <tr>\n",
       "      <th>0</th>\n",
       "      <td>000027f8-7b65-407a-a90e-619e16f7cd60</td>\n",
       "      <td>0.0</td>\n",
       "      <td>296366.681212</td>\n",
       "      <td>20.214286</td>\n",
       "      <td>66.857143</td>\n",
       "      <td>0.683673</td>\n",
       "      <td>7.255102</td>\n",
       "      <td>147.0</td>\n",
       "      <td>0</td>\n",
       "      <td>1.0</td>\n",
       "    </tr>\n",
       "    <tr>\n",
       "      <th>1</th>\n",
       "      <td>0000871b-a418-424b-b6f6-79cfc4db0a12</td>\n",
       "      <td>0.0</td>\n",
       "      <td>50172.835829</td>\n",
       "      <td>1.222222</td>\n",
       "      <td>4.000000</td>\n",
       "      <td>0.069444</td>\n",
       "      <td>3.041667</td>\n",
       "      <td>227.0</td>\n",
       "      <td>0</td>\n",
       "      <td>1.0</td>\n",
       "    </tr>\n",
       "    <tr>\n",
       "      <th>2</th>\n",
       "      <td>00022391-6d4e-41bb-a0ca-2af25cec301d</td>\n",
       "      <td>0.0</td>\n",
       "      <td>100985.151654</td>\n",
       "      <td>3.036697</td>\n",
       "      <td>4.862385</td>\n",
       "      <td>0.495413</td>\n",
       "      <td>6.220183</td>\n",
       "      <td>224.0</td>\n",
       "      <td>0</td>\n",
       "      <td>1.0</td>\n",
       "    </tr>\n",
       "    <tr>\n",
       "      <th>3</th>\n",
       "      <td>00040e10-1cd1-434c-bf4f-3fd3cc6ecdf8</td>\n",
       "      <td>0.0</td>\n",
       "      <td>124198.959961</td>\n",
       "      <td>2.897436</td>\n",
       "      <td>6.000000</td>\n",
       "      <td>0.846154</td>\n",
       "      <td>26.410256</td>\n",
       "      <td>125.0</td>\n",
       "      <td>0</td>\n",
       "      <td>1.0</td>\n",
       "    </tr>\n",
       "    <tr>\n",
       "      <th>4</th>\n",
       "      <td>00044afe-35a4-4313-92ec-36618c83fb23</td>\n",
       "      <td>0.0</td>\n",
       "      <td>149104.967440</td>\n",
       "      <td>3.131737</td>\n",
       "      <td>6.676647</td>\n",
       "      <td>0.395210</td>\n",
       "      <td>5.754491</td>\n",
       "      <td>227.0</td>\n",
       "      <td>0</td>\n",
       "      <td>1.0</td>\n",
       "    </tr>\n",
       "    <tr>\n",
       "      <th>...</th>\n",
       "      <td>...</td>\n",
       "      <td>...</td>\n",
       "      <td>...</td>\n",
       "      <td>...</td>\n",
       "      <td>...</td>\n",
       "      <td>...</td>\n",
       "      <td>...</td>\n",
       "      <td>...</td>\n",
       "      <td>...</td>\n",
       "      <td>...</td>\n",
       "    </tr>\n",
       "    <tr>\n",
       "      <th>745</th>\n",
       "      <td>16e0f170-641b-43d2-910d-5134a6623358</td>\n",
       "      <td>0.0</td>\n",
       "      <td>0.000000</td>\n",
       "      <td>0.000000</td>\n",
       "      <td>0.000000</td>\n",
       "      <td>0.000000</td>\n",
       "      <td>0.000000</td>\n",
       "      <td>0.0</td>\n",
       "      <td>1</td>\n",
       "      <td>0.0</td>\n",
       "    </tr>\n",
       "    <tr>\n",
       "      <th>746</th>\n",
       "      <td>a9d8bd8e-12b3-4fd9-b9d5-1039b1c57f48</td>\n",
       "      <td>0.0</td>\n",
       "      <td>0.000000</td>\n",
       "      <td>0.000000</td>\n",
       "      <td>0.000000</td>\n",
       "      <td>0.000000</td>\n",
       "      <td>0.000000</td>\n",
       "      <td>0.0</td>\n",
       "      <td>1</td>\n",
       "      <td>0.0</td>\n",
       "    </tr>\n",
       "    <tr>\n",
       "      <th>747</th>\n",
       "      <td>61086361-8a0b-40e5-a1a1-ce64fde5956c</td>\n",
       "      <td>0.0</td>\n",
       "      <td>0.000000</td>\n",
       "      <td>0.000000</td>\n",
       "      <td>0.000000</td>\n",
       "      <td>0.000000</td>\n",
       "      <td>0.000000</td>\n",
       "      <td>0.0</td>\n",
       "      <td>1</td>\n",
       "      <td>0.0</td>\n",
       "    </tr>\n",
       "    <tr>\n",
       "      <th>748</th>\n",
       "      <td>9b33efbb-3af9-426b-8c86-b4224cdeee18</td>\n",
       "      <td>0.0</td>\n",
       "      <td>0.000000</td>\n",
       "      <td>0.000000</td>\n",
       "      <td>0.000000</td>\n",
       "      <td>0.000000</td>\n",
       "      <td>0.000000</td>\n",
       "      <td>0.0</td>\n",
       "      <td>1</td>\n",
       "      <td>0.0</td>\n",
       "    </tr>\n",
       "    <tr>\n",
       "      <th>749</th>\n",
       "      <td>43135b44-6278-4fa2-9306-27287f2a3db5</td>\n",
       "      <td>0.0</td>\n",
       "      <td>0.000000</td>\n",
       "      <td>0.000000</td>\n",
       "      <td>0.000000</td>\n",
       "      <td>0.000000</td>\n",
       "      <td>0.000000</td>\n",
       "      <td>0.0</td>\n",
       "      <td>0</td>\n",
       "      <td>0.0</td>\n",
       "    </tr>\n",
       "  </tbody>\n",
       "</table>\n",
       "<p>55868 rows × 10 columns</p>\n",
       "</div>"
      ],
      "text/plain": [
       "                                  line_id  hotspot_kb       total_kb  \\\n",
       "0    000027f8-7b65-407a-a90e-619e16f7cd60         0.0  296366.681212   \n",
       "1    0000871b-a418-424b-b6f6-79cfc4db0a12         0.0   50172.835829   \n",
       "2    00022391-6d4e-41bb-a0ca-2af25cec301d         0.0  100985.151654   \n",
       "3    00040e10-1cd1-434c-bf4f-3fd3cc6ecdf8         0.0  124198.959961   \n",
       "4    00044afe-35a4-4313-92ec-36618c83fb23         0.0  149104.967440   \n",
       "..                                    ...         ...            ...   \n",
       "745  16e0f170-641b-43d2-910d-5134a6623358         0.0       0.000000   \n",
       "746  a9d8bd8e-12b3-4fd9-b9d5-1039b1c57f48         0.0       0.000000   \n",
       "747  61086361-8a0b-40e5-a1a1-ce64fde5956c         0.0       0.000000   \n",
       "748  9b33efbb-3af9-426b-8c86-b4224cdeee18         0.0       0.000000   \n",
       "749  43135b44-6278-4fa2-9306-27287f2a3db5         0.0       0.000000   \n",
       "\n",
       "     voice_count_total  voice_min_total  mms_total  sms_total  \\\n",
       "0            20.214286        66.857143   0.683673   7.255102   \n",
       "1             1.222222         4.000000   0.069444   3.041667   \n",
       "2             3.036697         4.862385   0.495413   6.220183   \n",
       "3             2.897436         6.000000   0.846154  26.410256   \n",
       "4             3.131737         6.676647   0.395210   5.754491   \n",
       "..                 ...              ...        ...        ...   \n",
       "745           0.000000         0.000000   0.000000   0.000000   \n",
       "746           0.000000         0.000000   0.000000   0.000000   \n",
       "747           0.000000         0.000000   0.000000   0.000000   \n",
       "748           0.000000         0.000000   0.000000   0.000000   \n",
       "749           0.000000         0.000000   0.000000   0.000000   \n",
       "\n",
       "     length_of_connection  upgrade  used_network  \n",
       "0                   147.0        0           1.0  \n",
       "1                   227.0        0           1.0  \n",
       "2                   224.0        0           1.0  \n",
       "3                   125.0        0           1.0  \n",
       "4                   227.0        0           1.0  \n",
       "..                    ...      ...           ...  \n",
       "745                   0.0        1           0.0  \n",
       "746                   0.0        1           0.0  \n",
       "747                   0.0        1           0.0  \n",
       "748                   0.0        1           0.0  \n",
       "749                   0.0        0           0.0  \n",
       "\n",
       "[55868 rows x 10 columns]"
      ]
     },
     "execution_count": 31,
     "metadata": {},
     "output_type": "execute_result"
    }
   ],
   "source": [
    "final_network"
   ]
  },
  {
   "cell_type": "code",
   "execution_count": 121,
   "metadata": {},
   "outputs": [
    {
     "data": {
      "text/html": [
       "<div>\n",
       "<style scoped>\n",
       "    .dataframe tbody tr th:only-of-type {\n",
       "        vertical-align: middle;\n",
       "    }\n",
       "\n",
       "    .dataframe tbody tr th {\n",
       "        vertical-align: top;\n",
       "    }\n",
       "\n",
       "    .dataframe thead th {\n",
       "        text-align: right;\n",
       "    }\n",
       "</style>\n",
       "<table border=\"1\" class=\"dataframe\">\n",
       "  <thead>\n",
       "    <tr style=\"text-align: right;\">\n",
       "      <th></th>\n",
       "      <th>line_id</th>\n",
       "      <th>hotspot_kb</th>\n",
       "      <th>total_kb</th>\n",
       "      <th>voice_count_total</th>\n",
       "      <th>voice_min_total</th>\n",
       "      <th>mms_total</th>\n",
       "      <th>sms_total</th>\n",
       "      <th>length_of_connection</th>\n",
       "      <th>upgrade</th>\n",
       "      <th>used_network</th>\n",
       "    </tr>\n",
       "  </thead>\n",
       "  <tbody>\n",
       "    <tr>\n",
       "      <th>0</th>\n",
       "      <td>000027f8-7b65-407a-a90e-619e16f7cd60</td>\n",
       "      <td>0.0</td>\n",
       "      <td>296366.681212</td>\n",
       "      <td>20.214286</td>\n",
       "      <td>66.857143</td>\n",
       "      <td>0.683673</td>\n",
       "      <td>7.255102</td>\n",
       "      <td>143.0</td>\n",
       "      <td>0</td>\n",
       "      <td>1.0</td>\n",
       "    </tr>\n",
       "    <tr>\n",
       "      <th>1</th>\n",
       "      <td>0000871b-a418-424b-b6f6-79cfc4db0a12</td>\n",
       "      <td>0.0</td>\n",
       "      <td>50172.835829</td>\n",
       "      <td>1.222222</td>\n",
       "      <td>4.000000</td>\n",
       "      <td>0.069444</td>\n",
       "      <td>3.041667</td>\n",
       "      <td>223.0</td>\n",
       "      <td>0</td>\n",
       "      <td>1.0</td>\n",
       "    </tr>\n",
       "    <tr>\n",
       "      <th>2</th>\n",
       "      <td>00022391-6d4e-41bb-a0ca-2af25cec301d</td>\n",
       "      <td>0.0</td>\n",
       "      <td>100985.151654</td>\n",
       "      <td>3.036697</td>\n",
       "      <td>4.862385</td>\n",
       "      <td>0.495413</td>\n",
       "      <td>6.220183</td>\n",
       "      <td>220.0</td>\n",
       "      <td>0</td>\n",
       "      <td>1.0</td>\n",
       "    </tr>\n",
       "    <tr>\n",
       "      <th>3</th>\n",
       "      <td>00040e10-1cd1-434c-bf4f-3fd3cc6ecdf8</td>\n",
       "      <td>0.0</td>\n",
       "      <td>124198.959961</td>\n",
       "      <td>2.897436</td>\n",
       "      <td>6.000000</td>\n",
       "      <td>0.846154</td>\n",
       "      <td>26.410256</td>\n",
       "      <td>121.0</td>\n",
       "      <td>0</td>\n",
       "      <td>1.0</td>\n",
       "    </tr>\n",
       "    <tr>\n",
       "      <th>4</th>\n",
       "      <td>00044afe-35a4-4313-92ec-36618c83fb23</td>\n",
       "      <td>0.0</td>\n",
       "      <td>149104.967440</td>\n",
       "      <td>3.131737</td>\n",
       "      <td>6.676647</td>\n",
       "      <td>0.395210</td>\n",
       "      <td>5.754491</td>\n",
       "      <td>223.0</td>\n",
       "      <td>0</td>\n",
       "      <td>1.0</td>\n",
       "    </tr>\n",
       "    <tr>\n",
       "      <th>...</th>\n",
       "      <td>...</td>\n",
       "      <td>...</td>\n",
       "      <td>...</td>\n",
       "      <td>...</td>\n",
       "      <td>...</td>\n",
       "      <td>...</td>\n",
       "      <td>...</td>\n",
       "      <td>...</td>\n",
       "      <td>...</td>\n",
       "      <td>...</td>\n",
       "    </tr>\n",
       "    <tr>\n",
       "      <th>55863</th>\n",
       "      <td>5417b47a-8bf9-4f76-a4bb-61134b8a3acd</td>\n",
       "      <td>0.0</td>\n",
       "      <td>0.000000</td>\n",
       "      <td>0.000000</td>\n",
       "      <td>0.000000</td>\n",
       "      <td>0.000000</td>\n",
       "      <td>0.000000</td>\n",
       "      <td>0.0</td>\n",
       "      <td>0</td>\n",
       "      <td>0.0</td>\n",
       "    </tr>\n",
       "    <tr>\n",
       "      <th>55864</th>\n",
       "      <td>fb009377-0329-4b15-9a30-bcbd72906c74</td>\n",
       "      <td>0.0</td>\n",
       "      <td>0.000000</td>\n",
       "      <td>0.000000</td>\n",
       "      <td>0.000000</td>\n",
       "      <td>0.000000</td>\n",
       "      <td>0.000000</td>\n",
       "      <td>0.0</td>\n",
       "      <td>0</td>\n",
       "      <td>0.0</td>\n",
       "    </tr>\n",
       "    <tr>\n",
       "      <th>55865</th>\n",
       "      <td>d6cb2013-8d50-47c3-b232-ed10a637e2d5</td>\n",
       "      <td>0.0</td>\n",
       "      <td>0.000000</td>\n",
       "      <td>0.000000</td>\n",
       "      <td>0.000000</td>\n",
       "      <td>0.000000</td>\n",
       "      <td>0.000000</td>\n",
       "      <td>0.0</td>\n",
       "      <td>0</td>\n",
       "      <td>0.0</td>\n",
       "    </tr>\n",
       "    <tr>\n",
       "      <th>55866</th>\n",
       "      <td>9f5c73aa-9ad5-4e13-98e3-8817c1d87640</td>\n",
       "      <td>0.0</td>\n",
       "      <td>0.000000</td>\n",
       "      <td>0.000000</td>\n",
       "      <td>0.000000</td>\n",
       "      <td>0.000000</td>\n",
       "      <td>0.000000</td>\n",
       "      <td>0.0</td>\n",
       "      <td>1</td>\n",
       "      <td>0.0</td>\n",
       "    </tr>\n",
       "    <tr>\n",
       "      <th>55867</th>\n",
       "      <td>568e120b-7e98-4926-a82b-bb611e28bdef</td>\n",
       "      <td>0.0</td>\n",
       "      <td>0.000000</td>\n",
       "      <td>0.000000</td>\n",
       "      <td>0.000000</td>\n",
       "      <td>0.000000</td>\n",
       "      <td>0.000000</td>\n",
       "      <td>0.0</td>\n",
       "      <td>0</td>\n",
       "      <td>0.0</td>\n",
       "    </tr>\n",
       "  </tbody>\n",
       "</table>\n",
       "<p>55868 rows × 10 columns</p>\n",
       "</div>"
      ],
      "text/plain": [
       "                                    line_id  hotspot_kb       total_kb  \\\n",
       "0      000027f8-7b65-407a-a90e-619e16f7cd60         0.0  296366.681212   \n",
       "1      0000871b-a418-424b-b6f6-79cfc4db0a12         0.0   50172.835829   \n",
       "2      00022391-6d4e-41bb-a0ca-2af25cec301d         0.0  100985.151654   \n",
       "3      00040e10-1cd1-434c-bf4f-3fd3cc6ecdf8         0.0  124198.959961   \n",
       "4      00044afe-35a4-4313-92ec-36618c83fb23         0.0  149104.967440   \n",
       "...                                     ...         ...            ...   \n",
       "55863  5417b47a-8bf9-4f76-a4bb-61134b8a3acd         0.0       0.000000   \n",
       "55864  fb009377-0329-4b15-9a30-bcbd72906c74         0.0       0.000000   \n",
       "55865  d6cb2013-8d50-47c3-b232-ed10a637e2d5         0.0       0.000000   \n",
       "55866  9f5c73aa-9ad5-4e13-98e3-8817c1d87640         0.0       0.000000   \n",
       "55867  568e120b-7e98-4926-a82b-bb611e28bdef         0.0       0.000000   \n",
       "\n",
       "       voice_count_total  voice_min_total  mms_total  sms_total  \\\n",
       "0              20.214286        66.857143   0.683673   7.255102   \n",
       "1               1.222222         4.000000   0.069444   3.041667   \n",
       "2               3.036697         4.862385   0.495413   6.220183   \n",
       "3               2.897436         6.000000   0.846154  26.410256   \n",
       "4               3.131737         6.676647   0.395210   5.754491   \n",
       "...                  ...              ...        ...        ...   \n",
       "55863           0.000000         0.000000   0.000000   0.000000   \n",
       "55864           0.000000         0.000000   0.000000   0.000000   \n",
       "55865           0.000000         0.000000   0.000000   0.000000   \n",
       "55866           0.000000         0.000000   0.000000   0.000000   \n",
       "55867           0.000000         0.000000   0.000000   0.000000   \n",
       "\n",
       "       length_of_connection  upgrade  used_network  \n",
       "0                     143.0        0           1.0  \n",
       "1                     223.0        0           1.0  \n",
       "2                     220.0        0           1.0  \n",
       "3                     121.0        0           1.0  \n",
       "4                     223.0        0           1.0  \n",
       "...                     ...      ...           ...  \n",
       "55863                   0.0        0           0.0  \n",
       "55864                   0.0        0           0.0  \n",
       "55865                   0.0        0           0.0  \n",
       "55866                   0.0        1           0.0  \n",
       "55867                   0.0        0           0.0  \n",
       "\n",
       "[55868 rows x 10 columns]"
      ]
     },
     "execution_count": 121,
     "metadata": {},
     "output_type": "execute_result"
    }
   ],
   "source": [
    "a=pd.read_csv(root_folder+\"sample-notebook/final_network.csv\")\n",
    "a"
   ]
  },
  {
   "cell_type": "code",
   "execution_count": 32,
   "metadata": {},
   "outputs": [
    {
     "data": {
      "text/plain": [
       "<AxesSubplot:>"
      ]
     },
     "execution_count": 32,
     "metadata": {},
     "output_type": "execute_result"
    },
    {
     "data": {
      "image/png": "[encoded data removed]",
      "text/plain": [
       "<Figure size 432x288 with 2 Axes>"
      ]
     },
     "metadata": {
      "needs_background": "light"
     },
     "output_type": "display_data"
    }
   ],
   "source": [
    "s = final_network.corr()\n",
    "sns.heatmap(s)"
   ]
  },
  {
   "cell_type": "code",
   "execution_count": 94,
   "metadata": {},
   "outputs": [],
   "source": [
    "line_id = network_usage_domestic['line_id']"
   ]
  },
  {
   "cell_type": "code",
   "execution_count": 95,
   "metadata": {},
   "outputs": [],
   "source": [
    "count = line_id.value_counts()"
   ]
  },
  {
   "cell_type": "code",
   "execution_count": 96,
   "metadata": {},
   "outputs": [],
   "source": [
    "count = count.to_frame()"
   ]
  },
  {
   "cell_type": "code",
   "execution_count": 97,
   "metadata": {},
   "outputs": [],
   "source": [
    "a = network_usage_domestic.groupby(['line_id']).size()"
   ]
  },
  {
   "cell_type": "code",
   "execution_count": 98,
   "metadata": {},
   "outputs": [],
   "source": [
    "a = a.sort_values()"
   ]
  },
  {
   "cell_type": "code",
   "execution_count": 99,
   "metadata": {},
   "outputs": [
    {
     "name": "stderr",
     "output_type": "stream",
     "text": [
      "/opt/conda/lib/python3.7/site-packages/pandas/plotting/_matplotlib/core.py:1192: UserWarning: FixedFormatter should only be used together with FixedLocator\n",
      "  ax.set_xticklabels(xticklabels)\n"
     ]
    },
    {
     "data": {
      "text/plain": [
       "<AxesSubplot:xlabel='line_id'>"
      ]
     },
     "execution_count": 99,
     "metadata": {},
     "output_type": "execute_result"
    },
    {
     "data": {
      "image/png": "[encoded data removed]",
      "text/plain": [
       "<Figure size 432x288 with 1 Axes>"
      ]
     },
     "metadata": {
      "needs_background": "light"
     },
     "output_type": "display_data"
    }
   ],
   "source": [
    "a.plot.line()"
   ]
  },
  {
   "cell_type": "code",
   "execution_count": 100,
   "metadata": {},
   "outputs": [],
   "source": [
    "b = network_usage_domestic.groupby(['date']).size()"
   ]
  },
  {
   "cell_type": "code",
   "execution_count": 101,
   "metadata": {
    "scrolled": true
   },
   "outputs": [
    {
     "name": "stderr",
     "output_type": "stream",
     "text": [
      "/opt/conda/lib/python3.7/site-packages/pandas/plotting/_matplotlib/core.py:1192: UserWarning: FixedFormatter should only be used together with FixedLocator\n",
      "  ax.set_xticklabels(xticklabels)\n"
     ]
    },
    {
     "data": {
      "text/plain": [
       "<AxesSubplot:xlabel='date'>"
      ]
     },
     "execution_count": 101,
     "metadata": {},
     "output_type": "execute_result"
    },
    {
     "data": {
      "image/png": "[encoded data removed]",
      "text/plain": [
       "<Figure size 432x288 with 1 Axes>"
      ]
     },
     "metadata": {
      "needs_background": "light"
     },
     "output_type": "display_data"
    }
   ],
   "source": [
    "b.plot.line()"
   ]
  },
  {
   "cell_type": "code",
   "execution_count": 39,
   "metadata": {},
   "outputs": [],
   "source": [
    "network_usage_domestic['voice_min_total'] = network_usage_domestic.apply(lambda row: row.voice_min_in + row.voice_min_out, axis=1)\n"
   ]
  },
  {
   "cell_type": "code",
   "execution_count": 42,
   "metadata": {},
   "outputs": [
    {
     "data": {
      "image/png": "[encoded data removed]",
      "text/plain": [
       "<Figure size 432x288 with 1 Axes>"
      ]
     },
     "metadata": {
      "needs_background": "light"
     },
     "output_type": "display_data"
    }
   ],
   "source": [
    "import matplotlib.pyplot as plt\n",
    "\n",
    "\n",
    "plt.scatter(x=network_usage_domestic['voice_min_total'], y=network_usage_domestic['voice_count_total'])\n",
    "\n",
    "plt.xlabel(\"voice_min_total\")\n",
    "plt.ylabel(\"voice_count_total\")\n",
    "plt.show()\n"
   ]
  },
  {
   "cell_type": "code",
   "execution_count": 43,
   "metadata": {},
   "outputs": [
    {
     "data": {
      "image/png": "[encoded data removed]",
      "text/plain": [
       "<Figure size 432x288 with 1 Axes>"
      ]
     },
     "metadata": {
      "needs_background": "light"
     },
     "output_type": "display_data"
    }
   ],
   "source": [
    "plt.scatter(x=network_usage_domestic['voice_min_in'], y=network_usage_domestic['voice_min_out'])\n",
    "plt.xlabel(\"voice_min_in\")\n",
    "plt.ylabel(\"voice_min_out\")\n",
    "plt.show()\n"
   ]
  },
  {
   "cell_type": "code",
   "execution_count": null,
   "metadata": {},
   "outputs": [],
   "source": []
  }
 ],
 "metadata": {
  "kernelspec": {
   "display_name": "Python 3",
   "language": "python",
   "name": "python3"
  },
  "language_info": {
   "codemirror_mode": {
    "name": "ipython",
    "version": 3
   },
   "file_extension": ".py",
   "mimetype": "text/x-python",
   "name": "python",
   "nbconvert_exporter": "python",
   "pygments_lexer": "ipython3",
   "version": "3.7.6"
  },
  "toc": {
   "base_numbering": 1,
   "nav_menu": {},
   "number_sections": true,
   "sideBar": true,
   "skip_h1_title": false,
   "title_cell": "Table of Contents",
   "title_sidebar": "Contents",
   "toc_cell": false,
   "toc_position": {},
   "toc_section_display": true,
   "toc_window_display": false
  },
  "varInspector": {
   "cols": {
    "lenName": 16,
    "lenType": 16,
    "lenVar": 40
   },
   "kernels_config": {
    "python": {
     "delete_cmd_postfix": "",
     "delete_cmd_prefix": "del ",
     "library": "var_list.py",
     "varRefreshCmd": "print(var_dic_list())"
    },
    "r": {
     "delete_cmd_postfix": ") ",
     "delete_cmd_prefix": "rm(",
     "library": "var_list.r",
     "varRefreshCmd": "cat(var_dic_list()) "
    }
   },
   "types_to_exclude": [
    "module",
    "function",
    "builtin_function_or_method",
    "instance",
    "_Feature"
   ],
   "window_display": false
  }
 },
 "nbformat": 4,
 "nbformat_minor": 4
}