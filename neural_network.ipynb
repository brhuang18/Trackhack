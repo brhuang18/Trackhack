{
 "cells": [
  {
   "cell_type": "code",
   "execution_count": 1,
   "metadata": {},
   "outputs": [],
   "source": [
    "import pandas as pd\n",
    "import numpy as np\n",
    "from sklearn.neural_network import MLPClassifier\n",
    "from sklearn.datasets import make_classification\n",
    "from sklearn.model_selection import train_test_split\n",
    "from sklearn.metrics import accuracy_score, f1_score\n",
    "from sklearn.model_selection import GridSearchCV\n",
    "from sklearn.metrics import classification_report,confusion_matrix\n",
    "from sklearn.model_selection import KFold\n",
    "from sklearn.model_selection import cross_validate "
   ]
  },
  {
   "cell_type": "code",
   "execution_count": 2,
   "metadata": {},
   "outputs": [],
   "source": [
    "# This path will be active after the launch of the hackathon\n",
    "teamname = '9417-brhuang-unsw'\n",
    "data_folder='s3://tf-trachack-data/212/'\n",
    "# change root_folder to your team's root folder\n",
    "# s3://tf-trachack-notebooks/<this should be replaced by team name as provided in EMAIL>/jupyter/jovyan/\n",
    "root_folder='s3://tf-trachack-notebooks/'+'9417-brhuang-unsw'+'/jupyter/jovyan/'\n",
    "\n"
   ]
  },
  {
   "cell_type": "code",
   "execution_count": 3,
   "metadata": {},
   "outputs": [],
   "source": [
    "df = pd.read_csv(root_folder+\"sample-notebook/final_dataset.csv\")  "
   ]
  },
  {
   "cell_type": "code",
   "execution_count": 4,
   "metadata": {},
   "outputs": [
    {
     "name": "stdout",
     "output_type": "stream",
     "text": [
      "(55868, 90)\n"
     ]
    }
   ],
   "source": [
    "print(df.shape)"
   ]
  },
  {
   "cell_type": "code",
   "execution_count": 5,
   "metadata": {},
   "outputs": [],
   "source": [
    "df.drop(['date_observed', 'sim_size'], axis = 1, inplace = True)"
   ]
  },
  {
   "cell_type": "code",
   "execution_count": 6,
   "metadata": {},
   "outputs": [
    {
     "data": {
      "text/plain": [
       "Index(['line_id', 'upgrade', 'quantity', 'total_quantity', 'lrp_enrolled',\n",
       "       'length_of_membership', 'last_interaction', 'carrier_carrier 1',\n",
       "       'carrier_carrier 2', 'carrier_carrier 3', 'plan_name_Other',\n",
       "       'plan_name_not_given', 'plan_name_plan 1', 'plan_name_plan 2',\n",
       "       'plan_name_plan 3', 'plan_name_plan 4', 'total_redemptions',\n",
       "       'total_suspensions', 'total_unsuspensions', 'total_deactivations',\n",
       "       'total_reactivations', 'reactivation_channel_APP',\n",
       "       'reactivation_channel_IVR', 'reactivation_channel_SMS',\n",
       "       'reactivation_channel_TAS', 'reactivation_channel_WEB',\n",
       "       'reactivation_channel_other', 'cpu_cores_2', 'cpu_cores_2+4',\n",
       "       'cpu_cores_4', 'cpu_cores_8', 'cpu_cores_none', 'cpu_cores_other',\n",
       "       'expandable_storage_-1.0', 'expandable_storage_0.0',\n",
       "       'expandable_storage_1.0', 'gsma_device_type_Smartphone',\n",
       "       'gsma_device_type_none', 'gsma_device_type_other',\n",
       "       'gsma_operating_system_Android', 'gsma_operating_system_iOS',\n",
       "       'gsma_operating_system_none', 'gsma_operating_system_other',\n",
       "       'internal_storage_capacity_16',\n",
       "       'internal_storage_capacity_16/32/64/128',\n",
       "       'internal_storage_capacity_32/128/256',\n",
       "       'internal_storage_capacity_none', 'internal_storage_capacity_other',\n",
       "       'lte_category_-1.0', 'lte_category_4.0', 'lte_category_6.0',\n",
       "       'lte_category_9.0', 'lte_category_12.0', 'lte_category_16.0',\n",
       "       'lte_category_other', 'manufacturer_Apple', 'manufacturer_LG',\n",
       "       'manufacturer_Samsung', 'manufacturer_none', 'manufacturer_other',\n",
       "       'os_name_Android', 'os_name_iOS', 'os_name_none', 'os_name_other',\n",
       "       'os_version_10', 'os_version_11', 'os_version_12', 'os_version_6.0.1',\n",
       "       'os_version_7', 'os_version_8', 'os_version_8.1', 'os_version_9',\n",
       "       'os_version_none', 'os_version_other', 'total_ram_1024',\n",
       "       'total_ram_2048', 'total_ram_3072', 'total_ram_4096', 'total_ram_none',\n",
       "       'total_ram_other', 'hotspot_kb', 'total_kb', 'voice_count_total',\n",
       "       'voice_min_total', 'mms_total', 'sms_total', 'length_of_connection',\n",
       "       'used_network'],\n",
       "      dtype='object')"
      ]
     },
     "execution_count": 6,
     "metadata": {},
     "output_type": "execute_result"
    }
   ],
   "source": [
    "df.columns"
   ]
  },
  {
   "cell_type": "code",
   "execution_count": 7,
   "metadata": {},
   "outputs": [],
   "source": [
    "Y = df['upgrade']\n",
    "X = df.drop(['upgrade', 'line_id'], axis = 1)"
   ]
  },
  {
   "cell_type": "code",
   "execution_count": 8,
   "metadata": {},
   "outputs": [],
   "source": [
    "X_train, X_test, Y_train, Y_test = train_test_split(X, Y, test_size=0.2, shuffle=True, random_state = 2)\n"
   ]
  },
  {
   "cell_type": "code",
   "execution_count": 9,
   "metadata": {},
   "outputs": [
    {
     "name": "stdout",
     "output_type": "stream",
     "text": [
      "       quantity  total_quantity  lrp_enrolled  length_of_membership  \\\n",
      "15764       0.0             0.0             0                   0.0   \n",
      "14260       0.0             0.0             0                   0.0   \n",
      "14436       0.0             0.0             0                   0.0   \n",
      "21640       0.0             0.0             0                   0.0   \n",
      "363         0.0             0.0             1                1122.0   \n",
      "\n",
      "       last_interaction  carrier_carrier 1  carrier_carrier 2  \\\n",
      "15764               0.0                  0                  0   \n",
      "14260               0.0                  1                  0   \n",
      "14436               0.0                  1                  0   \n",
      "21640               0.0                  0                  0   \n",
      "363              1122.0                  1                  0   \n",
      "\n",
      "       carrier_carrier 3  plan_name_Other  plan_name_not_given  ...  \\\n",
      "15764                  1                0                    0  ...   \n",
      "14260                  0                0                    0  ...   \n",
      "14436                  0                0                    0  ...   \n",
      "21640                  1                0                    0  ...   \n",
      "363                    0                0                    0  ...   \n",
      "\n",
      "       total_ram_none  total_ram_other     hotspot_kb      total_kb  \\\n",
      "15764               0                0       0.000000  2.115329e+04   \n",
      "14260               1                0  255163.834518  1.647469e+06   \n",
      "14436               0                0       0.000000  7.332440e+04   \n",
      "21640               1                0       0.000000  3.192429e+05   \n",
      "363                 0                0       0.000000  6.192361e+05   \n",
      "\n",
      "       voice_count_total  voice_min_total  mms_total  sms_total  \\\n",
      "15764           0.012987         0.012987   0.000000   0.298701   \n",
      "14260           1.968750         6.140625   0.500000   4.656250   \n",
      "14436           1.793388         2.900826   0.793388  15.942149   \n",
      "21640           1.808989         2.528090   0.000000   1.483146   \n",
      "363            10.983333        58.427778   0.505556   9.900000   \n",
      "\n",
      "       length_of_connection  used_network  \n",
      "15764                 123.0           1.0  \n",
      "14260                 120.0           1.0  \n",
      "14436                 223.0           1.0  \n",
      "21640                 135.0           1.0  \n",
      "363                   224.0           1.0  \n",
      "\n",
      "[5 rows x 86 columns]\n"
     ]
    }
   ],
   "source": [
    "print(X_train.head())"
   ]
  },
  {
   "cell_type": "code",
   "execution_count": 10,
   "metadata": {},
   "outputs": [
    {
     "name": "stdout",
     "output_type": "stream",
     "text": [
      "       quantity  total_quantity  lrp_enrolled  length_of_membership  \\\n",
      "8526        0.0             0.0             0                   0.0   \n",
      "18095       0.0             0.0             0                   0.0   \n",
      "17383       0.0             0.0             0                   0.0   \n",
      "2186        0.0             0.0             1                1221.0   \n",
      "43243       0.0             0.0             1                 989.0   \n",
      "\n",
      "       last_interaction  carrier_carrier 1  carrier_carrier 2  \\\n",
      "8526                0.0                  1                  0   \n",
      "18095               0.0                  1                  0   \n",
      "17383               0.0                  1                  0   \n",
      "2186             1221.0                  1                  0   \n",
      "43243             989.0                  1                  0   \n",
      "\n",
      "       carrier_carrier 3  plan_name_Other  plan_name_not_given  ...  \\\n",
      "8526                   0                0                    0  ...   \n",
      "18095                  0                0                    0  ...   \n",
      "17383                  0                0                    0  ...   \n",
      "2186                   0                0                    1  ...   \n",
      "43243                  0                0                    1  ...   \n",
      "\n",
      "       total_ram_none  total_ram_other   hotspot_kb      total_kb  \\\n",
      "8526                0                0     0.000000  7.136466e+04   \n",
      "18095               1                0     0.000000  9.865136e+05   \n",
      "17383               0                0  1745.140115  2.314666e+06   \n",
      "2186                0                0     0.000000  2.221269e+05   \n",
      "43243               0                0     0.000000  1.057513e+05   \n",
      "\n",
      "       voice_count_total  voice_min_total  mms_total  sms_total  \\\n",
      "8526            3.506173         7.938272   0.246914   3.382716   \n",
      "18095          13.216667        58.838889   3.138889  33.833333   \n",
      "17383           4.433628        10.530973   0.097345   2.637168   \n",
      "2186           14.166667       102.327778   1.272222  14.144444   \n",
      "43243           6.683333        19.000000   0.955556  12.222222   \n",
      "\n",
      "       length_of_connection  used_network  \n",
      "8526                  219.0           1.0  \n",
      "18095                 220.0           1.0  \n",
      "17383                 179.0           1.0  \n",
      "2186                  222.0           1.0  \n",
      "43243                 221.0           1.0  \n",
      "\n",
      "[5 rows x 86 columns]\n"
     ]
    }
   ],
   "source": [
    "print(X_test.head())"
   ]
  },
  {
   "cell_type": "code",
   "execution_count": null,
   "metadata": {},
   "outputs": [],
   "source": [
    "#This gives f1 score of 0.3145290047897818, so I guess more layers doesn't equal better\n",
    "#mlp = MLPClassifier(hidden_layer_sizes=(50,50,50,50), activation='relu', solver='adam', max_iter=200, random_state = 2)\n",
    "#This gives f1 score of 0.056038647342995164 (trash)\n",
    "#mlp = MLPClassifier(hidden_layer_sizes=(8,8,8), activation='relu', solver='adam', max_iter=200, alpha = 0.05, random_state = 2)\n",
    "#This gives f1 score of 0.49348534201954397\n",
    "#mlp = MLPClassifier(hidden_layer_sizes=(100,), activation='relu', solver='adam', learning_rate = 'constant', max_iter=500, alpha = 0.05, random_state = 2)"
   ]
  },
  {
   "cell_type": "code",
   "execution_count": 11,
   "metadata": {},
   "outputs": [
    {
     "data": {
      "text/plain": [
       "MLPClassifier(hidden_layer_sizes=(8, 8, 8), max_iter=500, random_state=2)"
      ]
     },
     "execution_count": 11,
     "metadata": {},
     "output_type": "execute_result"
    }
   ],
   "source": [
    "#1st try\n",
    "#This gives f1 score of 0.2090935418476687 and accuracy of 0.755593341686057\n",
    "mlp = MLPClassifier(hidden_layer_sizes=(8,8,8), activation='relu', solver='adam', max_iter=500, random_state = 2)\n",
    "mlp.fit(X_train,Y_train)\n"
   ]
  },
  {
   "cell_type": "code",
   "execution_count": 12,
   "metadata": {},
   "outputs": [],
   "source": [
    "predict_train = mlp.predict(X_train)\n",
    "predict_test = mlp.predict(X_test)"
   ]
  },
  {
   "cell_type": "code",
   "execution_count": 13,
   "metadata": {},
   "outputs": [
    {
     "name": "stdout",
     "output_type": "stream",
     "text": [
      "[[32025   469]\n",
      " [10781  1419]]\n",
      "              precision    recall  f1-score   support\n",
      "\n",
      "           0       0.75      0.99      0.85     32494\n",
      "           1       0.75      0.12      0.20     12200\n",
      "\n",
      "    accuracy                           0.75     44694\n",
      "   macro avg       0.75      0.55      0.53     44694\n",
      "weighted avg       0.75      0.75      0.67     44694\n",
      "\n"
     ]
    }
   ],
   "source": [
    "print(confusion_matrix(Y_train,predict_train))\n",
    "print(classification_report(Y_train,predict_train))"
   ]
  },
  {
   "cell_type": "code",
   "execution_count": 14,
   "metadata": {},
   "outputs": [
    {
     "name": "stdout",
     "output_type": "stream",
     "text": [
      "0.755593341686057\n",
      "0.2090935418476687\n"
     ]
    }
   ],
   "source": [
    "acc = accuracy_score(Y_test, predict_test)\n",
    "print(acc)\n",
    "f1 = f1_score(Y_test, predict_test)\n",
    "print(f1)"
   ]
  },
  {
   "cell_type": "code",
   "execution_count": 12,
   "metadata": {},
   "outputs": [],
   "source": [
    "#Trying different parameters\n",
    "mlp = MLPClassifier(max_iter=100, random_state = 2)"
   ]
  },
  {
   "cell_type": "code",
   "execution_count": 13,
   "metadata": {},
   "outputs": [],
   "source": [
    "#Setting the parameters to grid search over\n",
    "parameter_space = {\n",
    "    'hidden_layer_sizes': [(50,50,50), (50,100,50), (100,), (25,25), (50,50)],\n",
    "    'activation': ['tanh', 'relu'],\n",
    "    'solver': ['sgd', 'adam'],\n",
    "    'alpha': [0.0001, 0.05],\n",
    "    'learning_rate': ['constant','adaptive'],\n",
    "}"
   ]
  },
  {
   "cell_type": "code",
   "execution_count": null,
   "metadata": {},
   "outputs": [],
   "source": [
    "clf = GridSearchCV(mlp, parameter_space, n_jobs=-1, cv=3, scoring = 'f1')\n",
    "clf.fit(X_train,Y_train)"
   ]
  },
  {
   "cell_type": "code",
   "execution_count": null,
   "metadata": {},
   "outputs": [],
   "source": [
    "# Best parameter set\n",
    "print('Best parameters found:\\n', clf.best_params_) \n",
    "#Best parameters were:\n",
    "# 'activation': 'relu', 'alpha': 0.05, 'hidden_layer_sizes': (50, 50), 'learning_rate': 'constant', 'solver': 'adam'"
   ]
  },
  {
   "cell_type": "code",
   "execution_count": null,
   "metadata": {},
   "outputs": [],
   "source": [
    "predict_train = clf.predict(X_train)\n",
    "predict_test = clf.predict(X_test)\n",
    "\n",
    "acc = accuracy_score(Y_test, predict_test)\n",
    "print(acc)\n",
    "f1 = f1_score(Y_test, predict_test)\n",
    "print(f1)"
   ]
  },
  {
   "cell_type": "code",
   "execution_count": 181,
   "metadata": {},
   "outputs": [],
   "source": [
    "#Trying different parameters\n",
    "mlp = MLPClassifier(max_iter=100, random_state = 2)"
   ]
  },
  {
   "cell_type": "code",
   "execution_count": 21,
   "metadata": {},
   "outputs": [],
   "source": [
    "#THIS TAKES EXTREMELY LONG TO RUN\n",
    "parameter_space = {\n",
    "    'hidden_layer_sizes': [(10,10,10), (25,50,25), (50,), (100,100,100), (8,8,8,8), (8,8,8,8,8)],\n",
    "    'activation': ['tanh', 'relu'],\n",
    "    'solver': ['sgd', 'adam'],\n",
    "    'alpha': [0.0001, 0.05],\n",
    "    'beta_1': [0.9, 0.95, 0.999],\n",
    "    'beta_2': [0.9, 0.95, 0.999],\n",
    "    'learning_rate': ['constant','adaptive'],\n",
    "}"
   ]
  },
  {
   "cell_type": "code",
   "execution_count": null,
   "metadata": {},
   "outputs": [],
   "source": [
    "#THIS TAKES EXTREMELY LONG TO RUN\n",
    "clf = GridSearchCV(mlp, parameter_space, n_jobs=-1, cv=3, scoring = 'f1')\n",
    "clf.fit(X_train,Y_train)"
   ]
  },
  {
   "cell_type": "code",
   "execution_count": 114,
   "metadata": {},
   "outputs": [],
   "source": [
    "predict_train = mlp.predict(X_train)\n",
    "predict_test = mlp.predict(X_test)"
   ]
  },
  {
   "cell_type": "code",
   "execution_count": null,
   "metadata": {},
   "outputs": [],
   "source": [
    "# Best parameter set\n",
    "print('Best parameters found:\\n', clf.best_params_)"
   ]
  },
  {
   "cell_type": "code",
   "execution_count": null,
   "metadata": {},
   "outputs": [],
   "source": [
    "predict_train = clf.predict(X_train)\n",
    "predict_test = clf.predict(X_test)\n",
    "\n",
    "acc = accuracy_score(Y_test, predict_test)\n",
    "print(acc)\n",
    "f1 = f1_score(Y_test, predict_test)\n",
    "print(f1)"
   ]
  }
 ],
 "metadata": {
  "kernelspec": {
   "display_name": "Python 3",
   "language": "python",
   "name": "python3"
  },
  "language_info": {
   "codemirror_mode": {
    "name": "ipython",
    "version": 3
   },
   "file_extension": ".py",
   "mimetype": "text/x-python",
   "name": "python",
   "nbconvert_exporter": "python",
   "pygments_lexer": "ipython3",
   "version": "3.7.6"
  }
 },
 "nbformat": 4,
 "nbformat_minor": 4
}