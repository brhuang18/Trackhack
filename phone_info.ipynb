{
 "cells": [
  {
   "cell_type": "markdown",
   "metadata": {},
   "source": [
    "<b> <font size=\"5\">TracHack 21.2 Sample Notebook </font> </b>\n",
    "\n",
    "*Version: 0.1*\n",
    "\n",
    "*Author: Nandini Nuthalapati - nnuthalapati@tracfone.com* \n",
    "\n",
    "*Contact: If you have any questions, contact TracHackAdmin@tracfone.com*\n",
    "\n",
    "This is a quick walk through how to get started with the TracHack ( http://trachack.com ) 21.2 dataset and Python. It is not exhaustive, but meant to give you starting point with loading in the data frame, creating samples, writing datasets out.\n",
    "\n",
    "There are references and links to resources towards the end that you would find handy.\n",
    "\n",
    "This was developed on AWS EMR instance with \n",
    " * 1x Master - m4.xlarge - 4 vCore, 16 GiB memory, EBS only storage - EBS Storage:100 GiB"
   ]
  },
  {
   "cell_type": "markdown",
   "metadata": {
    "heading_collapsed": true
   },
   "source": [
    "# Reading in full Dev Data\n",
    "You should have access to the model development datasets. These are csv files named upgrades.csv, customer_info.csv, suspensions.csv, redemptions.csv, reactivations.csv, deactivations.csv, phone_info.csv, lrp_enrollment.csv, lrp_points.csv and network_usage_domestic.csv\n",
    "\n",
    "<b>upgrades.csv</b> - base dataset that has line_id, upgrade_date and upgrade columns.\n",
    "\n",
    "<b>customer_info.csv</b> - customer info has carrier, plan and activation information for each line_id. One line_id in upgrades data has one and only record in customer info, hence you can do inner join on both. \n",
    "\n",
    "<b>customer_info.csv</b> - customer info has carrier, plan and activation information for each line_id. One line_id in upgrades data has one and only record in customer info, hence inner join would be the right choice for both.\n",
    "\n",
    "<b>phone_info.csv</b> - phone info has all the device information for each line_id. One line_id in upgrades data has one and only record in phone info, hence inner join would be the right choice for both.\n",
    "\n",
    "<b>redemptions.csv</b> - redemptions has all the plan redemption details for each line_id. One line_id in upgrades data has more than one record in redemptions, hence inner join would be the right choice for both.\n",
    "\n",
    "<b>deactivations.csv</b> - deactivations has the deactivation details for each line_id. One line_id in upgrades data has more than one record in deactivations, hence inner join would be the right choice for both.\n",
    "\n",
    "<b>suspensions.csv</b> - suspension is when a customer is more than 15 days past due. One line_id in upgrades data may not have a record in suspensions, hence left join would be the right choice for both.\n",
    "\n",
    "<b>network_usage_domestic.csv</b> - domestic network usage has the network usage details for each line_id. One line_id in upgrades data has more than one record in domestic network usage, hence inner join would be the right choice for both.\n",
    "\n",
    "<b>lrp_points.csv</b> - lrp points has the loyalty reward details for each line_id. One line_id in upgrades data may not have a record in lrp points, hence left join would be the right choice for both.\n",
    "\n",
    "<b>lrp_enrollment.csv</b> - lrp enrollment has the loyalty reward enrollment details for each line_id. One line_id in upgrades data may not have a record in lrp enrollment, hence left join would be the right choice for both."
   ]
  },
  {
   "cell_type": "code",
   "execution_count": 12,
   "metadata": {
    "scrolled": true
   },
   "outputs": [
    {
     "name": "stdout",
     "output_type": "stream",
     "text": [
      "Requirement already satisfied: pandas==1.0.3 in /opt/conda/lib/python3.7/site-packages (1.0.3)\n",
      "Requirement already satisfied: python-dateutil>=2.6.1 in /opt/conda/lib/python3.7/site-packages (from pandas==1.0.3) (2.8.1)\n",
      "Requirement already satisfied: numpy>=1.13.3 in /opt/conda/lib/python3.7/site-packages (from pandas==1.0.3) (1.19.2)\n",
      "Requirement already satisfied: pytz>=2017.2 in /opt/conda/lib/python3.7/site-packages (from pandas==1.0.3) (2020.1)\n",
      "Requirement already satisfied: six>=1.5 in /opt/conda/lib/python3.7/site-packages (from python-dateutil>=2.6.1->pandas==1.0.3) (1.14.0)\n",
      "\u001b[33mWARNING: You are using pip version 21.0.1; however, version 21.1 is available.\n",
      "You should consider upgrading via the '/opt/conda/bin/python3.7 -m pip install --upgrade pip' command.\u001b[0m\n"
     ]
    }
   ],
   "source": [
    "# installing 1.0.3 because this version of pandas supports write to s3\n",
    "!pip install pandas==1.0.3"
   ]
  },
  {
   "cell_type": "code",
   "execution_count": 13,
   "metadata": {
    "ExecuteTime": {
     "end_time": "2021-04-02T20:42:51.466922Z",
     "start_time": "2021-04-02T20:42:51.464109Z"
    },
    "hidden": true
   },
   "outputs": [],
   "source": [
    "# This path will be active after the launch of the hackathon\n",
    "teamname = 'trachack-a-groups-admin-py-tracfone'\n",
    "data_folder='s3://tf-trachack-data/212/'\n",
    "# change root_folder to your team's root folder\n",
    "# s3://tf-trachack-notebooks/<this should be replaced by team name as provided in EMAIL>/jupyter/jovyan/\n",
    "root_folder='s3://tf-trachack-notebooks/'+'9417-brhuang-unsw'+'/jupyter/jovyan/'"
   ]
  },
  {
   "cell_type": "code",
   "execution_count": 14,
   "metadata": {},
   "outputs": [],
   "source": [
    "# imports\n",
    "import pandas as pd\n",
    "import numpy as np\n"
   ]
  },
  {
   "cell_type": "markdown",
   "metadata": {
    "heading_collapsed": true,
    "hidden": true
   },
   "source": [
    "## Upgrades"
   ]
  },
  {
   "cell_type": "code",
   "execution_count": 17,
   "metadata": {
    "ExecuteTime": {
     "end_time": "2021-04-02T20:42:54.135047Z",
     "start_time": "2021-04-02T20:42:51.470558Z"
    },
    "hidden": true
   },
   "outputs": [
    {
     "data": {
      "text/html": [
       "<div>\n",
       "<style scoped>\n",
       "    .dataframe tbody tr th:only-of-type {\n",
       "        vertical-align: middle;\n",
       "    }\n",
       "\n",
       "    .dataframe tbody tr th {\n",
       "        vertical-align: top;\n",
       "    }\n",
       "\n",
       "    .dataframe thead th {\n",
       "        text-align: right;\n",
       "    }\n",
       "</style>\n",
       "<table border=\"1\" class=\"dataframe\">\n",
       "  <thead>\n",
       "    <tr style=\"text-align: right;\">\n",
       "      <th></th>\n",
       "      <th>line_id</th>\n",
       "      <th>date_observed</th>\n",
       "      <th>upgrade</th>\n",
       "    </tr>\n",
       "  </thead>\n",
       "  <tbody>\n",
       "    <tr>\n",
       "      <th>0</th>\n",
       "      <td>f0b99d3b-32f7-4464-8fa8-87f27c9810a8</td>\n",
       "      <td>2021-03-14</td>\n",
       "      <td>yes</td>\n",
       "    </tr>\n",
       "    <tr>\n",
       "      <th>1</th>\n",
       "      <td>a2ec0baf-1720-4b1b-bfa3-db00ac8fcb00</td>\n",
       "      <td>2021-03-10</td>\n",
       "      <td>yes</td>\n",
       "    </tr>\n",
       "  </tbody>\n",
       "</table>\n",
       "</div>"
      ],
      "text/plain": [
       "                                line_id date_observed upgrade\n",
       "0  f0b99d3b-32f7-4464-8fa8-87f27c9810a8    2021-03-14     yes\n",
       "1  a2ec0baf-1720-4b1b-bfa3-db00ac8fcb00    2021-03-10     yes"
      ]
     },
     "execution_count": 17,
     "metadata": {},
     "output_type": "execute_result"
    }
   ],
   "source": [
    "upgrades=pd.read_csv(data_folder+\"data/dev/upgrades.csv\")\n",
    "upgrades.head(2)"
   ]
  },
  {
   "cell_type": "code",
   "execution_count": 5,
   "metadata": {
    "ExecuteTime": {
     "end_time": "2021-04-02T20:42:54.142819Z",
     "start_time": "2021-04-02T20:42:54.137867Z"
    },
    "hidden": true
   },
   "outputs": [
    {
     "data": {
      "text/plain": [
       "55868"
      ]
     },
     "execution_count": 5,
     "metadata": {},
     "output_type": "execute_result"
    }
   ],
   "source": [
    "len(upgrades)"
   ]
  },
  {
   "cell_type": "markdown",
   "metadata": {
    "hidden": true
   },
   "source": [
    "The goal of the challenge is to predict upgrade. These examples have labels from historical data."
   ]
  },
  {
   "cell_type": "code",
   "execution_count": 6,
   "metadata": {
    "ExecuteTime": {
     "end_time": "2021-04-02T20:42:54.154556Z",
     "start_time": "2021-04-02T20:42:54.146072Z"
    },
    "hidden": true
   },
   "outputs": [
    {
     "data": {
      "text/plain": [
       "no     40694\n",
       "yes    15174\n",
       "Name: upgrade, dtype: int64"
      ]
     },
     "execution_count": 6,
     "metadata": {},
     "output_type": "execute_result"
    }
   ],
   "source": [
    "upgrades['upgrade'].value_counts()"
   ]
  },
  {
   "cell_type": "markdown",
   "metadata": {
    "heading_collapsed": true,
    "hidden": true
   },
   "source": [
    "## Customer Info"
   ]
  },
  {
   "cell_type": "code",
   "execution_count": 7,
   "metadata": {
    "ExecuteTime": {
     "end_time": "2021-04-02T20:42:54.351739Z",
     "start_time": "2021-04-02T20:42:54.156336Z"
    },
    "hidden": true
   },
   "outputs": [
    {
     "data": {
      "text/html": [
       "<div>\n",
       "<style scoped>\n",
       "    .dataframe tbody tr th:only-of-type {\n",
       "        vertical-align: middle;\n",
       "    }\n",
       "\n",
       "    .dataframe tbody tr th {\n",
       "        vertical-align: top;\n",
       "    }\n",
       "\n",
       "    .dataframe thead th {\n",
       "        text-align: right;\n",
       "    }\n",
       "</style>\n",
       "<table border=\"1\" class=\"dataframe\">\n",
       "  <thead>\n",
       "    <tr style=\"text-align: right;\">\n",
       "      <th></th>\n",
       "      <th>line_id</th>\n",
       "      <th>carrier</th>\n",
       "      <th>first_activation_date</th>\n",
       "      <th>plan_name</th>\n",
       "      <th>plan_subtype</th>\n",
       "      <th>redemption_date</th>\n",
       "    </tr>\n",
       "  </thead>\n",
       "  <tbody>\n",
       "    <tr>\n",
       "      <th>0</th>\n",
       "      <td>e1b8b731-f3c6-4a8a-b09c-f3556888c868</td>\n",
       "      <td>carrier 1</td>\n",
       "      <td>2017-12-12</td>\n",
       "      <td>NaN</td>\n",
       "      <td>NaN</td>\n",
       "      <td>NaN</td>\n",
       "    </tr>\n",
       "    <tr>\n",
       "      <th>1</th>\n",
       "      <td>51c1e947-f8a4-4a9c-94f8-45f52198f329</td>\n",
       "      <td>carrier 1</td>\n",
       "      <td>2021-01-18</td>\n",
       "      <td>plan 2</td>\n",
       "      <td>[NULL]</td>\n",
       "      <td>2021-02-25</td>\n",
       "    </tr>\n",
       "  </tbody>\n",
       "</table>\n",
       "</div>"
      ],
      "text/plain": [
       "                                line_id    carrier first_activation_date  \\\n",
       "0  e1b8b731-f3c6-4a8a-b09c-f3556888c868  carrier 1            2017-12-12   \n",
       "1  51c1e947-f8a4-4a9c-94f8-45f52198f329  carrier 1            2021-01-18   \n",
       "\n",
       "  plan_name plan_subtype redemption_date  \n",
       "0       NaN          NaN             NaN  \n",
       "1    plan 2       [NULL]      2021-02-25  "
      ]
     },
     "execution_count": 7,
     "metadata": {},
     "output_type": "execute_result"
    }
   ],
   "source": [
    "customer_info=pd.read_csv(data_folder+\"data/dev/customer_info.csv\")\n",
    "customer_info.head(2)"
   ]
  },
  {
   "cell_type": "code",
   "execution_count": 8,
   "metadata": {
    "ExecuteTime": {
     "end_time": "2021-04-02T20:42:54.358760Z",
     "start_time": "2021-04-02T20:42:54.354198Z"
    },
    "hidden": true
   },
   "outputs": [
    {
     "data": {
      "text/plain": [
       "55868"
      ]
     },
     "execution_count": 8,
     "metadata": {},
     "output_type": "execute_result"
    }
   ],
   "source": [
    "len(customer_info)"
   ]
  },
  {
   "cell_type": "markdown",
   "metadata": {
    "heading_collapsed": true,
    "hidden": true
   },
   "source": [
    "## Phone Info"
   ]
  },
  {
   "cell_type": "code",
   "execution_count": 15,
   "metadata": {
    "ExecuteTime": {
     "end_time": "2021-04-02T20:42:54.674130Z",
     "start_time": "2021-04-02T20:42:54.360507Z"
    },
    "hidden": true
   },
   "outputs": [
    {
     "data": {
      "text/html": [
       "<div>\n",
       "<style scoped>\n",
       "    .dataframe tbody tr th:only-of-type {\n",
       "        vertical-align: middle;\n",
       "    }\n",
       "\n",
       "    .dataframe tbody tr th {\n",
       "        vertical-align: top;\n",
       "    }\n",
       "\n",
       "    .dataframe thead th {\n",
       "        text-align: right;\n",
       "    }\n",
       "</style>\n",
       "<table border=\"1\" class=\"dataframe\">\n",
       "  <thead>\n",
       "    <tr style=\"text-align: right;\">\n",
       "      <th></th>\n",
       "      <th>line_id</th>\n",
       "      <th>cpu_cores</th>\n",
       "      <th>expandable_storage</th>\n",
       "      <th>gsma_device_type</th>\n",
       "      <th>gsma_model_name</th>\n",
       "      <th>gsma_operating_system</th>\n",
       "      <th>internal_storage_capacity</th>\n",
       "      <th>lte</th>\n",
       "      <th>lte_advanced</th>\n",
       "      <th>lte_category</th>\n",
       "      <th>manufacturer</th>\n",
       "      <th>os_family</th>\n",
       "      <th>os_name</th>\n",
       "      <th>os_vendor</th>\n",
       "      <th>os_version</th>\n",
       "      <th>sim_size</th>\n",
       "      <th>total_ram</th>\n",
       "      <th>touch_screen</th>\n",
       "      <th>wi_fi</th>\n",
       "      <th>year_released</th>\n",
       "    </tr>\n",
       "  </thead>\n",
       "  <tbody>\n",
       "    <tr>\n",
       "      <th>0</th>\n",
       "      <td>8803884c-38df-4243-a522-891c2117790c</td>\n",
       "      <td>4</td>\n",
       "      <td>0.0</td>\n",
       "      <td>Smartphone</td>\n",
       "      <td>iPhone 7 (A1779)</td>\n",
       "      <td>iOS</td>\n",
       "      <td>32/128/256</td>\n",
       "      <td>1.0</td>\n",
       "      <td>1.0</td>\n",
       "      <td>9.0</td>\n",
       "      <td>Apple</td>\n",
       "      <td>iOS</td>\n",
       "      <td>iOS</td>\n",
       "      <td>Apple</td>\n",
       "      <td>10</td>\n",
       "      <td>Nano</td>\n",
       "      <td>2048</td>\n",
       "      <td>1.0</td>\n",
       "      <td>1.0</td>\n",
       "      <td>2016.0</td>\n",
       "    </tr>\n",
       "    <tr>\n",
       "      <th>1</th>\n",
       "      <td>75b2d7a7-c4f8-4cf2-af32-ab25b5dffacc</td>\n",
       "      <td>8</td>\n",
       "      <td>1.0</td>\n",
       "      <td>Smartphone</td>\n",
       "      <td>SM-N975U</td>\n",
       "      <td>Android</td>\n",
       "      <td>256</td>\n",
       "      <td>1.0</td>\n",
       "      <td>1.0</td>\n",
       "      <td>20.0</td>\n",
       "      <td>Samsung</td>\n",
       "      <td>Android</td>\n",
       "      <td>Android</td>\n",
       "      <td>Google</td>\n",
       "      <td>9</td>\n",
       "      <td>Nano</td>\n",
       "      <td>8192</td>\n",
       "      <td>1.0</td>\n",
       "      <td>1.0</td>\n",
       "      <td>2019.0</td>\n",
       "    </tr>\n",
       "  </tbody>\n",
       "</table>\n",
       "</div>"
      ],
      "text/plain": [
       "                                line_id cpu_cores  expandable_storage  \\\n",
       "0  8803884c-38df-4243-a522-891c2117790c         4                 0.0   \n",
       "1  75b2d7a7-c4f8-4cf2-af32-ab25b5dffacc         8                 1.0   \n",
       "\n",
       "  gsma_device_type   gsma_model_name gsma_operating_system  \\\n",
       "0       Smartphone  iPhone 7 (A1779)                   iOS   \n",
       "1       Smartphone          SM-N975U               Android   \n",
       "\n",
       "  internal_storage_capacity  lte  lte_advanced  lte_category manufacturer  \\\n",
       "0                32/128/256  1.0           1.0           9.0        Apple   \n",
       "1                       256  1.0           1.0          20.0      Samsung   \n",
       "\n",
       "  os_family  os_name os_vendor os_version sim_size total_ram  touch_screen  \\\n",
       "0       iOS      iOS     Apple         10     Nano      2048           1.0   \n",
       "1   Android  Android    Google          9     Nano      8192           1.0   \n",
       "\n",
       "   wi_fi  year_released  \n",
       "0    1.0         2016.0  \n",
       "1    1.0         2019.0  "
      ]
     },
     "execution_count": 15,
     "metadata": {},
     "output_type": "execute_result"
    }
   ],
   "source": [
    "phone_info=pd.read_csv(data_folder+\"data/dev/phone_info.csv\")\n",
    "phone_info.head(2)"
   ]
  },
  {
   "cell_type": "code",
   "execution_count": 6,
   "metadata": {
    "ExecuteTime": {
     "end_time": "2021-04-02T20:42:54.681145Z",
     "start_time": "2021-04-02T20:42:54.675980Z"
    },
    "hidden": true
   },
   "outputs": [
    {
     "data": {
      "text/plain": [
       "20"
      ]
     },
     "execution_count": 6,
     "metadata": {},
     "output_type": "execute_result"
    }
   ],
   "source": [
    "len(phone_info.columns)"
   ]
  },
  {
   "cell_type": "markdown",
   "metadata": {
    "heading_collapsed": true,
    "hidden": true
   },
   "source": [
    "## Redemptions"
   ]
  },
  {
   "cell_type": "code",
   "execution_count": 11,
   "metadata": {
    "ExecuteTime": {
     "end_time": "2021-04-02T20:42:56.079889Z",
     "start_time": "2021-04-02T20:42:54.683989Z"
    },
    "hidden": true
   },
   "outputs": [
    {
     "data": {
      "text/html": [
       "<div>\n",
       "<style scoped>\n",
       "    .dataframe tbody tr th:only-of-type {\n",
       "        vertical-align: middle;\n",
       "    }\n",
       "\n",
       "    .dataframe tbody tr th {\n",
       "        vertical-align: top;\n",
       "    }\n",
       "\n",
       "    .dataframe thead th {\n",
       "        text-align: right;\n",
       "    }\n",
       "</style>\n",
       "<table border=\"1\" class=\"dataframe\">\n",
       "  <thead>\n",
       "    <tr style=\"text-align: right;\">\n",
       "      <th></th>\n",
       "      <th>line_id</th>\n",
       "      <th>channel</th>\n",
       "      <th>gross_revenue</th>\n",
       "      <th>redemption_date</th>\n",
       "      <th>redemption_type</th>\n",
       "      <th>revenue_type</th>\n",
       "    </tr>\n",
       "  </thead>\n",
       "  <tbody>\n",
       "    <tr>\n",
       "      <th>0</th>\n",
       "      <td>003a475f-a35c-4d9d-b72d-178dede369e3</td>\n",
       "      <td>APP</td>\n",
       "      <td>35.0</td>\n",
       "      <td>2020-08-31</td>\n",
       "      <td>MPPAID</td>\n",
       "      <td>MPPAID</td>\n",
       "    </tr>\n",
       "    <tr>\n",
       "      <th>1</th>\n",
       "      <td>a753a5d8-3260-41bc-aba0-84dde1c7c4c0</td>\n",
       "      <td>WEB</td>\n",
       "      <td>50.0</td>\n",
       "      <td>2021-01-28</td>\n",
       "      <td>MPPAID</td>\n",
       "      <td>MPPAID</td>\n",
       "    </tr>\n",
       "  </tbody>\n",
       "</table>\n",
       "</div>"
      ],
      "text/plain": [
       "                                line_id channel  gross_revenue  \\\n",
       "0  003a475f-a35c-4d9d-b72d-178dede369e3     APP           35.0   \n",
       "1  a753a5d8-3260-41bc-aba0-84dde1c7c4c0     WEB           50.0   \n",
       "\n",
       "  redemption_date redemption_type revenue_type  \n",
       "0      2020-08-31          MPPAID       MPPAID  \n",
       "1      2021-01-28          MPPAID       MPPAID  "
      ]
     },
     "execution_count": 11,
     "metadata": {},
     "output_type": "execute_result"
    }
   ],
   "source": [
    "redemptions=pd.read_csv(data_folder+\"data/dev/redemptions.csv\")\n",
    "redemptions.head(2)"
   ]
  },
  {
   "cell_type": "code",
   "execution_count": 12,
   "metadata": {
    "ExecuteTime": {
     "end_time": "2021-04-02T20:42:56.087209Z",
     "start_time": "2021-04-02T20:42:56.082716Z"
    },
    "hidden": true
   },
   "outputs": [
    {
     "data": {
      "text/plain": [
       "641493"
      ]
     },
     "execution_count": 12,
     "metadata": {},
     "output_type": "execute_result"
    }
   ],
   "source": [
    "len(redemptions)"
   ]
  },
  {
   "cell_type": "markdown",
   "metadata": {
    "heading_collapsed": true,
    "hidden": true
   },
   "source": [
    "## Deactivations"
   ]
  },
  {
   "cell_type": "code",
   "execution_count": 13,
   "metadata": {
    "ExecuteTime": {
     "end_time": "2021-04-02T20:42:56.338237Z",
     "start_time": "2021-04-02T20:42:56.089045Z"
    },
    "hidden": true
   },
   "outputs": [
    {
     "data": {
      "text/html": [
       "<div>\n",
       "<style scoped>\n",
       "    .dataframe tbody tr th:only-of-type {\n",
       "        vertical-align: middle;\n",
       "    }\n",
       "\n",
       "    .dataframe tbody tr th {\n",
       "        vertical-align: top;\n",
       "    }\n",
       "\n",
       "    .dataframe thead th {\n",
       "        text-align: right;\n",
       "    }\n",
       "</style>\n",
       "<table border=\"1\" class=\"dataframe\">\n",
       "  <thead>\n",
       "    <tr style=\"text-align: right;\">\n",
       "      <th></th>\n",
       "      <th>line_id</th>\n",
       "      <th>deactivation_date</th>\n",
       "      <th>deactivation_reason</th>\n",
       "    </tr>\n",
       "  </thead>\n",
       "  <tbody>\n",
       "    <tr>\n",
       "      <th>0</th>\n",
       "      <td>bbc9e615-39c0-4c2f-93b1-67a1f50cacda</td>\n",
       "      <td>2020-06-11</td>\n",
       "      <td>PASTDUE</td>\n",
       "    </tr>\n",
       "    <tr>\n",
       "      <th>1</th>\n",
       "      <td>61c2a41e-f827-4c0c-a5cd-97396c5ed8b7</td>\n",
       "      <td>2019-06-02</td>\n",
       "      <td>PASTDUE</td>\n",
       "    </tr>\n",
       "  </tbody>\n",
       "</table>\n",
       "</div>"
      ],
      "text/plain": [
       "                                line_id deactivation_date deactivation_reason\n",
       "0  bbc9e615-39c0-4c2f-93b1-67a1f50cacda        2020-06-11             PASTDUE\n",
       "1  61c2a41e-f827-4c0c-a5cd-97396c5ed8b7        2019-06-02             PASTDUE"
      ]
     },
     "execution_count": 13,
     "metadata": {},
     "output_type": "execute_result"
    }
   ],
   "source": [
    "deactivations=pd.read_csv(data_folder+\"data/dev/deactivations.csv\")\n",
    "deactivations.head(2)"
   ]
  },
  {
   "cell_type": "code",
   "execution_count": 14,
   "metadata": {
    "ExecuteTime": {
     "end_time": "2021-04-02T20:42:56.345351Z",
     "start_time": "2021-04-02T20:42:56.340425Z"
    },
    "hidden": true
   },
   "outputs": [
    {
     "data": {
      "text/plain": [
       "256754"
      ]
     },
     "execution_count": 14,
     "metadata": {},
     "output_type": "execute_result"
    }
   ],
   "source": [
    "len(deactivations)"
   ]
  },
  {
   "cell_type": "markdown",
   "metadata": {
    "heading_collapsed": true,
    "hidden": true
   },
   "source": [
    "## Reactivations"
   ]
  },
  {
   "cell_type": "code",
   "execution_count": 15,
   "metadata": {
    "ExecuteTime": {
     "end_time": "2021-04-02T20:42:56.603508Z",
     "start_time": "2021-04-02T20:42:56.348130Z"
    },
    "hidden": true
   },
   "outputs": [
    {
     "data": {
      "text/html": [
       "<div>\n",
       "<style scoped>\n",
       "    .dataframe tbody tr th:only-of-type {\n",
       "        vertical-align: middle;\n",
       "    }\n",
       "\n",
       "    .dataframe tbody tr th {\n",
       "        vertical-align: top;\n",
       "    }\n",
       "\n",
       "    .dataframe thead th {\n",
       "        text-align: right;\n",
       "    }\n",
       "</style>\n",
       "<table border=\"1\" class=\"dataframe\">\n",
       "  <thead>\n",
       "    <tr style=\"text-align: right;\">\n",
       "      <th></th>\n",
       "      <th>line_id</th>\n",
       "      <th>reactivation_channel</th>\n",
       "      <th>reactivation_date</th>\n",
       "    </tr>\n",
       "  </thead>\n",
       "  <tbody>\n",
       "    <tr>\n",
       "      <th>0</th>\n",
       "      <td>f72d37a7-50a0-4ed0-95e6-5aaa47c8691f</td>\n",
       "      <td>WEB</td>\n",
       "      <td>2020-08-01</td>\n",
       "    </tr>\n",
       "    <tr>\n",
       "      <th>1</th>\n",
       "      <td>b71f5bed-3e65-48b2-ae3f-d8b1a427b29f</td>\n",
       "      <td>WEB</td>\n",
       "      <td>2020-01-23</td>\n",
       "    </tr>\n",
       "  </tbody>\n",
       "</table>\n",
       "</div>"
      ],
      "text/plain": [
       "                                line_id reactivation_channel reactivation_date\n",
       "0  f72d37a7-50a0-4ed0-95e6-5aaa47c8691f                  WEB        2020-08-01\n",
       "1  b71f5bed-3e65-48b2-ae3f-d8b1a427b29f                  WEB        2020-01-23"
      ]
     },
     "execution_count": 15,
     "metadata": {},
     "output_type": "execute_result"
    }
   ],
   "source": [
    "reactivations=pd.read_csv(data_folder+\"data/dev/reactivations.csv\")\n",
    "reactivations.head(2)"
   ]
  },
  {
   "cell_type": "code",
   "execution_count": 16,
   "metadata": {
    "ExecuteTime": {
     "end_time": "2021-04-02T20:42:56.610354Z",
     "start_time": "2021-04-02T20:42:56.605778Z"
    },
    "hidden": true
   },
   "outputs": [
    {
     "data": {
      "text/plain": [
       "248597"
      ]
     },
     "execution_count": 16,
     "metadata": {},
     "output_type": "execute_result"
    }
   ],
   "source": [
    "len(reactivations)"
   ]
  },
  {
   "cell_type": "markdown",
   "metadata": {
    "heading_collapsed": true,
    "hidden": true
   },
   "source": [
    "## Suspensions"
   ]
  },
  {
   "cell_type": "code",
   "execution_count": 17,
   "metadata": {
    "ExecuteTime": {
     "end_time": "2021-04-02T20:42:57.297511Z",
     "start_time": "2021-04-02T20:42:56.612221Z"
    },
    "hidden": true
   },
   "outputs": [
    {
     "data": {
      "text/html": [
       "<div>\n",
       "<style scoped>\n",
       "    .dataframe tbody tr th:only-of-type {\n",
       "        vertical-align: middle;\n",
       "    }\n",
       "\n",
       "    .dataframe tbody tr th {\n",
       "        vertical-align: top;\n",
       "    }\n",
       "\n",
       "    .dataframe thead th {\n",
       "        text-align: right;\n",
       "    }\n",
       "</style>\n",
       "<table border=\"1\" class=\"dataframe\">\n",
       "  <thead>\n",
       "    <tr style=\"text-align: right;\">\n",
       "      <th></th>\n",
       "      <th>line_id</th>\n",
       "      <th>suspension_start_date</th>\n",
       "      <th>suspension_end_date</th>\n",
       "    </tr>\n",
       "  </thead>\n",
       "  <tbody>\n",
       "    <tr>\n",
       "      <th>0</th>\n",
       "      <td>63a3f832-f035-4b99-8b2b-d34ebb0ebf4b</td>\n",
       "      <td>2021-03-10</td>\n",
       "      <td>2021-03-13</td>\n",
       "    </tr>\n",
       "    <tr>\n",
       "      <th>1</th>\n",
       "      <td>d9744c2d-36d4-4d46-9dc4-eea1479b0af7</td>\n",
       "      <td>2015-04-02</td>\n",
       "      <td>2015-04-09</td>\n",
       "    </tr>\n",
       "  </tbody>\n",
       "</table>\n",
       "</div>"
      ],
      "text/plain": [
       "                                line_id suspension_start_date  \\\n",
       "0  63a3f832-f035-4b99-8b2b-d34ebb0ebf4b            2021-03-10   \n",
       "1  d9744c2d-36d4-4d46-9dc4-eea1479b0af7            2015-04-02   \n",
       "\n",
       "  suspension_end_date  \n",
       "0          2021-03-13  \n",
       "1          2015-04-09  "
      ]
     },
     "execution_count": 17,
     "metadata": {},
     "output_type": "execute_result"
    }
   ],
   "source": [
    "suspensions=pd.read_csv(data_folder+\"data/dev/suspensions.csv\")\n",
    "suspensions.head(2)"
   ]
  },
  {
   "cell_type": "code",
   "execution_count": 18,
   "metadata": {
    "ExecuteTime": {
     "end_time": "2021-04-02T20:42:57.303176Z",
     "start_time": "2021-04-02T20:42:57.299385Z"
    },
    "hidden": true
   },
   "outputs": [
    {
     "data": {
      "text/plain": [
       "535849"
      ]
     },
     "execution_count": 18,
     "metadata": {},
     "output_type": "execute_result"
    }
   ],
   "source": [
    "len(suspensions)"
   ]
  },
  {
   "cell_type": "markdown",
   "metadata": {
    "heading_collapsed": true,
    "hidden": true
   },
   "source": [
    "## Network Usage Domestic"
   ]
  },
  {
   "cell_type": "code",
   "execution_count": 19,
   "metadata": {
    "ExecuteTime": {
     "end_time": "2021-04-02T20:43:09.878722Z",
     "start_time": "2021-04-02T20:42:57.305628Z"
    },
    "hidden": true
   },
   "outputs": [
    {
     "data": {
      "text/html": [
       "<div>\n",
       "<style scoped>\n",
       "    .dataframe tbody tr th:only-of-type {\n",
       "        vertical-align: middle;\n",
       "    }\n",
       "\n",
       "    .dataframe tbody tr th {\n",
       "        vertical-align: top;\n",
       "    }\n",
       "\n",
       "    .dataframe thead th {\n",
       "        text-align: right;\n",
       "    }\n",
       "</style>\n",
       "<table border=\"1\" class=\"dataframe\">\n",
       "  <thead>\n",
       "    <tr style=\"text-align: right;\">\n",
       "      <th></th>\n",
       "      <th>line_id</th>\n",
       "      <th>date</th>\n",
       "      <th>hotspot_kb</th>\n",
       "      <th>kb_5g</th>\n",
       "      <th>mms_in</th>\n",
       "      <th>mms_out</th>\n",
       "      <th>sms_in</th>\n",
       "      <th>sms_out</th>\n",
       "      <th>total_kb</th>\n",
       "      <th>voice_count_in</th>\n",
       "      <th>voice_count_total</th>\n",
       "      <th>voice_min_in</th>\n",
       "      <th>voice_min_out</th>\n",
       "    </tr>\n",
       "  </thead>\n",
       "  <tbody>\n",
       "    <tr>\n",
       "      <th>0</th>\n",
       "      <td>24daa57d-c261-444c-afd4-c107a53d638e</td>\n",
       "      <td>2021-02-04</td>\n",
       "      <td>0.000000</td>\n",
       "      <td>0.0</td>\n",
       "      <td>0</td>\n",
       "      <td>0</td>\n",
       "      <td>10</td>\n",
       "      <td>7</td>\n",
       "      <td>7.533189e+05</td>\n",
       "      <td>5</td>\n",
       "      <td>8</td>\n",
       "      <td>7</td>\n",
       "      <td>4</td>\n",
       "    </tr>\n",
       "    <tr>\n",
       "      <th>1</th>\n",
       "      <td>8ba9b32c-3df3-4145-81ac-f334763a6f43</td>\n",
       "      <td>2021-02-13</td>\n",
       "      <td>166455.194336</td>\n",
       "      <td>0.0</td>\n",
       "      <td>0</td>\n",
       "      <td>0</td>\n",
       "      <td>6</td>\n",
       "      <td>9</td>\n",
       "      <td>2.750695e+06</td>\n",
       "      <td>0</td>\n",
       "      <td>2</td>\n",
       "      <td>0</td>\n",
       "      <td>3</td>\n",
       "    </tr>\n",
       "  </tbody>\n",
       "</table>\n",
       "</div>"
      ],
      "text/plain": [
       "                                line_id        date     hotspot_kb  kb_5g  \\\n",
       "0  24daa57d-c261-444c-afd4-c107a53d638e  2021-02-04       0.000000    0.0   \n",
       "1  8ba9b32c-3df3-4145-81ac-f334763a6f43  2021-02-13  166455.194336    0.0   \n",
       "\n",
       "   mms_in  mms_out  sms_in  sms_out      total_kb  voice_count_in  \\\n",
       "0       0        0      10        7  7.533189e+05               5   \n",
       "1       0        0       6        9  2.750695e+06               0   \n",
       "\n",
       "   voice_count_total  voice_min_in  voice_min_out  \n",
       "0                  8             7              4  \n",
       "1                  2             0              3  "
      ]
     },
     "execution_count": 19,
     "metadata": {},
     "output_type": "execute_result"
    }
   ],
   "source": [
    "network_usage_domestic=pd.read_csv(data_folder+\"data/dev/network_usage_domestic.csv\")\n",
    "network_usage_domestic.head(2)"
   ]
  },
  {
   "cell_type": "code",
   "execution_count": 20,
   "metadata": {
    "ExecuteTime": {
     "end_time": "2021-04-02T20:43:09.885757Z",
     "start_time": "2021-04-02T20:43:09.880467Z"
    },
    "hidden": true
   },
   "outputs": [
    {
     "data": {
      "text/plain": [
       "6381966"
      ]
     },
     "execution_count": 20,
     "metadata": {},
     "output_type": "execute_result"
    }
   ],
   "source": [
    "len(network_usage_domestic)"
   ]
  },
  {
   "cell_type": "markdown",
   "metadata": {
    "heading_collapsed": true,
    "hidden": true
   },
   "source": [
    "## LRP Points"
   ]
  },
  {
   "cell_type": "code",
   "execution_count": 21,
   "metadata": {
    "ExecuteTime": {
     "end_time": "2021-04-02T20:43:10.036173Z",
     "start_time": "2021-04-02T20:43:09.888228Z"
    },
    "hidden": true
   },
   "outputs": [
    {
     "data": {
      "text/html": [
       "<div>\n",
       "<style scoped>\n",
       "    .dataframe tbody tr th:only-of-type {\n",
       "        vertical-align: middle;\n",
       "    }\n",
       "\n",
       "    .dataframe tbody tr th {\n",
       "        vertical-align: top;\n",
       "    }\n",
       "\n",
       "    .dataframe thead th {\n",
       "        text-align: right;\n",
       "    }\n",
       "</style>\n",
       "<table border=\"1\" class=\"dataframe\">\n",
       "  <thead>\n",
       "    <tr style=\"text-align: right;\">\n",
       "      <th></th>\n",
       "      <th>line_id</th>\n",
       "      <th>quantity</th>\n",
       "      <th>status</th>\n",
       "      <th>total_quantity</th>\n",
       "      <th>update_date</th>\n",
       "    </tr>\n",
       "  </thead>\n",
       "  <tbody>\n",
       "    <tr>\n",
       "      <th>0</th>\n",
       "      <td>77f81f11-ed62-438d-9c04-02e3bcc0d756</td>\n",
       "      <td>2180.0</td>\n",
       "      <td>ENROLLED</td>\n",
       "      <td>2180.0</td>\n",
       "      <td>2021-01-02</td>\n",
       "    </tr>\n",
       "    <tr>\n",
       "      <th>1</th>\n",
       "      <td>d664604d-8b68-4302-b599-0165df0f27ad</td>\n",
       "      <td>1210.0</td>\n",
       "      <td>ENROLLED</td>\n",
       "      <td>1210.0</td>\n",
       "      <td>2021-01-03</td>\n",
       "    </tr>\n",
       "  </tbody>\n",
       "</table>\n",
       "</div>"
      ],
      "text/plain": [
       "                                line_id  quantity    status  total_quantity  \\\n",
       "0  77f81f11-ed62-438d-9c04-02e3bcc0d756    2180.0  ENROLLED          2180.0   \n",
       "1  d664604d-8b68-4302-b599-0165df0f27ad    1210.0  ENROLLED          1210.0   \n",
       "\n",
       "  update_date  \n",
       "0  2021-01-02  \n",
       "1  2021-01-03  "
      ]
     },
     "execution_count": 21,
     "metadata": {},
     "output_type": "execute_result"
    }
   ],
   "source": [
    "lrp_points=pd.read_csv(data_folder+\"data/dev/lrp_points.csv\")\n",
    "lrp_points.head(2)"
   ]
  },
  {
   "cell_type": "code",
   "execution_count": 22,
   "metadata": {
    "ExecuteTime": {
     "end_time": "2021-04-02T20:43:10.042038Z",
     "start_time": "2021-04-02T20:43:10.038055Z"
    },
    "hidden": true
   },
   "outputs": [
    {
     "data": {
      "text/plain": [
       "8860"
      ]
     },
     "execution_count": 22,
     "metadata": {},
     "output_type": "execute_result"
    }
   ],
   "source": [
    "len(lrp_points)"
   ]
  },
  {
   "cell_type": "markdown",
   "metadata": {
    "heading_collapsed": true,
    "hidden": true
   },
   "source": [
    "## LRP Enrollment"
   ]
  },
  {
   "cell_type": "code",
   "execution_count": 23,
   "metadata": {
    "ExecuteTime": {
     "end_time": "2021-04-02T20:43:10.190421Z",
     "start_time": "2021-04-02T20:43:10.043977Z"
    },
    "hidden": true
   },
   "outputs": [
    {
     "data": {
      "text/html": [
       "<div>\n",
       "<style scoped>\n",
       "    .dataframe tbody tr th:only-of-type {\n",
       "        vertical-align: middle;\n",
       "    }\n",
       "\n",
       "    .dataframe tbody tr th {\n",
       "        vertical-align: top;\n",
       "    }\n",
       "\n",
       "    .dataframe thead th {\n",
       "        text-align: right;\n",
       "    }\n",
       "</style>\n",
       "<table border=\"1\" class=\"dataframe\">\n",
       "  <thead>\n",
       "    <tr style=\"text-align: right;\">\n",
       "      <th></th>\n",
       "      <th>line_id</th>\n",
       "      <th>lrp_enrolled</th>\n",
       "      <th>lrp_enrollment_date</th>\n",
       "    </tr>\n",
       "  </thead>\n",
       "  <tbody>\n",
       "    <tr>\n",
       "      <th>0</th>\n",
       "      <td>487ddc53-0fe4-429e-950d-8f3de2231883</td>\n",
       "      <td>Y</td>\n",
       "      <td>2019-12-02</td>\n",
       "    </tr>\n",
       "    <tr>\n",
       "      <th>1</th>\n",
       "      <td>081267e8-6fd7-467e-96e2-758cd8597800</td>\n",
       "      <td>Y</td>\n",
       "      <td>2017-04-30</td>\n",
       "    </tr>\n",
       "  </tbody>\n",
       "</table>\n",
       "</div>"
      ],
      "text/plain": [
       "                                line_id lrp_enrolled lrp_enrollment_date\n",
       "0  487ddc53-0fe4-429e-950d-8f3de2231883            Y          2019-12-02\n",
       "1  081267e8-6fd7-467e-96e2-758cd8597800            Y          2017-04-30"
      ]
     },
     "execution_count": 23,
     "metadata": {},
     "output_type": "execute_result"
    }
   ],
   "source": [
    "lrp_enrollment=pd.read_csv(data_folder+\"data/dev/lrp_enrollment.csv\")\n",
    "lrp_enrollment.head(2)"
   ]
  },
  {
   "cell_type": "code",
   "execution_count": 24,
   "metadata": {
    "ExecuteTime": {
     "end_time": "2021-04-02T20:43:10.196404Z",
     "start_time": "2021-04-02T20:43:10.192227Z"
    },
    "hidden": true
   },
   "outputs": [
    {
     "data": {
      "text/plain": [
       "17634"
      ]
     },
     "execution_count": 24,
     "metadata": {},
     "output_type": "execute_result"
    }
   ],
   "source": [
    "len(lrp_enrollment)"
   ]
  },
  {
   "cell_type": "markdown",
   "metadata": {
    "heading_collapsed": true
   },
   "source": [
    "# Joining Tables\n",
    "Below is the example of how to join upgrades, customer info and network usage data. Below code selects only a subset of columns for demonstration."
   ]
  },
  {
   "cell_type": "code",
   "execution_count": 25,
   "metadata": {
    "ExecuteTime": {
     "end_time": "2021-04-02T20:43:10.700458Z",
     "start_time": "2021-04-02T20:43:10.198109Z"
    },
    "hidden": true
   },
   "outputs": [
    {
     "name": "stdout",
     "output_type": "stream",
     "text": [
      "6381966\n",
      "6\n"
     ]
    }
   ],
   "source": [
    "upgrades_custinfo=pd.merge(upgrades,customer_info.loc[:,['line_id','carrier','plan_name']],on='line_id',how='inner')\n",
    "upgrades_custinfo_network=pd.merge(upgrades_custinfo,network_usage_domestic.loc[:,['line_id','total_kb']],on='line_id',how='inner')\n",
    "print(len(upgrades_custinfo_network))\n",
    "print(len(upgrades_custinfo_network.columns))"
   ]
  },
  {
   "cell_type": "markdown",
   "metadata": {
    "hidden": true
   },
   "source": [
    "The following writes out the sample to a single file. This can be useful for modeling on subsets of data."
   ]
  },
  {
   "cell_type": "code",
   "execution_count": 26,
   "metadata": {
    "ExecuteTime": {
     "end_time": "2021-04-02T20:43:29.504861Z",
     "start_time": "2021-04-02T20:43:10.705791Z"
    },
    "hidden": true
   },
   "outputs": [],
   "source": [
    "upgrades_custinfo_network.to_csv(root_folder+\"sample-notebook/dev-sample.csv\",header=True,index=None)"
   ]
  },
  {
   "cell_type": "code",
   "execution_count": 27,
   "metadata": {
    "ExecuteTime": {
     "end_time": "2021-04-02T20:44:30.210878Z",
     "start_time": "2021-04-02T20:44:21.643684Z"
    },
    "hidden": true
   },
   "outputs": [],
   "source": [
    "upgrades_eval=pd.read_csv(data_folder+\"data/eval/upgrades.csv\")\n",
    "customer_info_eval=pd.read_csv(data_folder+\"data/eval/customer_info.csv\")\n",
    "network_usage_domestic_eval=pd.read_csv(data_folder+\"data/eval/network_usage_domestic.csv\")"
   ]
  },
  {
   "cell_type": "code",
   "execution_count": 28,
   "metadata": {
    "ExecuteTime": {
     "end_time": "2021-04-02T20:44:30.642188Z",
     "start_time": "2021-04-02T20:44:30.320237Z"
    },
    "hidden": true
   },
   "outputs": [
    {
     "name": "stdout",
     "output_type": "stream",
     "text": [
      "4253608\n",
      "5\n"
     ]
    }
   ],
   "source": [
    "upgrades_custinfo=pd.merge(upgrades_eval,customer_info_eval.loc[:,['line_id','carrier','plan_name']],on='line_id',how='inner')\n",
    "upgrades_custinfo_network=pd.merge(upgrades_custinfo,network_usage_domestic_eval.loc[:,['line_id','total_kb']],on='line_id',how='inner')\n",
    "print(len(upgrades_custinfo_network))\n",
    "print(len(upgrades_custinfo_network.columns))"
   ]
  },
  {
   "cell_type": "code",
   "execution_count": 29,
   "metadata": {
    "ExecuteTime": {
     "end_time": "2021-04-02T20:44:41.417828Z",
     "start_time": "2021-04-02T20:44:30.740936Z"
    },
    "hidden": true
   },
   "outputs": [],
   "source": [
    "upgrades_custinfo_network.to_csv(root_folder+\"sample-notebook/eval-sample.csv\",header=True,index=None)"
   ]
  },
  {
   "cell_type": "code",
   "execution_count": 16,
   "metadata": {
    "hidden": true
   },
   "outputs": [],
   "source": [
    "def CreateVariableSummary(df, save=None):\n",
    "    \"\"\"\n",
    "    Input: \n",
    "      df = data frame to summarise\n",
    "      save = string name of dataframe you wish to save\n",
    "    Returns:\n",
    "      A dataframe that breaks down all variables in a dataframe by unique, missing, datatype, and frequency,\n",
    "      Option to save the file\n",
    "    \"\"\"\n",
    "    result = pd.DataFrame({\n",
    "        'Col':          df.columns,\n",
    "        'Unique':       [df[col].nunique() for col in df.columns],\n",
    "        'Missing':      [round(1 - df[col].count()/len(df[col]), 2) for col in df.columns],\n",
    "        'Datatype':     list(df.dtypes),\n",
    "        'Most Freq':    [list(df[col].value_counts().index[:1]) for col in df.columns],\n",
    "        'Least Freq':   [list(df[col].value_counts().index[-1:]) for col in df.columns]})\n",
    "    \n",
    "    if save != None:\n",
    "        result.to_excel(f\"{WRKDIR}/Data/new/'VariableSummary{save}.xls\", index = False)\n",
    "\n",
    "    return result"
   ]
  },
  {
   "cell_type": "code",
   "execution_count": 28,
   "metadata": {
    "scrolled": true
   },
   "outputs": [
    {
     "data": {
      "text/html": [
       "<div>\n",
       "<style scoped>\n",
       "    .dataframe tbody tr th:only-of-type {\n",
       "        vertical-align: middle;\n",
       "    }\n",
       "\n",
       "    .dataframe tbody tr th {\n",
       "        vertical-align: top;\n",
       "    }\n",
       "\n",
       "    .dataframe thead th {\n",
       "        text-align: right;\n",
       "    }\n",
       "</style>\n",
       "<table border=\"1\" class=\"dataframe\">\n",
       "  <thead>\n",
       "    <tr style=\"text-align: right;\">\n",
       "      <th></th>\n",
       "      <th>Col</th>\n",
       "      <th>Unique</th>\n",
       "      <th>Missing</th>\n",
       "      <th>Datatype</th>\n",
       "      <th>Most Freq</th>\n",
       "      <th>Least Freq</th>\n",
       "    </tr>\n",
       "  </thead>\n",
       "  <tbody>\n",
       "    <tr>\n",
       "      <th>0</th>\n",
       "      <td>line_id</td>\n",
       "      <td>55868</td>\n",
       "      <td>0.00</td>\n",
       "      <td>object</td>\n",
       "      <td>[32a1d615-37fb-4269-8c16-87e13d816159]</td>\n",
       "      <td>[27f8578a-fbce-403b-a5d2-b0bcf7a137c9]</td>\n",
       "    </tr>\n",
       "    <tr>\n",
       "      <th>1</th>\n",
       "      <td>cpu_cores</td>\n",
       "      <td>13</td>\n",
       "      <td>0.40</td>\n",
       "      <td>object</td>\n",
       "      <td>[4]</td>\n",
       "      <td>[1+2+4]</td>\n",
       "    </tr>\n",
       "    <tr>\n",
       "      <th>2</th>\n",
       "      <td>expandable_storage</td>\n",
       "      <td>2</td>\n",
       "      <td>0.41</td>\n",
       "      <td>float64</td>\n",
       "      <td>[0.0]</td>\n",
       "      <td>[1.0]</td>\n",
       "    </tr>\n",
       "    <tr>\n",
       "      <th>3</th>\n",
       "      <td>gsma_device_type</td>\n",
       "      <td>6</td>\n",
       "      <td>0.21</td>\n",
       "      <td>object</td>\n",
       "      <td>[Smartphone]</td>\n",
       "      <td>[Modem]</td>\n",
       "    </tr>\n",
       "    <tr>\n",
       "      <th>4</th>\n",
       "      <td>gsma_model_name</td>\n",
       "      <td>868</td>\n",
       "      <td>0.21</td>\n",
       "      <td>object</td>\n",
       "      <td>[iPhone 7 (A1660)]</td>\n",
       "      <td>[LG-H900]</td>\n",
       "    </tr>\n",
       "    <tr>\n",
       "      <th>5</th>\n",
       "      <td>gsma_operating_system</td>\n",
       "      <td>15</td>\n",
       "      <td>0.21</td>\n",
       "      <td>object</td>\n",
       "      <td>[Android]</td>\n",
       "      <td>[Not known]</td>\n",
       "    </tr>\n",
       "    <tr>\n",
       "      <th>6</th>\n",
       "      <td>internal_storage_capacity</td>\n",
       "      <td>36</td>\n",
       "      <td>0.40</td>\n",
       "      <td>object</td>\n",
       "      <td>[32/128/256]</td>\n",
       "      <td>[512]</td>\n",
       "    </tr>\n",
       "    <tr>\n",
       "      <th>7</th>\n",
       "      <td>lte</td>\n",
       "      <td>2</td>\n",
       "      <td>0.39</td>\n",
       "      <td>float64</td>\n",
       "      <td>[1.0]</td>\n",
       "      <td>[0.0]</td>\n",
       "    </tr>\n",
       "    <tr>\n",
       "      <th>8</th>\n",
       "      <td>lte_advanced</td>\n",
       "      <td>2</td>\n",
       "      <td>0.44</td>\n",
       "      <td>float64</td>\n",
       "      <td>[1.0]</td>\n",
       "      <td>[0.0]</td>\n",
       "    </tr>\n",
       "    <tr>\n",
       "      <th>9</th>\n",
       "      <td>lte_category</td>\n",
       "      <td>16</td>\n",
       "      <td>0.45</td>\n",
       "      <td>float64</td>\n",
       "      <td>[9.0]</td>\n",
       "      <td>[0.0]</td>\n",
       "    </tr>\n",
       "    <tr>\n",
       "      <th>10</th>\n",
       "      <td>manufacturer</td>\n",
       "      <td>46</td>\n",
       "      <td>0.39</td>\n",
       "      <td>object</td>\n",
       "      <td>[Apple]</td>\n",
       "      <td>[Plum]</td>\n",
       "    </tr>\n",
       "    <tr>\n",
       "      <th>11</th>\n",
       "      <td>os_family</td>\n",
       "      <td>7</td>\n",
       "      <td>0.39</td>\n",
       "      <td>object</td>\n",
       "      <td>[iOS]</td>\n",
       "      <td>[Nucleus]</td>\n",
       "    </tr>\n",
       "    <tr>\n",
       "      <th>12</th>\n",
       "      <td>os_name</td>\n",
       "      <td>8</td>\n",
       "      <td>0.39</td>\n",
       "      <td>object</td>\n",
       "      <td>[iOS]</td>\n",
       "      <td>[Nucleus]</td>\n",
       "    </tr>\n",
       "    <tr>\n",
       "      <th>13</th>\n",
       "      <td>os_vendor</td>\n",
       "      <td>7</td>\n",
       "      <td>0.39</td>\n",
       "      <td>object</td>\n",
       "      <td>[Apple]</td>\n",
       "      <td>[Samsung]</td>\n",
       "    </tr>\n",
       "    <tr>\n",
       "      <th>14</th>\n",
       "      <td>os_version</td>\n",
       "      <td>41</td>\n",
       "      <td>0.40</td>\n",
       "      <td>object</td>\n",
       "      <td>[9]</td>\n",
       "      <td>[4.4.3]</td>\n",
       "    </tr>\n",
       "    <tr>\n",
       "      <th>15</th>\n",
       "      <td>sim_size</td>\n",
       "      <td>5</td>\n",
       "      <td>0.42</td>\n",
       "      <td>object</td>\n",
       "      <td>[Nano]</td>\n",
       "      <td>[Micro &amp; Mini]</td>\n",
       "    </tr>\n",
       "    <tr>\n",
       "      <th>16</th>\n",
       "      <td>total_ram</td>\n",
       "      <td>31</td>\n",
       "      <td>0.40</td>\n",
       "      <td>object</td>\n",
       "      <td>[2048]</td>\n",
       "      <td>[1024/2048]</td>\n",
       "    </tr>\n",
       "    <tr>\n",
       "      <th>17</th>\n",
       "      <td>touch_screen</td>\n",
       "      <td>2</td>\n",
       "      <td>0.39</td>\n",
       "      <td>float64</td>\n",
       "      <td>[1.0]</td>\n",
       "      <td>[0.0]</td>\n",
       "    </tr>\n",
       "    <tr>\n",
       "      <th>18</th>\n",
       "      <td>wi_fi</td>\n",
       "      <td>2</td>\n",
       "      <td>0.39</td>\n",
       "      <td>float64</td>\n",
       "      <td>[1.0]</td>\n",
       "      <td>[0.0]</td>\n",
       "    </tr>\n",
       "    <tr>\n",
       "      <th>19</th>\n",
       "      <td>year_released</td>\n",
       "      <td>10</td>\n",
       "      <td>0.39</td>\n",
       "      <td>float64</td>\n",
       "      <td>[2016.0]</td>\n",
       "      <td>[2010.0]</td>\n",
       "    </tr>\n",
       "  </tbody>\n",
       "</table>\n",
       "</div>"
      ],
      "text/plain": [
       "                          Col  Unique  Missing Datatype  \\\n",
       "0                     line_id   55868     0.00   object   \n",
       "1                   cpu_cores      13     0.40   object   \n",
       "2          expandable_storage       2     0.41  float64   \n",
       "3            gsma_device_type       6     0.21   object   \n",
       "4             gsma_model_name     868     0.21   object   \n",
       "5       gsma_operating_system      15     0.21   object   \n",
       "6   internal_storage_capacity      36     0.40   object   \n",
       "7                         lte       2     0.39  float64   \n",
       "8                lte_advanced       2     0.44  float64   \n",
       "9                lte_category      16     0.45  float64   \n",
       "10               manufacturer      46     0.39   object   \n",
       "11                  os_family       7     0.39   object   \n",
       "12                    os_name       8     0.39   object   \n",
       "13                  os_vendor       7     0.39   object   \n",
       "14                 os_version      41     0.40   object   \n",
       "15                   sim_size       5     0.42   object   \n",
       "16                  total_ram      31     0.40   object   \n",
       "17               touch_screen       2     0.39  float64   \n",
       "18                      wi_fi       2     0.39  float64   \n",
       "19              year_released      10     0.39  float64   \n",
       "\n",
       "                                 Most Freq  \\\n",
       "0   [32a1d615-37fb-4269-8c16-87e13d816159]   \n",
       "1                                      [4]   \n",
       "2                                    [0.0]   \n",
       "3                             [Smartphone]   \n",
       "4                       [iPhone 7 (A1660)]   \n",
       "5                                [Android]   \n",
       "6                             [32/128/256]   \n",
       "7                                    [1.0]   \n",
       "8                                    [1.0]   \n",
       "9                                    [9.0]   \n",
       "10                                 [Apple]   \n",
       "11                                   [iOS]   \n",
       "12                                   [iOS]   \n",
       "13                                 [Apple]   \n",
       "14                                     [9]   \n",
       "15                                  [Nano]   \n",
       "16                                  [2048]   \n",
       "17                                   [1.0]   \n",
       "18                                   [1.0]   \n",
       "19                                [2016.0]   \n",
       "\n",
       "                                Least Freq  \n",
       "0   [27f8578a-fbce-403b-a5d2-b0bcf7a137c9]  \n",
       "1                                  [1+2+4]  \n",
       "2                                    [1.0]  \n",
       "3                                  [Modem]  \n",
       "4                                [LG-H900]  \n",
       "5                              [Not known]  \n",
       "6                                    [512]  \n",
       "7                                    [0.0]  \n",
       "8                                    [0.0]  \n",
       "9                                    [0.0]  \n",
       "10                                  [Plum]  \n",
       "11                               [Nucleus]  \n",
       "12                               [Nucleus]  \n",
       "13                               [Samsung]  \n",
       "14                                 [4.4.3]  \n",
       "15                          [Micro & Mini]  \n",
       "16                             [1024/2048]  \n",
       "17                                   [0.0]  \n",
       "18                                   [0.0]  \n",
       "19                                [2010.0]  "
      ]
     },
     "execution_count": 28,
     "metadata": {},
     "output_type": "execute_result"
    }
   ],
   "source": [
    "CreateVariableSummary(phone_info)"
   ]
  },
  {
   "cell_type": "code",
   "execution_count": 8,
   "metadata": {},
   "outputs": [
    {
     "name": "stdout",
     "output_type": "stream",
     "text": [
      "cpu_cores                    22128\n",
      "expandable_storage           22627\n",
      "gsma_device_type             11571\n",
      "gsma_model_name              11571\n",
      "gsma_operating_system        11571\n",
      "internal_storage_capacity    22469\n",
      "lte                          22037\n",
      "lte_advanced                 24644\n",
      "lte_category                 24941\n",
      "manufacturer                 22054\n",
      "os_family                    22067\n",
      "os_name                      22065\n",
      "os_vendor                    22067\n",
      "os_version                   22219\n",
      "sim_size                     23395\n",
      "total_ram                    22236\n",
      "touch_screen                 22015\n",
      "wi_fi                        22049\n",
      "year_released                22019\n",
      "dtype: int64\n"
     ]
    },
    {
     "data": {
      "text/plain": [
       "<BarContainer object of 19 artists>"
      ]
     },
     "execution_count": 8,
     "metadata": {},
     "output_type": "execute_result"
    },
    {
     "data": {
      "image/png": "[encoded data removed]",
      "text/plain": [
       "<Figure size 2880x1440 with 1 Axes>"
      ]
     },
     "metadata": {
      "needs_background": "light"
     },
     "output_type": "display_data"
    }
   ],
   "source": [
    "\n",
    "# find null values\n",
    "import pandas as pd\n",
    "\n",
    "# upPh = upgrades_phoneinfo\n",
    "# Count the Null Columns\n",
    "null_columns=phone_info.columns[phone_info.isnull().any()]\n",
    "Ph_null_count = phone_info[null_columns].isnull().sum()\n",
    "\n",
    "print(Ph_null_count)\n",
    "\n",
    "import matplotlib.pyplot as plt\n",
    "\n",
    "fig = plt.figure(figsize=(40, 20))\n",
    "ax = fig.add_axes([0,0,1,1])\n",
    "\n",
    "ax.bar(null_columns,Ph_null_count)"
   ]
  },
  {
   "cell_type": "code",
   "execution_count": 17,
   "metadata": {},
   "outputs": [],
   "source": [
    "phone_info_cp = phone_info.copy()"
   ]
  },
  {
   "cell_type": "code",
   "execution_count": 18,
   "metadata": {},
   "outputs": [],
   "source": [
    "# take care of null values\n",
    "# floats \n",
    "# change nan to -1 which indicates NaN\n",
    "# expandable_storage, lte, lte_advanced, lte_category, touch_screen, wi_fi, year_released\n",
    "# dataset: phone_info_cp\n",
    "\n",
    "phone_info_cp['expandable_storage'] = phone_info_cp['expandable_storage'].fillna(-1.0)\n",
    "phone_info_cp['lte'] = phone_info_cp['lte'].fillna(-1.0)\n",
    "phone_info_cp['lte_advanced'] = phone_info_cp['lte_advanced'].fillna(-1.0)\n",
    "phone_info_cp['lte_category'] = phone_info_cp['lte_category'].fillna(-1.0)\n",
    "phone_info_cp['touch_screen'] = phone_info_cp['touch_screen'].fillna(-1.0)\n",
    "phone_info_cp['wi_fi'] = phone_info_cp['wi_fi'].fillna(-1.0)\n",
    "phone_info_cp['year_released'] = phone_info_cp['year_released'].fillna(-1.0)"
   ]
  },
  {
   "cell_type": "code",
   "execution_count": 19,
   "metadata": {},
   "outputs": [],
   "source": [
    "# categorical values to none\n",
    "phone_info_cp['cpu_cores'] = phone_info_cp['cpu_cores'].fillna(\"none\")\n",
    "phone_info_cp['manufacturer'] = phone_info_cp['manufacturer'].fillna(\"none\")\n",
    "phone_info_cp['os_family'] = phone_info_cp['os_family'].fillna(\"none\")\n",
    "phone_info_cp['os_name'] = phone_info_cp['os_name'].fillna(\"none\")\n",
    "phone_info_cp['os_vendor'] = phone_info_cp['os_vendor'].fillna(\"none\")\n",
    "phone_info_cp['os_version'] = phone_info_cp['os_version'].fillna(\"none\")\n",
    "phone_info_cp['sim_size'] = phone_info_cp['sim_size'].fillna(\"none\")\n",
    "phone_info_cp['total_ram'] = phone_info_cp['total_ram'].fillna(\"none\")\n",
    "phone_info_cp['gsma_device_type'] = phone_info_cp['gsma_device_type'].fillna(\"none\")\n",
    "phone_info_cp['gsma_model_name'] = phone_info_cp['gsma_model_name'].fillna(\"none\")\n",
    "phone_info_cp['gsma_operating_system'] = phone_info_cp['gsma_operating_system'].fillna(\"none\")\n",
    "phone_info_cp['internal_storage_capacity'] = phone_info_cp['internal_storage_capacity'].fillna(\"none\")"
   ]
  },
  {
   "cell_type": "code",
   "execution_count": 20,
   "metadata": {},
   "outputs": [],
   "source": [
    "import pandas as pd\n",
    "import numpy as np\n",
    "from sklearn.preprocessing import LabelEncoder\n",
    "import seaborn as sns"
   ]
  },
  {
   "cell_type": "code",
   "execution_count": 21,
   "metadata": {},
   "outputs": [
    {
     "name": "stderr",
     "output_type": "stream",
     "text": [
      "/opt/conda/lib/python3.7/site-packages/ipykernel_launcher.py:3: SettingWithCopyWarning: \n",
      "A value is trying to be set on a copy of a slice from a DataFrame.\n",
      "Try using .loc[row_indexer,col_indexer] = value instead\n",
      "\n",
      "See the caveats in the documentation: https://pandas.pydata.org/pandas-docs/stable/user_guide/indexing.html#returning-a-view-versus-a-copy\n",
      "  This is separate from the ipykernel package so we can avoid doing imports until\n",
      "/opt/conda/lib/python3.7/site-packages/ipykernel_launcher.py:4: SettingWithCopyWarning: \n",
      "A value is trying to be set on a copy of a slice from a DataFrame.\n",
      "Try using .loc[row_indexer,col_indexer] = value instead\n",
      "\n",
      "See the caveats in the documentation: https://pandas.pydata.org/pandas-docs/stable/user_guide/indexing.html#returning-a-view-versus-a-copy\n",
      "  after removing the cwd from sys.path.\n",
      "/opt/conda/lib/python3.7/site-packages/ipykernel_launcher.py:5: SettingWithCopyWarning: \n",
      "A value is trying to be set on a copy of a slice from a DataFrame.\n",
      "Try using .loc[row_indexer,col_indexer] = value instead\n",
      "\n",
      "See the caveats in the documentation: https://pandas.pydata.org/pandas-docs/stable/user_guide/indexing.html#returning-a-view-versus-a-copy\n",
      "  \"\"\"\n",
      "/opt/conda/lib/python3.7/site-packages/ipykernel_launcher.py:6: SettingWithCopyWarning: \n",
      "A value is trying to be set on a copy of a slice from a DataFrame.\n",
      "Try using .loc[row_indexer,col_indexer] = value instead\n",
      "\n",
      "See the caveats in the documentation: https://pandas.pydata.org/pandas-docs/stable/user_guide/indexing.html#returning-a-view-versus-a-copy\n",
      "  \n",
      "/opt/conda/lib/python3.7/site-packages/ipykernel_launcher.py:7: SettingWithCopyWarning: \n",
      "A value is trying to be set on a copy of a slice from a DataFrame.\n",
      "Try using .loc[row_indexer,col_indexer] = value instead\n",
      "\n",
      "See the caveats in the documentation: https://pandas.pydata.org/pandas-docs/stable/user_guide/indexing.html#returning-a-view-versus-a-copy\n",
      "  import sys\n"
     ]
    },
    {
     "data": {
      "text/plain": [
       "<AxesSubplot:>"
      ]
     },
     "execution_count": 21,
     "metadata": {},
     "output_type": "execute_result"
    },
    {
     "data": {
      "image/png": "[encoded data removed]",
      "text/plain": [
       "<Figure size 432x288 with 2 Axes>"
      ]
     },
     "metadata": {
      "needs_background": "light"
     },
     "output_type": "display_data"
    }
   ],
   "source": [
    "os_data = phone_info_cp[['manufacturer','os_family','os_name','os_vendor','os_version']]\n",
    "labelencoder = LabelEncoder()\n",
    "os_data['manufacturer'] = labelencoder.fit_transform(os_data['manufacturer'])\n",
    "os_data['os_family'] = labelencoder.fit_transform(os_data['os_family'])\n",
    "os_data['os_name'] = labelencoder.fit_transform(os_data['os_name'])\n",
    "os_data['os_vendor'] = labelencoder.fit_transform(os_data['os_vendor'])\n",
    "os_data['os_version'] = labelencoder.fit_transform(os_data['os_version'])\n",
    "os_data.corr()\n",
    "sns.heatmap(os_data.corr())"
   ]
  },
  {
   "cell_type": "markdown",
   "metadata": {},
   "source": [
    "os_vendor & manufacturer\n",
    "os_name & os_family\n",
    "\n",
    "have high correlations"
   ]
  },
  {
   "cell_type": "code",
   "execution_count": 22,
   "metadata": {},
   "outputs": [
    {
     "name": "stderr",
     "output_type": "stream",
     "text": [
      "/opt/conda/lib/python3.7/site-packages/ipykernel_launcher.py:3: SettingWithCopyWarning: \n",
      "A value is trying to be set on a copy of a slice from a DataFrame.\n",
      "Try using .loc[row_indexer,col_indexer] = value instead\n",
      "\n",
      "See the caveats in the documentation: https://pandas.pydata.org/pandas-docs/stable/user_guide/indexing.html#returning-a-view-versus-a-copy\n",
      "  This is separate from the ipykernel package so we can avoid doing imports until\n",
      "/opt/conda/lib/python3.7/site-packages/ipykernel_launcher.py:4: SettingWithCopyWarning: \n",
      "A value is trying to be set on a copy of a slice from a DataFrame.\n",
      "Try using .loc[row_indexer,col_indexer] = value instead\n",
      "\n",
      "See the caveats in the documentation: https://pandas.pydata.org/pandas-docs/stable/user_guide/indexing.html#returning-a-view-versus-a-copy\n",
      "  after removing the cwd from sys.path.\n",
      "/opt/conda/lib/python3.7/site-packages/ipykernel_launcher.py:5: SettingWithCopyWarning: \n",
      "A value is trying to be set on a copy of a slice from a DataFrame.\n",
      "Try using .loc[row_indexer,col_indexer] = value instead\n",
      "\n",
      "See the caveats in the documentation: https://pandas.pydata.org/pandas-docs/stable/user_guide/indexing.html#returning-a-view-versus-a-copy\n",
      "  \"\"\"\n"
     ]
    },
    {
     "data": {
      "text/plain": [
       "<AxesSubplot:>"
      ]
     },
     "execution_count": 22,
     "metadata": {},
     "output_type": "execute_result"
    },
    {
     "data": {
      "image/png": "[encoded data removed]",
      "text/plain": [
       "<Figure size 432x288 with 2 Axes>"
      ]
     },
     "metadata": {
      "needs_background": "light"
     },
     "output_type": "display_data"
    }
   ],
   "source": [
    "gsma_data = phone_info_cp[['gsma_device_type','gsma_model_name','gsma_operating_system']]\n",
    "labelencoder = LabelEncoder()\n",
    "gsma_data['gsma_device_type'] = labelencoder.fit_transform(gsma_data['gsma_device_type'])\n",
    "gsma_data['gsma_model_name'] = labelencoder.fit_transform(gsma_data['gsma_model_name'])\n",
    "gsma_data['gsma_operating_system'] = labelencoder.fit_transform(gsma_data['gsma_operating_system'])\n",
    "\n",
    "gsma_data.corr()\n",
    "sns.heatmap(gsma_data.corr())"
   ]
  },
  {
   "cell_type": "code",
   "execution_count": 41,
   "metadata": {},
   "outputs": [
    {
     "data": {
      "text/plain": [
       "<AxesSubplot:>"
      ]
     },
     "execution_count": 41,
     "metadata": {},
     "output_type": "execute_result"
    },
    {
     "data": {
      "image/png": "[encoded data removed]",
      "text/plain": [
       "<Figure size 432x288 with 2 Axes>"
      ]
     },
     "metadata": {
      "needs_background": "light"
     },
     "output_type": "display_data"
    }
   ],
   "source": [
    "smart_data = phone_info_cp[['touch_screen','wi_fi']]\n",
    "\n",
    "\n",
    "smart_data.corr()\n",
    "sns.heatmap(smart_data.corr())"
   ]
  },
  {
   "cell_type": "markdown",
   "metadata": {},
   "source": [
    "touch_sceen and wifi have a very high correlation"
   ]
  },
  {
   "cell_type": "code",
   "execution_count": 42,
   "metadata": {},
   "outputs": [
    {
     "data": {
      "text/html": [
       "<div>\n",
       "<style scoped>\n",
       "    .dataframe tbody tr th:only-of-type {\n",
       "        vertical-align: middle;\n",
       "    }\n",
       "\n",
       "    .dataframe tbody tr th {\n",
       "        vertical-align: top;\n",
       "    }\n",
       "\n",
       "    .dataframe thead th {\n",
       "        text-align: right;\n",
       "    }\n",
       "</style>\n",
       "<table border=\"1\" class=\"dataframe\">\n",
       "  <thead>\n",
       "    <tr style=\"text-align: right;\">\n",
       "      <th></th>\n",
       "      <th>lte</th>\n",
       "      <th>lte_advanced</th>\n",
       "      <th>lte_category</th>\n",
       "    </tr>\n",
       "  </thead>\n",
       "  <tbody>\n",
       "    <tr>\n",
       "      <th>lte</th>\n",
       "      <td>1.000000</td>\n",
       "      <td>0.904444</td>\n",
       "      <td>0.773687</td>\n",
       "    </tr>\n",
       "    <tr>\n",
       "      <th>lte_advanced</th>\n",
       "      <td>0.904444</td>\n",
       "      <td>1.000000</td>\n",
       "      <td>0.855213</td>\n",
       "    </tr>\n",
       "    <tr>\n",
       "      <th>lte_category</th>\n",
       "      <td>0.773687</td>\n",
       "      <td>0.855213</td>\n",
       "      <td>1.000000</td>\n",
       "    </tr>\n",
       "  </tbody>\n",
       "</table>\n",
       "</div>"
      ],
      "text/plain": [
       "                   lte  lte_advanced  lte_category\n",
       "lte           1.000000      0.904444      0.773687\n",
       "lte_advanced  0.904444      1.000000      0.855213\n",
       "lte_category  0.773687      0.855213      1.000000"
      ]
     },
     "execution_count": 42,
     "metadata": {},
     "output_type": "execute_result"
    }
   ],
   "source": [
    "#lte and lte_advance, lte_category\n",
    "lte_data = phone_info_cp[['lte','lte_advanced','lte_category']]\n",
    "lte_data.corr()\n",
    "sns.heatmap(lte_data.corr())"
   ]
  },
  {
   "cell_type": "code",
   "execution_count": 21,
   "metadata": {},
   "outputs": [],
   "source": [
    "upgrades_phoneinfo=pd.merge(upgrades,phone_info_cp,on='line_id',how='inner')\n"
   ]
  },
  {
   "cell_type": "code",
   "execution_count": 44,
   "metadata": {},
   "outputs": [],
   "source": [
    "new_upgrades_phoneinfo = upgrades_phoneinfo.drop(['lte_advanced','wi_fi','touch_screen','gsma_model_name','os_family','os_vendor'], axis =1, inplace = True)\n"
   ]
  },
  {
   "cell_type": "code",
   "execution_count": null,
   "metadata": {},
   "outputs": [],
   "source": []
  },
  {
   "cell_type": "code",
   "execution_count": 22,
   "metadata": {},
   "outputs": [
    {
     "data": {
      "text/plain": [
       "<AxesSubplot:>"
      ]
     },
     "execution_count": 22,
     "metadata": {},
     "output_type": "execute_result"
    },
    {
     "data": {
      "image/png": "[encoded data removed]",
      "text/plain": [
       "<Figure size 432x288 with 1 Axes>"
      ]
     },
     "metadata": {
      "needs_background": "light"
     },
     "output_type": "display_data"
    }
   ],
   "source": [
    "upgrades_phoneinfo['manufacturer'].value_counts().plot(kind = 'bar') "
   ]
  },
  {
   "cell_type": "code",
   "execution_count": 46,
   "metadata": {},
   "outputs": [],
   "source": []
  },
  {
   "cell_type": "code",
   "execution_count": 47,
   "metadata": {},
   "outputs": [],
   "source": []
  },
  {
   "cell_type": "code",
   "execution_count": 48,
   "metadata": {},
   "outputs": [],
   "source": [
    "upgrades_phoneinfo.drop(['year_released'],inplace = True, axis =1)\n"
   ]
  },
  {
   "cell_type": "code",
   "execution_count": 49,
   "metadata": {},
   "outputs": [],
   "source": [
    "upgrades_phoneinfo.drop(['lte'],inplace = True, axis =1)"
   ]
  },
  {
   "cell_type": "code",
   "execution_count": 50,
   "metadata": {},
   "outputs": [
    {
     "data": {
      "text/html": [
       "<div>\n",
       "<style scoped>\n",
       "    .dataframe tbody tr th:only-of-type {\n",
       "        vertical-align: middle;\n",
       "    }\n",
       "\n",
       "    .dataframe tbody tr th {\n",
       "        vertical-align: top;\n",
       "    }\n",
       "\n",
       "    .dataframe thead th {\n",
       "        text-align: right;\n",
       "    }\n",
       "</style>\n",
       "<table border=\"1\" class=\"dataframe\">\n",
       "  <thead>\n",
       "    <tr style=\"text-align: right;\">\n",
       "      <th></th>\n",
       "      <th>Col</th>\n",
       "      <th>Unique</th>\n",
       "      <th>Missing</th>\n",
       "      <th>Datatype</th>\n",
       "      <th>Most Freq</th>\n",
       "      <th>Least Freq</th>\n",
       "    </tr>\n",
       "  </thead>\n",
       "  <tbody>\n",
       "    <tr>\n",
       "      <th>0</th>\n",
       "      <td>line_id</td>\n",
       "      <td>55868</td>\n",
       "      <td>0.0</td>\n",
       "      <td>object</td>\n",
       "      <td>[ff858d1a-7d07-40bf-ae24-1b78af281535]</td>\n",
       "      <td>[cb1418f2-37dd-4a0e-ae49-2d02e6ac9e0c]</td>\n",
       "    </tr>\n",
       "    <tr>\n",
       "      <th>1</th>\n",
       "      <td>date_observed</td>\n",
       "      <td>5</td>\n",
       "      <td>0.0</td>\n",
       "      <td>object</td>\n",
       "      <td>[2021-03-11]</td>\n",
       "      <td>[2021-03-12]</td>\n",
       "    </tr>\n",
       "    <tr>\n",
       "      <th>2</th>\n",
       "      <td>upgrade</td>\n",
       "      <td>2</td>\n",
       "      <td>0.0</td>\n",
       "      <td>object</td>\n",
       "      <td>[no]</td>\n",
       "      <td>[yes]</td>\n",
       "    </tr>\n",
       "    <tr>\n",
       "      <th>3</th>\n",
       "      <td>cpu_cores</td>\n",
       "      <td>14</td>\n",
       "      <td>0.0</td>\n",
       "      <td>object</td>\n",
       "      <td>[none]</td>\n",
       "      <td>[1+2+4]</td>\n",
       "    </tr>\n",
       "    <tr>\n",
       "      <th>4</th>\n",
       "      <td>expandable_storage</td>\n",
       "      <td>3</td>\n",
       "      <td>0.0</td>\n",
       "      <td>float64</td>\n",
       "      <td>[-1.0]</td>\n",
       "      <td>[1.0]</td>\n",
       "    </tr>\n",
       "    <tr>\n",
       "      <th>5</th>\n",
       "      <td>gsma_device_type</td>\n",
       "      <td>7</td>\n",
       "      <td>0.0</td>\n",
       "      <td>object</td>\n",
       "      <td>[Smartphone]</td>\n",
       "      <td>[Tablet]</td>\n",
       "    </tr>\n",
       "    <tr>\n",
       "      <th>6</th>\n",
       "      <td>gsma_operating_system</td>\n",
       "      <td>16</td>\n",
       "      <td>0.0</td>\n",
       "      <td>object</td>\n",
       "      <td>[Android]</td>\n",
       "      <td>[Not known,iOS]</td>\n",
       "    </tr>\n",
       "    <tr>\n",
       "      <th>7</th>\n",
       "      <td>internal_storage_capacity</td>\n",
       "      <td>37</td>\n",
       "      <td>0.0</td>\n",
       "      <td>object</td>\n",
       "      <td>[none]</td>\n",
       "      <td>[1]</td>\n",
       "    </tr>\n",
       "    <tr>\n",
       "      <th>8</th>\n",
       "      <td>lte_category</td>\n",
       "      <td>17</td>\n",
       "      <td>0.0</td>\n",
       "      <td>float64</td>\n",
       "      <td>[-1.0]</td>\n",
       "      <td>[0.0]</td>\n",
       "    </tr>\n",
       "    <tr>\n",
       "      <th>9</th>\n",
       "      <td>manufacturer</td>\n",
       "      <td>47</td>\n",
       "      <td>0.0</td>\n",
       "      <td>object</td>\n",
       "      <td>[none]</td>\n",
       "      <td>[Oinomu]</td>\n",
       "    </tr>\n",
       "    <tr>\n",
       "      <th>10</th>\n",
       "      <td>os_name</td>\n",
       "      <td>9</td>\n",
       "      <td>0.0</td>\n",
       "      <td>object</td>\n",
       "      <td>[none]</td>\n",
       "      <td>[Nucleus]</td>\n",
       "    </tr>\n",
       "    <tr>\n",
       "      <th>11</th>\n",
       "      <td>os_version</td>\n",
       "      <td>42</td>\n",
       "      <td>0.0</td>\n",
       "      <td>object</td>\n",
       "      <td>[none]</td>\n",
       "      <td>[4.4.3]</td>\n",
       "    </tr>\n",
       "    <tr>\n",
       "      <th>12</th>\n",
       "      <td>sim_size</td>\n",
       "      <td>6</td>\n",
       "      <td>0.0</td>\n",
       "      <td>object</td>\n",
       "      <td>[Nano]</td>\n",
       "      <td>[Micro &amp; Mini]</td>\n",
       "    </tr>\n",
       "    <tr>\n",
       "      <th>13</th>\n",
       "      <td>total_ram</td>\n",
       "      <td>32</td>\n",
       "      <td>0.0</td>\n",
       "      <td>object</td>\n",
       "      <td>[none]</td>\n",
       "      <td>[4]</td>\n",
       "    </tr>\n",
       "  </tbody>\n",
       "</table>\n",
       "</div>"
      ],
      "text/plain": [
       "                          Col  Unique  Missing Datatype  \\\n",
       "0                     line_id   55868      0.0   object   \n",
       "1               date_observed       5      0.0   object   \n",
       "2                     upgrade       2      0.0   object   \n",
       "3                   cpu_cores      14      0.0   object   \n",
       "4          expandable_storage       3      0.0  float64   \n",
       "5            gsma_device_type       7      0.0   object   \n",
       "6       gsma_operating_system      16      0.0   object   \n",
       "7   internal_storage_capacity      37      0.0   object   \n",
       "8                lte_category      17      0.0  float64   \n",
       "9                manufacturer      47      0.0   object   \n",
       "10                    os_name       9      0.0   object   \n",
       "11                 os_version      42      0.0   object   \n",
       "12                   sim_size       6      0.0   object   \n",
       "13                  total_ram      32      0.0   object   \n",
       "\n",
       "                                 Most Freq  \\\n",
       "0   [ff858d1a-7d07-40bf-ae24-1b78af281535]   \n",
       "1                             [2021-03-11]   \n",
       "2                                     [no]   \n",
       "3                                   [none]   \n",
       "4                                   [-1.0]   \n",
       "5                             [Smartphone]   \n",
       "6                                [Android]   \n",
       "7                                   [none]   \n",
       "8                                   [-1.0]   \n",
       "9                                   [none]   \n",
       "10                                  [none]   \n",
       "11                                  [none]   \n",
       "12                                  [Nano]   \n",
       "13                                  [none]   \n",
       "\n",
       "                                Least Freq  \n",
       "0   [cb1418f2-37dd-4a0e-ae49-2d02e6ac9e0c]  \n",
       "1                             [2021-03-12]  \n",
       "2                                    [yes]  \n",
       "3                                  [1+2+4]  \n",
       "4                                    [1.0]  \n",
       "5                                 [Tablet]  \n",
       "6                          [Not known,iOS]  \n",
       "7                                      [1]  \n",
       "8                                    [0.0]  \n",
       "9                                 [Oinomu]  \n",
       "10                               [Nucleus]  \n",
       "11                                 [4.4.3]  \n",
       "12                          [Micro & Mini]  \n",
       "13                                     [4]  "
      ]
     },
     "execution_count": 50,
     "metadata": {},
     "output_type": "execute_result"
    }
   ],
   "source": [
    "CreateVariableSummary(upgrades_phoneinfo)"
   ]
  },
  {
   "cell_type": "code",
   "execution_count": null,
   "metadata": {},
   "outputs": [],
   "source": []
  },
  {
   "cell_type": "code",
   "execution_count": 51,
   "metadata": {},
   "outputs": [],
   "source": [
    "def drop_infrequent_categories(df: pd.DataFrame, cols: list, thresh: int = 2500, replace_with: str = \"other\"):\n",
    "        for col in cols:\n",
    "            value_counts = df[col].value_counts()\n",
    "            to_remove = value_counts[value_counts <= thresh].index\n",
    "            df[col].replace(to_remove, replace_with, inplace=True)"
   ]
  },
  {
   "cell_type": "code",
   "execution_count": 52,
   "metadata": {},
   "outputs": [
    {
     "data": {
      "text/plain": [
       "-1.0     24941\n",
       " 9.0      8294\n",
       " 12.0     6773\n",
       " 6.0      5940\n",
       " 4.0      5433\n",
       " 16.0     2160\n",
       " 18.0      793\n",
       " 7.0       465\n",
       " 3.0       412\n",
       " 20.0      381\n",
       " 11.0      163\n",
       " 15.0       59\n",
       " 13.0       29\n",
       " 10.0        8\n",
       " 21.0        7\n",
       " 19.0        6\n",
       " 0.0         4\n",
       "Name: lte_category, dtype: int64"
      ]
     },
     "execution_count": 52,
     "metadata": {},
     "output_type": "execute_result"
    }
   ],
   "source": [
    "#lte_category\n",
    "upgrades_phoneinfo['lte_category'].value_counts()"
   ]
  },
  {
   "cell_type": "code",
   "execution_count": 53,
   "metadata": {},
   "outputs": [],
   "source": [
    "# reactivations_dropping = reactivations_df.copy(deep = True)\n",
    "# drop_infrequent_categories(reactivations_dropping, ['reactivation_channel'], thresh = 2000)"
   ]
  },
  {
   "cell_type": "code",
   "execution_count": 54,
   "metadata": {},
   "outputs": [],
   "source": [
    "\n",
    "drop_infrequent_categories(upgrades_phoneinfo, ['lte_category'], thresh = 2000)\n"
   ]
  },
  {
   "cell_type": "code",
   "execution_count": 13,
   "metadata": {},
   "outputs": [
    {
     "ename": "NameError",
     "evalue": "name 'upgrades_phoneinfo' is not defined",
     "output_type": "error",
     "traceback": [
      "\u001b[0;31m---------------------------------------------------------------------------\u001b[0m",
      "\u001b[0;31mNameError\u001b[0m                                 Traceback (most recent call last)",
      "\u001b[0;32m<ipython-input-13-d17d96502d16>\u001b[0m in \u001b[0;36m<module>\u001b[0;34m\u001b[0m\n\u001b[1;32m      1\u001b[0m \u001b[0;31m#manufacturer\u001b[0m\u001b[0;34m\u001b[0m\u001b[0;34m\u001b[0m\u001b[0;34m\u001b[0m\u001b[0m\n\u001b[0;32m----> 2\u001b[0;31m \u001b[0mupgrades_phoneinfo\u001b[0m\u001b[0;34m[\u001b[0m\u001b[0;34m'manufacturer'\u001b[0m\u001b[0;34m]\u001b[0m\u001b[0;34m.\u001b[0m\u001b[0mvalue_counts\u001b[0m\u001b[0;34m(\u001b[0m\u001b[0;34m)\u001b[0m\u001b[0;34m\u001b[0m\u001b[0;34m\u001b[0m\u001b[0m\n\u001b[0m\u001b[1;32m      3\u001b[0m \u001b[0mdrop_infrequent_categories\u001b[0m\u001b[0;34m(\u001b[0m\u001b[0mupgrades_phoneinfo\u001b[0m\u001b[0;34m,\u001b[0m \u001b[0;34m[\u001b[0m\u001b[0;34m'manufacturer'\u001b[0m\u001b[0;34m]\u001b[0m\u001b[0;34m,\u001b[0m \u001b[0mthresh\u001b[0m \u001b[0;34m=\u001b[0m \u001b[0;36m900\u001b[0m\u001b[0;34m)\u001b[0m\u001b[0;34m\u001b[0m\u001b[0;34m\u001b[0m\u001b[0m\n",
      "\u001b[0;31mNameError\u001b[0m: name 'upgrades_phoneinfo' is not defined"
     ]
    }
   ],
   "source": [
    "#manufacturer\n",
    "upgrades_phoneinfo['manufacturer'].value_counts()\n",
    "drop_infrequent_categories(upgrades_phoneinfo, ['manufacturer'], thresh = 900)"
   ]
  },
  {
   "cell_type": "code",
   "execution_count": 56,
   "metadata": {},
   "outputs": [],
   "source": [
    "# os_name\n",
    "upgrades_phoneinfo['os_name'].value_counts()\n",
    "drop_infrequent_categories(upgrades_phoneinfo, ['os_name'], thresh = 10000)"
   ]
  },
  {
   "cell_type": "code",
   "execution_count": 57,
   "metadata": {},
   "outputs": [],
   "source": [
    "# os_version\n",
    "upgrades_phoneinfo['os_version'].value_counts()\n",
    "drop_infrequent_categories(upgrades_phoneinfo, ['os_version'], thresh = 1000)"
   ]
  },
  {
   "cell_type": "code",
   "execution_count": 58,
   "metadata": {},
   "outputs": [],
   "source": [
    "# # sim_size\n",
    "# upgrades_phoneinfo['sim_size'].value_counts().plot(kind = 'bar')\n",
    "# drop_infrequent_categories(upgrades_phoneinfo, ['sim_size'], thresh = 1000)\n",
    "# #drop this\n",
    "# upgrades_phoneinfo.drop(['sim_size'],inplace = True, axis =1)"
   ]
  },
  {
   "cell_type": "code",
   "execution_count": 59,
   "metadata": {},
   "outputs": [
    {
     "data": {
      "image/png": "[encoded data removed]",
      "text/plain": [
       "<Figure size 432x288 with 1 Axes>"
      ]
     },
     "metadata": {
      "needs_background": "light"
     },
     "output_type": "display_data"
    }
   ],
   "source": [
    "# total_ram\t\n",
    "upgrades_phoneinfo['total_ram'].value_counts().plot(kind = 'bar')\n",
    "drop_infrequent_categories(upgrades_phoneinfo, ['total_ram'], thresh = 2000)"
   ]
  },
  {
   "cell_type": "code",
   "execution_count": 60,
   "metadata": {},
   "outputs": [],
   "source": [
    "upgrades_phoneinfo['total_ram'].value_counts()"
   ]
  },
  {
   "cell_type": "code",
   "execution_count": 61,
   "metadata": {},
   "outputs": [],
   "source": [
    "drop_infrequent_categories(upgrades_phoneinfo, ['cpu_cores'], thresh = 2000)"
   ]
  },
  {
   "cell_type": "code",
   "execution_count": 62,
   "metadata": {},
   "outputs": [],
   "source": [
    "drop_infrequent_categories(upgrades_phoneinfo, ['gsma_device_type'], thresh = 11000)"
   ]
  },
  {
   "cell_type": "code",
   "execution_count": 63,
   "metadata": {},
   "outputs": [],
   "source": [
    "upgrades_phoneinfo['gsma_operating_system'].replace(['Not Known', 'NONE'], ['none', 'none'], inplace = True)"
   ]
  },
  {
   "cell_type": "code",
   "execution_count": 64,
   "metadata": {},
   "outputs": [],
   "source": [
    "drop_infrequent_categories(upgrades_phoneinfo, ['gsma_operating_system'], thresh = 12000)"
   ]
  },
  {
   "cell_type": "code",
   "execution_count": 65,
   "metadata": {},
   "outputs": [],
   "source": [
    "drop_infrequent_categories(upgrades_phoneinfo, ['internal_storage_capacity'], thresh = 6000)"
   ]
  },
  {
   "cell_type": "code",
   "execution_count": null,
   "metadata": {},
   "outputs": [],
   "source": []
  },
  {
   "cell_type": "code",
   "execution_count": 66,
   "metadata": {},
   "outputs": [],
   "source": [
    "temp1 = pd.get_dummies(upgrades_phoneinfo, columns=['cpu_cores', 'expandable_storage','gsma_device_type','gsma_operating_system','internal_storage_capacity','lte_category','manufacturer','os_name','os_version','total_ram'])"
   ]
  },
  {
   "cell_type": "code",
   "execution_count": 67,
   "metadata": {},
   "outputs": [],
   "source": [
    "temp1.to_csv(root_folder+'sample-notebook/mark-cleaned-final.csv', index=False)"
   ]
  },
  {
   "cell_type": "code",
   "execution_count": 68,
   "metadata": {},
   "outputs": [],
   "source": [
    "test2 = pd.read_csv(root_folder+'sample-notebook/mark-cleaned-final.csv')"
   ]
  },
  {
   "cell_type": "code",
   "execution_count": 69,
   "metadata": {},
   "outputs": [
    {
     "data": {
      "text/html": [
       "<div>\n",
       "<style scoped>\n",
       "    .dataframe tbody tr th:only-of-type {\n",
       "        vertical-align: middle;\n",
       "    }\n",
       "\n",
       "    .dataframe tbody tr th {\n",
       "        vertical-align: top;\n",
       "    }\n",
       "\n",
       "    .dataframe thead th {\n",
       "        text-align: right;\n",
       "    }\n",
       "</style>\n",
       "<table border=\"1\" class=\"dataframe\">\n",
       "  <thead>\n",
       "    <tr style=\"text-align: right;\">\n",
       "      <th></th>\n",
       "      <th>Col</th>\n",
       "      <th>Unique</th>\n",
       "      <th>Missing</th>\n",
       "      <th>Datatype</th>\n",
       "      <th>Most Freq</th>\n",
       "      <th>Least Freq</th>\n",
       "    </tr>\n",
       "  </thead>\n",
       "  <tbody>\n",
       "    <tr>\n",
       "      <th>0</th>\n",
       "      <td>line_id</td>\n",
       "      <td>55868</td>\n",
       "      <td>0.0</td>\n",
       "      <td>object</td>\n",
       "      <td>[ff858d1a-7d07-40bf-ae24-1b78af281535]</td>\n",
       "      <td>[cb1418f2-37dd-4a0e-ae49-2d02e6ac9e0c]</td>\n",
       "    </tr>\n",
       "    <tr>\n",
       "      <th>1</th>\n",
       "      <td>date_observed</td>\n",
       "      <td>5</td>\n",
       "      <td>0.0</td>\n",
       "      <td>object</td>\n",
       "      <td>[2021-03-11]</td>\n",
       "      <td>[2021-03-12]</td>\n",
       "    </tr>\n",
       "    <tr>\n",
       "      <th>2</th>\n",
       "      <td>upgrade</td>\n",
       "      <td>2</td>\n",
       "      <td>0.0</td>\n",
       "      <td>object</td>\n",
       "      <td>[no]</td>\n",
       "      <td>[yes]</td>\n",
       "    </tr>\n",
       "    <tr>\n",
       "      <th>3</th>\n",
       "      <td>sim_size</td>\n",
       "      <td>6</td>\n",
       "      <td>0.0</td>\n",
       "      <td>object</td>\n",
       "      <td>[Nano]</td>\n",
       "      <td>[Micro &amp; Mini]</td>\n",
       "    </tr>\n",
       "    <tr>\n",
       "      <th>4</th>\n",
       "      <td>cpu_cores_2</td>\n",
       "      <td>2</td>\n",
       "      <td>0.0</td>\n",
       "      <td>int64</td>\n",
       "      <td>[0]</td>\n",
       "      <td>[1]</td>\n",
       "    </tr>\n",
       "    <tr>\n",
       "      <th>5</th>\n",
       "      <td>cpu_cores_2+4</td>\n",
       "      <td>2</td>\n",
       "      <td>0.0</td>\n",
       "      <td>int64</td>\n",
       "      <td>[0]</td>\n",
       "      <td>[1]</td>\n",
       "    </tr>\n",
       "    <tr>\n",
       "      <th>6</th>\n",
       "      <td>cpu_cores_4</td>\n",
       "      <td>2</td>\n",
       "      <td>0.0</td>\n",
       "      <td>int64</td>\n",
       "      <td>[0]</td>\n",
       "      <td>[1]</td>\n",
       "    </tr>\n",
       "    <tr>\n",
       "      <th>7</th>\n",
       "      <td>cpu_cores_8</td>\n",
       "      <td>2</td>\n",
       "      <td>0.0</td>\n",
       "      <td>int64</td>\n",
       "      <td>[0]</td>\n",
       "      <td>[1]</td>\n",
       "    </tr>\n",
       "    <tr>\n",
       "      <th>8</th>\n",
       "      <td>cpu_cores_none</td>\n",
       "      <td>2</td>\n",
       "      <td>0.0</td>\n",
       "      <td>int64</td>\n",
       "      <td>[0]</td>\n",
       "      <td>[1]</td>\n",
       "    </tr>\n",
       "    <tr>\n",
       "      <th>9</th>\n",
       "      <td>cpu_cores_other</td>\n",
       "      <td>2</td>\n",
       "      <td>0.0</td>\n",
       "      <td>int64</td>\n",
       "      <td>[0]</td>\n",
       "      <td>[1]</td>\n",
       "    </tr>\n",
       "    <tr>\n",
       "      <th>10</th>\n",
       "      <td>expandable_storage_-1.0</td>\n",
       "      <td>2</td>\n",
       "      <td>0.0</td>\n",
       "      <td>int64</td>\n",
       "      <td>[0]</td>\n",
       "      <td>[1]</td>\n",
       "    </tr>\n",
       "    <tr>\n",
       "      <th>11</th>\n",
       "      <td>expandable_storage_0.0</td>\n",
       "      <td>2</td>\n",
       "      <td>0.0</td>\n",
       "      <td>int64</td>\n",
       "      <td>[0]</td>\n",
       "      <td>[1]</td>\n",
       "    </tr>\n",
       "    <tr>\n",
       "      <th>12</th>\n",
       "      <td>expandable_storage_1.0</td>\n",
       "      <td>2</td>\n",
       "      <td>0.0</td>\n",
       "      <td>int64</td>\n",
       "      <td>[0]</td>\n",
       "      <td>[1]</td>\n",
       "    </tr>\n",
       "    <tr>\n",
       "      <th>13</th>\n",
       "      <td>gsma_device_type_Smartphone</td>\n",
       "      <td>2</td>\n",
       "      <td>0.0</td>\n",
       "      <td>int64</td>\n",
       "      <td>[1]</td>\n",
       "      <td>[0]</td>\n",
       "    </tr>\n",
       "    <tr>\n",
       "      <th>14</th>\n",
       "      <td>gsma_device_type_none</td>\n",
       "      <td>2</td>\n",
       "      <td>0.0</td>\n",
       "      <td>int64</td>\n",
       "      <td>[0]</td>\n",
       "      <td>[1]</td>\n",
       "    </tr>\n",
       "    <tr>\n",
       "      <th>15</th>\n",
       "      <td>gsma_device_type_other</td>\n",
       "      <td>2</td>\n",
       "      <td>0.0</td>\n",
       "      <td>int64</td>\n",
       "      <td>[0]</td>\n",
       "      <td>[1]</td>\n",
       "    </tr>\n",
       "    <tr>\n",
       "      <th>16</th>\n",
       "      <td>gsma_operating_system_Android</td>\n",
       "      <td>2</td>\n",
       "      <td>0.0</td>\n",
       "      <td>int64</td>\n",
       "      <td>[0]</td>\n",
       "      <td>[1]</td>\n",
       "    </tr>\n",
       "    <tr>\n",
       "      <th>17</th>\n",
       "      <td>gsma_operating_system_iOS</td>\n",
       "      <td>2</td>\n",
       "      <td>0.0</td>\n",
       "      <td>int64</td>\n",
       "      <td>[0]</td>\n",
       "      <td>[1]</td>\n",
       "    </tr>\n",
       "    <tr>\n",
       "      <th>18</th>\n",
       "      <td>gsma_operating_system_none</td>\n",
       "      <td>2</td>\n",
       "      <td>0.0</td>\n",
       "      <td>int64</td>\n",
       "      <td>[0]</td>\n",
       "      <td>[1]</td>\n",
       "    </tr>\n",
       "    <tr>\n",
       "      <th>19</th>\n",
       "      <td>gsma_operating_system_other</td>\n",
       "      <td>2</td>\n",
       "      <td>0.0</td>\n",
       "      <td>int64</td>\n",
       "      <td>[0]</td>\n",
       "      <td>[1]</td>\n",
       "    </tr>\n",
       "    <tr>\n",
       "      <th>20</th>\n",
       "      <td>internal_storage_capacity_16</td>\n",
       "      <td>2</td>\n",
       "      <td>0.0</td>\n",
       "      <td>int64</td>\n",
       "      <td>[0]</td>\n",
       "      <td>[1]</td>\n",
       "    </tr>\n",
       "    <tr>\n",
       "      <th>21</th>\n",
       "      <td>internal_storage_capacity_16/32/64/128</td>\n",
       "      <td>2</td>\n",
       "      <td>0.0</td>\n",
       "      <td>int64</td>\n",
       "      <td>[0]</td>\n",
       "      <td>[1]</td>\n",
       "    </tr>\n",
       "    <tr>\n",
       "      <th>22</th>\n",
       "      <td>internal_storage_capacity_32/128/256</td>\n",
       "      <td>2</td>\n",
       "      <td>0.0</td>\n",
       "      <td>int64</td>\n",
       "      <td>[0]</td>\n",
       "      <td>[1]</td>\n",
       "    </tr>\n",
       "    <tr>\n",
       "      <th>23</th>\n",
       "      <td>internal_storage_capacity_none</td>\n",
       "      <td>2</td>\n",
       "      <td>0.0</td>\n",
       "      <td>int64</td>\n",
       "      <td>[0]</td>\n",
       "      <td>[1]</td>\n",
       "    </tr>\n",
       "    <tr>\n",
       "      <th>24</th>\n",
       "      <td>internal_storage_capacity_other</td>\n",
       "      <td>2</td>\n",
       "      <td>0.0</td>\n",
       "      <td>int64</td>\n",
       "      <td>[0]</td>\n",
       "      <td>[1]</td>\n",
       "    </tr>\n",
       "    <tr>\n",
       "      <th>25</th>\n",
       "      <td>lte_category_-1.0</td>\n",
       "      <td>2</td>\n",
       "      <td>0.0</td>\n",
       "      <td>int64</td>\n",
       "      <td>[0]</td>\n",
       "      <td>[1]</td>\n",
       "    </tr>\n",
       "    <tr>\n",
       "      <th>26</th>\n",
       "      <td>lte_category_4.0</td>\n",
       "      <td>2</td>\n",
       "      <td>0.0</td>\n",
       "      <td>int64</td>\n",
       "      <td>[0]</td>\n",
       "      <td>[1]</td>\n",
       "    </tr>\n",
       "    <tr>\n",
       "      <th>27</th>\n",
       "      <td>lte_category_6.0</td>\n",
       "      <td>2</td>\n",
       "      <td>0.0</td>\n",
       "      <td>int64</td>\n",
       "      <td>[0]</td>\n",
       "      <td>[1]</td>\n",
       "    </tr>\n",
       "    <tr>\n",
       "      <th>28</th>\n",
       "      <td>lte_category_9.0</td>\n",
       "      <td>2</td>\n",
       "      <td>0.0</td>\n",
       "      <td>int64</td>\n",
       "      <td>[0]</td>\n",
       "      <td>[1]</td>\n",
       "    </tr>\n",
       "    <tr>\n",
       "      <th>29</th>\n",
       "      <td>lte_category_12.0</td>\n",
       "      <td>2</td>\n",
       "      <td>0.0</td>\n",
       "      <td>int64</td>\n",
       "      <td>[0]</td>\n",
       "      <td>[1]</td>\n",
       "    </tr>\n",
       "    <tr>\n",
       "      <th>30</th>\n",
       "      <td>lte_category_16.0</td>\n",
       "      <td>2</td>\n",
       "      <td>0.0</td>\n",
       "      <td>int64</td>\n",
       "      <td>[0]</td>\n",
       "      <td>[1]</td>\n",
       "    </tr>\n",
       "    <tr>\n",
       "      <th>31</th>\n",
       "      <td>lte_category_other</td>\n",
       "      <td>2</td>\n",
       "      <td>0.0</td>\n",
       "      <td>int64</td>\n",
       "      <td>[0]</td>\n",
       "      <td>[1]</td>\n",
       "    </tr>\n",
       "    <tr>\n",
       "      <th>32</th>\n",
       "      <td>manufacturer_Apple</td>\n",
       "      <td>2</td>\n",
       "      <td>0.0</td>\n",
       "      <td>int64</td>\n",
       "      <td>[0]</td>\n",
       "      <td>[1]</td>\n",
       "    </tr>\n",
       "    <tr>\n",
       "      <th>33</th>\n",
       "      <td>manufacturer_LG</td>\n",
       "      <td>2</td>\n",
       "      <td>0.0</td>\n",
       "      <td>int64</td>\n",
       "      <td>[0]</td>\n",
       "      <td>[1]</td>\n",
       "    </tr>\n",
       "    <tr>\n",
       "      <th>34</th>\n",
       "      <td>manufacturer_Samsung</td>\n",
       "      <td>2</td>\n",
       "      <td>0.0</td>\n",
       "      <td>int64</td>\n",
       "      <td>[0]</td>\n",
       "      <td>[1]</td>\n",
       "    </tr>\n",
       "    <tr>\n",
       "      <th>35</th>\n",
       "      <td>manufacturer_none</td>\n",
       "      <td>2</td>\n",
       "      <td>0.0</td>\n",
       "      <td>int64</td>\n",
       "      <td>[0]</td>\n",
       "      <td>[1]</td>\n",
       "    </tr>\n",
       "    <tr>\n",
       "      <th>36</th>\n",
       "      <td>manufacturer_other</td>\n",
       "      <td>2</td>\n",
       "      <td>0.0</td>\n",
       "      <td>int64</td>\n",
       "      <td>[0]</td>\n",
       "      <td>[1]</td>\n",
       "    </tr>\n",
       "    <tr>\n",
       "      <th>37</th>\n",
       "      <td>os_name_Android</td>\n",
       "      <td>2</td>\n",
       "      <td>0.0</td>\n",
       "      <td>int64</td>\n",
       "      <td>[0]</td>\n",
       "      <td>[1]</td>\n",
       "    </tr>\n",
       "    <tr>\n",
       "      <th>38</th>\n",
       "      <td>os_name_iOS</td>\n",
       "      <td>2</td>\n",
       "      <td>0.0</td>\n",
       "      <td>int64</td>\n",
       "      <td>[0]</td>\n",
       "      <td>[1]</td>\n",
       "    </tr>\n",
       "    <tr>\n",
       "      <th>39</th>\n",
       "      <td>os_name_none</td>\n",
       "      <td>2</td>\n",
       "      <td>0.0</td>\n",
       "      <td>int64</td>\n",
       "      <td>[0]</td>\n",
       "      <td>[1]</td>\n",
       "    </tr>\n",
       "    <tr>\n",
       "      <th>40</th>\n",
       "      <td>os_name_other</td>\n",
       "      <td>2</td>\n",
       "      <td>0.0</td>\n",
       "      <td>int64</td>\n",
       "      <td>[0]</td>\n",
       "      <td>[1]</td>\n",
       "    </tr>\n",
       "    <tr>\n",
       "      <th>41</th>\n",
       "      <td>os_version_10</td>\n",
       "      <td>2</td>\n",
       "      <td>0.0</td>\n",
       "      <td>int64</td>\n",
       "      <td>[0]</td>\n",
       "      <td>[1]</td>\n",
       "    </tr>\n",
       "    <tr>\n",
       "      <th>42</th>\n",
       "      <td>os_version_11</td>\n",
       "      <td>2</td>\n",
       "      <td>0.0</td>\n",
       "      <td>int64</td>\n",
       "      <td>[0]</td>\n",
       "      <td>[1]</td>\n",
       "    </tr>\n",
       "    <tr>\n",
       "      <th>43</th>\n",
       "      <td>os_version_12</td>\n",
       "      <td>2</td>\n",
       "      <td>0.0</td>\n",
       "      <td>int64</td>\n",
       "      <td>[0]</td>\n",
       "      <td>[1]</td>\n",
       "    </tr>\n",
       "    <tr>\n",
       "      <th>44</th>\n",
       "      <td>os_version_6.0.1</td>\n",
       "      <td>2</td>\n",
       "      <td>0.0</td>\n",
       "      <td>int64</td>\n",
       "      <td>[0]</td>\n",
       "      <td>[1]</td>\n",
       "    </tr>\n",
       "    <tr>\n",
       "      <th>45</th>\n",
       "      <td>os_version_7</td>\n",
       "      <td>2</td>\n",
       "      <td>0.0</td>\n",
       "      <td>int64</td>\n",
       "      <td>[0]</td>\n",
       "      <td>[1]</td>\n",
       "    </tr>\n",
       "    <tr>\n",
       "      <th>46</th>\n",
       "      <td>os_version_8</td>\n",
       "      <td>2</td>\n",
       "      <td>0.0</td>\n",
       "      <td>int64</td>\n",
       "      <td>[0]</td>\n",
       "      <td>[1]</td>\n",
       "    </tr>\n",
       "    <tr>\n",
       "      <th>47</th>\n",
       "      <td>os_version_8.1</td>\n",
       "      <td>2</td>\n",
       "      <td>0.0</td>\n",
       "      <td>int64</td>\n",
       "      <td>[0]</td>\n",
       "      <td>[1]</td>\n",
       "    </tr>\n",
       "    <tr>\n",
       "      <th>48</th>\n",
       "      <td>os_version_9</td>\n",
       "      <td>2</td>\n",
       "      <td>0.0</td>\n",
       "      <td>int64</td>\n",
       "      <td>[0]</td>\n",
       "      <td>[1]</td>\n",
       "    </tr>\n",
       "    <tr>\n",
       "      <th>49</th>\n",
       "      <td>os_version_none</td>\n",
       "      <td>2</td>\n",
       "      <td>0.0</td>\n",
       "      <td>int64</td>\n",
       "      <td>[0]</td>\n",
       "      <td>[1]</td>\n",
       "    </tr>\n",
       "    <tr>\n",
       "      <th>50</th>\n",
       "      <td>os_version_other</td>\n",
       "      <td>2</td>\n",
       "      <td>0.0</td>\n",
       "      <td>int64</td>\n",
       "      <td>[0]</td>\n",
       "      <td>[1]</td>\n",
       "    </tr>\n",
       "    <tr>\n",
       "      <th>51</th>\n",
       "      <td>total_ram_1024</td>\n",
       "      <td>2</td>\n",
       "      <td>0.0</td>\n",
       "      <td>int64</td>\n",
       "      <td>[0]</td>\n",
       "      <td>[1]</td>\n",
       "    </tr>\n",
       "    <tr>\n",
       "      <th>52</th>\n",
       "      <td>total_ram_2048</td>\n",
       "      <td>2</td>\n",
       "      <td>0.0</td>\n",
       "      <td>int64</td>\n",
       "      <td>[0]</td>\n",
       "      <td>[1]</td>\n",
       "    </tr>\n",
       "    <tr>\n",
       "      <th>53</th>\n",
       "      <td>total_ram_3072</td>\n",
       "      <td>2</td>\n",
       "      <td>0.0</td>\n",
       "      <td>int64</td>\n",
       "      <td>[0]</td>\n",
       "      <td>[1]</td>\n",
       "    </tr>\n",
       "    <tr>\n",
       "      <th>54</th>\n",
       "      <td>total_ram_4096</td>\n",
       "      <td>2</td>\n",
       "      <td>0.0</td>\n",
       "      <td>int64</td>\n",
       "      <td>[0]</td>\n",
       "      <td>[1]</td>\n",
       "    </tr>\n",
       "    <tr>\n",
       "      <th>55</th>\n",
       "      <td>total_ram_none</td>\n",
       "      <td>2</td>\n",
       "      <td>0.0</td>\n",
       "      <td>int64</td>\n",
       "      <td>[0]</td>\n",
       "      <td>[1]</td>\n",
       "    </tr>\n",
       "    <tr>\n",
       "      <th>56</th>\n",
       "      <td>total_ram_other</td>\n",
       "      <td>2</td>\n",
       "      <td>0.0</td>\n",
       "      <td>int64</td>\n",
       "      <td>[0]</td>\n",
       "      <td>[1]</td>\n",
       "    </tr>\n",
       "  </tbody>\n",
       "</table>\n",
       "</div>"
      ],
      "text/plain": [
       "                                       Col  Unique  Missing Datatype  \\\n",
       "0                                  line_id   55868      0.0   object   \n",
       "1                            date_observed       5      0.0   object   \n",
       "2                                  upgrade       2      0.0   object   \n",
       "3                                 sim_size       6      0.0   object   \n",
       "4                              cpu_cores_2       2      0.0    int64   \n",
       "5                            cpu_cores_2+4       2      0.0    int64   \n",
       "6                              cpu_cores_4       2      0.0    int64   \n",
       "7                              cpu_cores_8       2      0.0    int64   \n",
       "8                           cpu_cores_none       2      0.0    int64   \n",
       "9                          cpu_cores_other       2      0.0    int64   \n",
       "10                 expandable_storage_-1.0       2      0.0    int64   \n",
       "11                  expandable_storage_0.0       2      0.0    int64   \n",
       "12                  expandable_storage_1.0       2      0.0    int64   \n",
       "13             gsma_device_type_Smartphone       2      0.0    int64   \n",
       "14                   gsma_device_type_none       2      0.0    int64   \n",
       "15                  gsma_device_type_other       2      0.0    int64   \n",
       "16           gsma_operating_system_Android       2      0.0    int64   \n",
       "17               gsma_operating_system_iOS       2      0.0    int64   \n",
       "18              gsma_operating_system_none       2      0.0    int64   \n",
       "19             gsma_operating_system_other       2      0.0    int64   \n",
       "20            internal_storage_capacity_16       2      0.0    int64   \n",
       "21  internal_storage_capacity_16/32/64/128       2      0.0    int64   \n",
       "22    internal_storage_capacity_32/128/256       2      0.0    int64   \n",
       "23          internal_storage_capacity_none       2      0.0    int64   \n",
       "24         internal_storage_capacity_other       2      0.0    int64   \n",
       "25                       lte_category_-1.0       2      0.0    int64   \n",
       "26                        lte_category_4.0       2      0.0    int64   \n",
       "27                        lte_category_6.0       2      0.0    int64   \n",
       "28                        lte_category_9.0       2      0.0    int64   \n",
       "29                       lte_category_12.0       2      0.0    int64   \n",
       "30                       lte_category_16.0       2      0.0    int64   \n",
       "31                      lte_category_other       2      0.0    int64   \n",
       "32                      manufacturer_Apple       2      0.0    int64   \n",
       "33                         manufacturer_LG       2      0.0    int64   \n",
       "34                    manufacturer_Samsung       2      0.0    int64   \n",
       "35                       manufacturer_none       2      0.0    int64   \n",
       "36                      manufacturer_other       2      0.0    int64   \n",
       "37                         os_name_Android       2      0.0    int64   \n",
       "38                             os_name_iOS       2      0.0    int64   \n",
       "39                            os_name_none       2      0.0    int64   \n",
       "40                           os_name_other       2      0.0    int64   \n",
       "41                           os_version_10       2      0.0    int64   \n",
       "42                           os_version_11       2      0.0    int64   \n",
       "43                           os_version_12       2      0.0    int64   \n",
       "44                        os_version_6.0.1       2      0.0    int64   \n",
       "45                            os_version_7       2      0.0    int64   \n",
       "46                            os_version_8       2      0.0    int64   \n",
       "47                          os_version_8.1       2      0.0    int64   \n",
       "48                            os_version_9       2      0.0    int64   \n",
       "49                         os_version_none       2      0.0    int64   \n",
       "50                        os_version_other       2      0.0    int64   \n",
       "51                          total_ram_1024       2      0.0    int64   \n",
       "52                          total_ram_2048       2      0.0    int64   \n",
       "53                          total_ram_3072       2      0.0    int64   \n",
       "54                          total_ram_4096       2      0.0    int64   \n",
       "55                          total_ram_none       2      0.0    int64   \n",
       "56                         total_ram_other       2      0.0    int64   \n",
       "\n",
       "                                 Most Freq  \\\n",
       "0   [ff858d1a-7d07-40bf-ae24-1b78af281535]   \n",
       "1                             [2021-03-11]   \n",
       "2                                     [no]   \n",
       "3                                   [Nano]   \n",
       "4                                      [0]   \n",
       "5                                      [0]   \n",
       "6                                      [0]   \n",
       "7                                      [0]   \n",
       "8                                      [0]   \n",
       "9                                      [0]   \n",
       "10                                     [0]   \n",
       "11                                     [0]   \n",
       "12                                     [0]   \n",
       "13                                     [1]   \n",
       "14                                     [0]   \n",
       "15                                     [0]   \n",
       "16                                     [0]   \n",
       "17                                     [0]   \n",
       "18                                     [0]   \n",
       "19                                     [0]   \n",
       "20                                     [0]   \n",
       "21                                     [0]   \n",
       "22                                     [0]   \n",
       "23                                     [0]   \n",
       "24                                     [0]   \n",
       "25                                     [0]   \n",
       "26                                     [0]   \n",
       "27                                     [0]   \n",
       "28                                     [0]   \n",
       "29                                     [0]   \n",
       "30                                     [0]   \n",
       "31                                     [0]   \n",
       "32                                     [0]   \n",
       "33                                     [0]   \n",
       "34                                     [0]   \n",
       "35                                     [0]   \n",
       "36                                     [0]   \n",
       "37                                     [0]   \n",
       "38                                     [0]   \n",
       "39                                     [0]   \n",
       "40                                     [0]   \n",
       "41                                     [0]   \n",
       "42                                     [0]   \n",
       "43                                     [0]   \n",
       "44                                     [0]   \n",
       "45                                     [0]   \n",
       "46                                     [0]   \n",
       "47                                     [0]   \n",
       "48                                     [0]   \n",
       "49                                     [0]   \n",
       "50                                     [0]   \n",
       "51                                     [0]   \n",
       "52                                     [0]   \n",
       "53                                     [0]   \n",
       "54                                     [0]   \n",
       "55                                     [0]   \n",
       "56                                     [0]   \n",
       "\n",
       "                                Least Freq  \n",
       "0   [cb1418f2-37dd-4a0e-ae49-2d02e6ac9e0c]  \n",
       "1                             [2021-03-12]  \n",
       "2                                    [yes]  \n",
       "3                           [Micro & Mini]  \n",
       "4                                      [1]  \n",
       "5                                      [1]  \n",
       "6                                      [1]  \n",
       "7                                      [1]  \n",
       "8                                      [1]  \n",
       "9                                      [1]  \n",
       "10                                     [1]  \n",
       "11                                     [1]  \n",
       "12                                     [1]  \n",
       "13                                     [0]  \n",
       "14                                     [1]  \n",
       "15                                     [1]  \n",
       "16                                     [1]  \n",
       "17                                     [1]  \n",
       "18                                     [1]  \n",
       "19                                     [1]  \n",
       "20                                     [1]  \n",
       "21                                     [1]  \n",
       "22                                     [1]  \n",
       "23                                     [1]  \n",
       "24                                     [1]  \n",
       "25                                     [1]  \n",
       "26                                     [1]  \n",
       "27                                     [1]  \n",
       "28                                     [1]  \n",
       "29                                     [1]  \n",
       "30                                     [1]  \n",
       "31                                     [1]  \n",
       "32                                     [1]  \n",
       "33                                     [1]  \n",
       "34                                     [1]  \n",
       "35                                     [1]  \n",
       "36                                     [1]  \n",
       "37                                     [1]  \n",
       "38                                     [1]  \n",
       "39                                     [1]  \n",
       "40                                     [1]  \n",
       "41                                     [1]  \n",
       "42                                     [1]  \n",
       "43                                     [1]  \n",
       "44                                     [1]  \n",
       "45                                     [1]  \n",
       "46                                     [1]  \n",
       "47                                     [1]  \n",
       "48                                     [1]  \n",
       "49                                     [1]  \n",
       "50                                     [1]  \n",
       "51                                     [1]  \n",
       "52                                     [1]  \n",
       "53                                     [1]  \n",
       "54                                     [1]  \n",
       "55                                     [1]  \n",
       "56                                     [1]  "
      ]
     },
     "execution_count": 69,
     "metadata": {},
     "output_type": "execute_result"
    }
   ],
   "source": [
    "CreateVariableSummary(test2)"
   ]
  }
 ],
 "metadata": {
  "kernelspec": {
   "display_name": "Python 3",
   "language": "python",
   "name": "python3"
  },
  "language_info": {
   "codemirror_mode": {
    "name": "ipython",
    "version": 3
   },
   "file_extension": ".py",
   "mimetype": "text/x-python",
   "name": "python",
   "nbconvert_exporter": "python",
   "pygments_lexer": "ipython3",
   "version": "3.7.6"
  },
  "toc": {
   "base_numbering": 1,
   "nav_menu": {},
   "number_sections": true,
   "sideBar": true,
   "skip_h1_title": false,
   "title_cell": "Table of Contents",
   "title_sidebar": "Contents",
   "toc_cell": false,
   "toc_position": {},
   "toc_section_display": true,
   "toc_window_display": false
  },
  "varInspector": {
   "cols": {
    "lenName": 16,
    "lenType": 16,
    "lenVar": 40
   },
   "kernels_config": {
    "python": {
     "delete_cmd_postfix": "",
     "delete_cmd_prefix": "del ",
     "library": "var_list.py",
     "varRefreshCmd": "print(var_dic_list())"
    },
    "r": {
     "delete_cmd_postfix": ") ",
     "delete_cmd_prefix": "rm(",
     "library": "var_list.r",
     "varRefreshCmd": "cat(var_dic_list()) "
    }
   },
   "types_to_exclude": [
    "module",
    "function",
    "builtin_function_or_method",
    "instance",
    "_Feature"
   ],
   "window_display": false
  }
 },
 "nbformat": 4,
 "nbformat_minor": 4
}
